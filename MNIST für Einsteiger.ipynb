{
 "cells": [
  {
   "cell_type": "code",
   "execution_count": 1,
   "metadata": {},
   "outputs": [
    {
     "name": "stderr",
     "output_type": "stream",
     "text": [
      "Using TensorFlow backend.\n"
     ]
    }
   ],
   "source": [
    "from keras.datasets import mnist\n",
    "from keras.models import Sequential\n",
    "from keras.layers import Dense, Flatten, Dropout\n",
    "from keras.layers import Conv2D, MaxPooling2D\n",
    "from keras.utils import to_categorical\n",
    "from keras.losses import categorical_crossentropy\n",
    "from keras.optimizers import Adam\n",
    "import keras.backend as K"
   ]
  },
  {
   "cell_type": "code",
   "execution_count": 2,
   "metadata": {},
   "outputs": [],
   "source": [
    "train_da, test_da = mnist.load_data()\n",
    "x_train, y_train = train_da \n",
    "x_test, y_test = test_da"
   ]
  },
  {
   "cell_type": "code",
   "execution_count": 3,
   "metadata": {},
   "outputs": [
    {
     "name": "stdout",
     "output_type": "stream",
     "text": [
      "5 0 4 1\n",
      "9 2 1 3\n",
      "1 4 3 5\n",
      "3 6 1 7\n"
     ]
    },
    {
     "data": {
      "image/png": "[encoded data removed]",
      "text/plain": [
       "<PIL.Image.Image image mode=L size=896x896 at 0x7F484220E7F0>"
      ]
     },
     "execution_count": 3,
     "metadata": {},
     "output_type": "execute_result"
    }
   ],
   "source": [
    "from IPython.display import Image\n",
    "from PIL import Image\n",
    "import numpy as np\n",
    "a = np.concatenate(x_train[0:4], axis=1)\n",
    "print(\" \".join([str(x) for x in y_train[0:4]]))\n",
    "for i in range(3):\n",
    "    a = np.concatenate([a, np.concatenate(x_train[4+i*4:8+i*4], axis=1)], axis=0)\n",
    "    print(\" \".join([str(x) for x in y_train[4+i*4:8+i*4]]))\n",
    "img = Image.fromarray(a, 'L')\n",
    "img.resize((896, 896), Image.NEAREST)"
   ]
  },
  {
   "cell_type": "code",
   "execution_count": 4,
   "metadata": {},
   "outputs": [],
   "source": [
    "data_format = K.image_data_format()\n",
    "rows, cols = 28, 28\n",
    "num_classes = 10\n",
    "train_size = x_train.shape[0]\n",
    "test_size = x_test.shape[0]\n",
    "\n",
    "if data_format == 'channels_first':\n",
    "    x_train = x_train.reshape(train_size, 1, rows, cols)\n",
    "    x_test = x_test.reshape(test_size, 1, rows, cols)\n",
    "    input_shape = (1, rows, cols)\n",
    "else:\n",
    "    x_train = x_train.reshape(train_size, rows, cols, 1)\n",
    "    x_test = x_test.reshape(test_size, rows, cols, 1)\n",
    "    input_shape = (rows, cols, 1)\n",
    "    \n",
    "# norm data to float in range 0..1\n",
    "x_train = x_train.astype('float32')\n",
    "x_test = x_test.astype('float32')\n",
    "x_train /= 255\n",
    "x_test /= 255\n",
    "\n",
    "# convert class vectors to one hot vector\n",
    "y_train = to_categorical(y_train, 10)\n",
    "y_test = to_categorical(y_test, 10)"
   ]
  },
  {
   "cell_type": "code",
   "execution_count": 5,
   "metadata": {},
   "outputs": [],
   "source": [
    "x_train = x_train[:100]\n",
    "y_train = y_train[:100]"
   ]
  },
  {
   "cell_type": "code",
   "execution_count": 6,
   "metadata": {},
   "outputs": [
    {
     "name": "stdout",
     "output_type": "stream",
     "text": [
      "WARNING:tensorflow:From /home/jme/Code/Sacred-MNIST/env/lib/python3.6/site-packages/tensorflow/python/framework/op_def_library.py:263: colocate_with (from tensorflow.python.framework.ops) is deprecated and will be removed in a future version.\n",
      "Instructions for updating:\n",
      "Colocations handled automatically by placer.\n",
      "_________________________________________________________________\n",
      "Layer (type)                 Output Shape              Param #   \n",
      "=================================================================\n",
      "flatten_1 (Flatten)          (None, 784)               0         \n",
      "_________________________________________________________________\n",
      "dense_1 (Dense)              (None, 10)                7850      \n",
      "=================================================================\n",
      "Total params: 7,850\n",
      "Trainable params: 7,850\n",
      "Non-trainable params: 0\n",
      "_________________________________________________________________\n",
      "None\n"
     ]
    }
   ],
   "source": [
    "model = Sequential()\n",
    "model.add(Flatten(input_shape=input_shape))\n",
    "model.add(Dense(num_classes, activation='softmax'))\n",
    "print(model.summary())"
   ]
  },
  {
   "cell_type": "code",
   "execution_count": 7,
   "metadata": {},
   "outputs": [
    {
     "data": {
      "image/svg+xml": [
       "<svg height=\"211pt\" viewBox=\"0.00 0.00 284.00 211.00\" width=\"284pt\" xmlns=\"http://www.w3.org/2000/svg\" xmlns:xlink=\"http://www.w3.org/1999/xlink\">\n",
       "<g class=\"graph\" id=\"graph0\" transform=\"scale(1 1) rotate(0) translate(4 207)\">\n",
       "<title>G</title>\n",
       "<polygon fill=\"#ffffff\" points=\"-4,4 -4,-207 280,-207 280,4 -4,4\" stroke=\"transparent\"/>\n",
       "<!-- 139948323748832 -->\n",
       "<g class=\"node\" id=\"node1\">\n",
       "<title>139948323748832</title>\n",
       "<polygon fill=\"none\" points=\"0,-83.5 0,-129.5 276,-129.5 276,-83.5 0,-83.5\" stroke=\"#000000\"/>\n",
       "<text fill=\"#000000\" font-family=\"Times,serif\" font-size=\"14.00\" text-anchor=\"middle\" x=\"55\" y=\"-102.8\">flatten_1: Flatten</text>\n",
       "<polyline fill=\"none\" points=\"110,-83.5 110,-129.5 \" stroke=\"#000000\"/>\n",
       "<text fill=\"#000000\" font-family=\"Times,serif\" font-size=\"14.00\" text-anchor=\"middle\" x=\"137.5\" y=\"-114.3\">input:</text>\n",
       "<polyline fill=\"none\" points=\"110,-106.5 165,-106.5 \" stroke=\"#000000\"/>\n",
       "<text fill=\"#000000\" font-family=\"Times,serif\" font-size=\"14.00\" text-anchor=\"middle\" x=\"137.5\" y=\"-91.3\">output:</text>\n",
       "<polyline fill=\"none\" points=\"165,-83.5 165,-129.5 \" stroke=\"#000000\"/>\n",
       "<text fill=\"#000000\" font-family=\"Times,serif\" font-size=\"14.00\" text-anchor=\"middle\" x=\"220.5\" y=\"-114.3\">(None, 28, 28, 1)</text>\n",
       "<polyline fill=\"none\" points=\"165,-106.5 276,-106.5 \" stroke=\"#000000\"/>\n",
       "<text fill=\"#000000\" font-family=\"Times,serif\" font-size=\"14.00\" text-anchor=\"middle\" x=\"220.5\" y=\"-91.3\">(None, 784)</text>\n",
       "</g>\n",
       "<!-- 139948323748216 -->\n",
       "<g class=\"node\" id=\"node2\">\n",
       "<title>139948323748216</title>\n",
       "<polygon fill=\"none\" points=\"18,-.5 18,-46.5 258,-46.5 258,-.5 18,-.5\" stroke=\"#000000\"/>\n",
       "<text fill=\"#000000\" font-family=\"Times,serif\" font-size=\"14.00\" text-anchor=\"middle\" x=\"69\" y=\"-19.8\">dense_1: Dense</text>\n",
       "<polyline fill=\"none\" points=\"120,-.5 120,-46.5 \" stroke=\"#000000\"/>\n",
       "<text fill=\"#000000\" font-family=\"Times,serif\" font-size=\"14.00\" text-anchor=\"middle\" x=\"147.5\" y=\"-31.3\">input:</text>\n",
       "<polyline fill=\"none\" points=\"120,-23.5 175,-23.5 \" stroke=\"#000000\"/>\n",
       "<text fill=\"#000000\" font-family=\"Times,serif\" font-size=\"14.00\" text-anchor=\"middle\" x=\"147.5\" y=\"-8.3\">output:</text>\n",
       "<polyline fill=\"none\" points=\"175,-.5 175,-46.5 \" stroke=\"#000000\"/>\n",
       "<text fill=\"#000000\" font-family=\"Times,serif\" font-size=\"14.00\" text-anchor=\"middle\" x=\"216.5\" y=\"-31.3\">(None, 784)</text>\n",
       "<polyline fill=\"none\" points=\"175,-23.5 258,-23.5 \" stroke=\"#000000\"/>\n",
       "<text fill=\"#000000\" font-family=\"Times,serif\" font-size=\"14.00\" text-anchor=\"middle\" x=\"216.5\" y=\"-8.3\">(None, 10)</text>\n",
       "</g>\n",
       "<!-- 139948323748832&#45;&gt;139948323748216 -->\n",
       "<g class=\"edge\" id=\"edge2\">\n",
       "<title>139948323748832-&gt;139948323748216</title>\n",
       "<path d=\"M138,-83.3799C138,-75.1745 138,-65.7679 138,-56.8786\" fill=\"none\" stroke=\"#000000\"/>\n",
       "<polygon fill=\"#000000\" points=\"141.5001,-56.784 138,-46.784 134.5001,-56.784 141.5001,-56.784\" stroke=\"#000000\"/>\n",
       "</g>\n",
       "<!-- 139948323823800 -->\n",
       "<g class=\"node\" id=\"node3\">\n",
       "<title>139948323823800</title>\n",
       "<polygon fill=\"none\" points=\"79,-166.5 79,-202.5 197,-202.5 197,-166.5 79,-166.5\" stroke=\"#000000\"/>\n",
       "<text fill=\"#000000\" font-family=\"Times,serif\" font-size=\"14.00\" text-anchor=\"middle\" x=\"138\" y=\"-180.8\">139948323823800</text>\n",
       "</g>\n",
       "<!-- 139948323823800&#45;&gt;139948323748832 -->\n",
       "<g class=\"edge\" id=\"edge1\">\n",
       "<title>139948323823800-&gt;139948323748832</title>\n",
       "<path d=\"M138,-166.4092C138,-158.4308 138,-148.795 138,-139.606\" fill=\"none\" stroke=\"#000000\"/>\n",
       "<polygon fill=\"#000000\" points=\"141.5001,-139.5333 138,-129.5333 134.5001,-139.5334 141.5001,-139.5333\" stroke=\"#000000\"/>\n",
       "</g>\n",
       "</g>\n",
       "</svg>"
      ],
      "text/plain": [
       "<IPython.core.display.SVG object>"
      ]
     },
     "execution_count": 7,
     "metadata": {},
     "output_type": "execute_result"
    }
   ],
   "source": [
    "from IPython.display import SVG\n",
    "from keras.utils.vis_utils import model_to_dot\n",
    "\n",
    "SVG(model_to_dot(model, show_shapes=True).create(prog='dot', format='svg'))"
   ]
  },
  {
   "cell_type": "code",
   "execution_count": 8,
   "metadata": {},
   "outputs": [],
   "source": [
    "model.compile(loss=categorical_crossentropy,\n",
    "              optimizer=Adam(),\n",
    "              metrics=['accuracy'])"
   ]
  },
  {
   "cell_type": "code",
   "execution_count": 9,
   "metadata": {},
   "outputs": [],
   "source": [
    "batch_size = 128\n",
    "epochs = 20"
   ]
  },
  {
   "cell_type": "code",
   "execution_count": 10,
   "metadata": {},
   "outputs": [
    {
     "name": "stdout",
     "output_type": "stream",
     "text": [
      "WARNING:tensorflow:From /home/jme/Code/Sacred-MNIST/env/lib/python3.6/site-packages/tensorflow/python/ops/math_ops.py:3066: to_int32 (from tensorflow.python.ops.math_ops) is deprecated and will be removed in a future version.\n",
      "Instructions for updating:\n",
      "Use tf.cast instead.\n",
      "Train on 100 samples, validate on 10000 samples\n",
      "Epoch 1/20\n",
      "100/100 [==============================] - 0s 1ms/step - loss: 2.3515 - acc: 0.0600 - val_loss: 2.3473 - val_acc: 0.0720\n",
      "Epoch 2/20\n",
      "100/100 [==============================] - 0s 326us/step - loss: 2.2814 - acc: 0.1000 - val_loss: 2.3072 - val_acc: 0.0933\n",
      "Epoch 3/20\n",
      "100/100 [==============================] - 0s 355us/step - loss: 2.2141 - acc: 0.1600 - val_loss: 2.2692 - val_acc: 0.1174\n",
      "Epoch 4/20\n",
      "100/100 [==============================] - 0s 426us/step - loss: 2.1493 - acc: 0.1900 - val_loss: 2.2332 - val_acc: 0.1373\n",
      "Epoch 5/20\n",
      "100/100 [==============================] - 0s 490us/step - loss: 2.0870 - acc: 0.2300 - val_loss: 2.1990 - val_acc: 0.1569\n",
      "Epoch 6/20\n",
      "100/100 [==============================] - 0s 521us/step - loss: 2.0271 - acc: 0.2400 - val_loss: 2.1663 - val_acc: 0.1778\n",
      "Epoch 7/20\n",
      "100/100 [==============================] - 0s 433us/step - loss: 1.9694 - acc: 0.2900 - val_loss: 2.1349 - val_acc: 0.2000\n",
      "Epoch 8/20\n",
      "100/100 [==============================] - 0s 370us/step - loss: 1.9136 - acc: 0.3000 - val_loss: 2.1045 - val_acc: 0.2207\n",
      "Epoch 9/20\n",
      "100/100 [==============================] - 0s 388us/step - loss: 1.8598 - acc: 0.3300 - val_loss: 2.0749 - val_acc: 0.2444\n",
      "Epoch 10/20\n",
      "100/100 [==============================] - 0s 415us/step - loss: 1.8077 - acc: 0.4100 - val_loss: 2.0461 - val_acc: 0.2691\n",
      "Epoch 11/20\n",
      "100/100 [==============================] - 0s 435us/step - loss: 1.7571 - acc: 0.4800 - val_loss: 2.0179 - val_acc: 0.2960\n",
      "Epoch 12/20\n",
      "100/100 [==============================] - 0s 476us/step - loss: 1.7081 - acc: 0.5600 - val_loss: 1.9902 - val_acc: 0.3187\n",
      "Epoch 13/20\n",
      "100/100 [==============================] - 0s 438us/step - loss: 1.6605 - acc: 0.5800 - val_loss: 1.9631 - val_acc: 0.3436\n",
      "Epoch 14/20\n",
      "100/100 [==============================] - 0s 407us/step - loss: 1.6142 - acc: 0.6100 - val_loss: 1.9363 - val_acc: 0.3662\n",
      "Epoch 15/20\n",
      "100/100 [==============================] - 0s 353us/step - loss: 1.5693 - acc: 0.6500 - val_loss: 1.9100 - val_acc: 0.3928\n",
      "Epoch 16/20\n",
      "100/100 [==============================] - 0s 364us/step - loss: 1.5256 - acc: 0.6500 - val_loss: 1.8842 - val_acc: 0.4147\n",
      "Epoch 17/20\n",
      "100/100 [==============================] - 0s 366us/step - loss: 1.4832 - acc: 0.6900 - val_loss: 1.8589 - val_acc: 0.4319\n",
      "Epoch 18/20\n",
      "100/100 [==============================] - 0s 421us/step - loss: 1.4421 - acc: 0.7100 - val_loss: 1.8341 - val_acc: 0.4522\n",
      "Epoch 19/20\n",
      "100/100 [==============================] - 0s 448us/step - loss: 1.4022 - acc: 0.7200 - val_loss: 1.8099 - val_acc: 0.4700\n",
      "Epoch 20/20\n",
      "100/100 [==============================] - 0s 472us/step - loss: 1.3634 - acc: 0.7200 - val_loss: 1.7862 - val_acc: 0.4860\n"
     ]
    }
   ],
   "source": [
    "history = model.fit(\n",
    "    x_train, y_train,\n",
    "    batch_size=batch_size,\n",
    "    epochs=epochs,\n",
    "    verbose=1,\n",
    "    validation_data=(x_test, y_test)\n",
    ")"
   ]
  },
  {
   "cell_type": "code",
   "execution_count": 11,
   "metadata": {},
   "outputs": [
    {
     "name": "stdout",
     "output_type": "stream",
     "text": [
      "Test loss: 1.7862031127929687\n",
      "Test accuracy: 0.486\n"
     ]
    }
   ],
   "source": [
    "score = model.evaluate(x_test, y_test, verbose=0)\n",
    "print('Test loss:', score[0])\n",
    "print('Test accuracy:', score[1])"
   ]
  },
  {
   "cell_type": "code",
   "execution_count": 12,
   "metadata": {},
   "outputs": [
    {
     "name": "stdout",
     "output_type": "stream",
     "text": [
      "    Epoche                  Legende      Loss\n",
      "0        0  Loss auf Trainingsdaten  2.351537\n",
      "1        1  Loss auf Trainingsdaten  2.281437\n",
      "2        2  Loss auf Trainingsdaten  2.214054\n",
      "3        3  Loss auf Trainingsdaten  2.149289\n",
      "4        4  Loss auf Trainingsdaten  2.087018\n",
      "5        5  Loss auf Trainingsdaten  2.027094\n",
      "6        6  Loss auf Trainingsdaten  1.969358\n",
      "7        7  Loss auf Trainingsdaten  1.913643\n",
      "8        8  Loss auf Trainingsdaten  1.859793\n",
      "9        9  Loss auf Trainingsdaten  1.807665\n",
      "10      10  Loss auf Trainingsdaten  1.757137\n",
      "11      11  Loss auf Trainingsdaten  1.708108\n",
      "12      12  Loss auf Trainingsdaten  1.660497\n",
      "13      13  Loss auf Trainingsdaten  1.614244\n",
      "14      14  Loss auf Trainingsdaten  1.569303\n",
      "15      15  Loss auf Trainingsdaten  1.525644\n",
      "16      16  Loss auf Trainingsdaten  1.483243\n",
      "17      17  Loss auf Trainingsdaten  1.442084\n",
      "18      18  Loss auf Trainingsdaten  1.402152\n",
      "19      19  Loss auf Trainingsdaten  1.363433\n",
      "20       0       Loss auf Testdaten  2.347342\n",
      "21       1       Loss auf Testdaten  2.307163\n",
      "22       2       Loss auf Testdaten  2.269201\n",
      "23       3       Loss auf Testdaten  2.233247\n",
      "24       4       Loss auf Testdaten  2.199042\n",
      "25       5       Loss auf Testdaten  2.166327\n",
      "26       6       Loss auf Testdaten  2.134869\n",
      "27       7       Loss auf Testdaten  2.104461\n",
      "28       8       Loss auf Testdaten  2.074925\n",
      "29       9       Loss auf Testdaten  2.046114\n",
      "30      10       Loss auf Testdaten  2.017915\n",
      "31      11       Loss auf Testdaten  1.990246\n",
      "32      12       Loss auf Testdaten  1.963057\n",
      "33      13       Loss auf Testdaten  1.936326\n",
      "34      14       Loss auf Testdaten  1.910049\n",
      "35      15       Loss auf Testdaten  1.884240\n",
      "36      16       Loss auf Testdaten  1.858921\n",
      "37      17       Loss auf Testdaten  1.834123\n",
      "38      18       Loss auf Testdaten  1.809874\n",
      "39      19       Loss auf Testdaten  1.786203\n",
      "    Epoche                      Legende  Accuracy\n",
      "0        0  Accuracy auf Trainingsdaten    0.0600\n",
      "1        1  Accuracy auf Trainingsdaten    0.1000\n",
      "2        2  Accuracy auf Trainingsdaten    0.1600\n",
      "3        3  Accuracy auf Trainingsdaten    0.1900\n",
      "4        4  Accuracy auf Trainingsdaten    0.2300\n",
      "5        5  Accuracy auf Trainingsdaten    0.2400\n",
      "6        6  Accuracy auf Trainingsdaten    0.2900\n",
      "7        7  Accuracy auf Trainingsdaten    0.3000\n",
      "8        8  Accuracy auf Trainingsdaten    0.3300\n",
      "9        9  Accuracy auf Trainingsdaten    0.4100\n",
      "10      10  Accuracy auf Trainingsdaten    0.4800\n",
      "11      11  Accuracy auf Trainingsdaten    0.5600\n",
      "12      12  Accuracy auf Trainingsdaten    0.5800\n",
      "13      13  Accuracy auf Trainingsdaten    0.6100\n",
      "14      14  Accuracy auf Trainingsdaten    0.6500\n",
      "15      15  Accuracy auf Trainingsdaten    0.6500\n",
      "16      16  Accuracy auf Trainingsdaten    0.6900\n",
      "17      17  Accuracy auf Trainingsdaten    0.7100\n",
      "18      18  Accuracy auf Trainingsdaten    0.7200\n",
      "19      19  Accuracy auf Trainingsdaten    0.7200\n",
      "20       0       Accuracy auf Testdaten    0.0720\n",
      "21       1       Accuracy auf Testdaten    0.0933\n",
      "22       2       Accuracy auf Testdaten    0.1174\n",
      "23       3       Accuracy auf Testdaten    0.1373\n",
      "24       4       Accuracy auf Testdaten    0.1569\n",
      "25       5       Accuracy auf Testdaten    0.1778\n",
      "26       6       Accuracy auf Testdaten    0.2000\n",
      "27       7       Accuracy auf Testdaten    0.2207\n",
      "28       8       Accuracy auf Testdaten    0.2444\n",
      "29       9       Accuracy auf Testdaten    0.2691\n",
      "30      10       Accuracy auf Testdaten    0.2960\n",
      "31      11       Accuracy auf Testdaten    0.3187\n",
      "32      12       Accuracy auf Testdaten    0.3436\n",
      "33      13       Accuracy auf Testdaten    0.3662\n",
      "34      14       Accuracy auf Testdaten    0.3928\n",
      "35      15       Accuracy auf Testdaten    0.4147\n",
      "36      16       Accuracy auf Testdaten    0.4319\n",
      "37      17       Accuracy auf Testdaten    0.4522\n",
      "38      18       Accuracy auf Testdaten    0.4700\n",
      "39      19       Accuracy auf Testdaten    0.4860\n"
     ]
    }
   ],
   "source": [
    "from pandas import DataFrame\n",
    "df_loss = DataFrame(data={\n",
    "    'Epoche': history.epoch * 2,\n",
    "    'Legende': ['Loss auf Trainingsdaten'] * len(history.epoch) + ['Loss auf Testdaten'] * len(history.epoch),\n",
    "    'Loss': history.history['loss'] + history.history['val_loss']\n",
    "})\n",
    "df_accuracy = DataFrame(data={\n",
    "    'Epoche': history.epoch * 2,\n",
    "    'Legende': ['Accuracy auf Trainingsdaten'] * len(history.epoch) + ['Accuracy auf Testdaten'] * len(history.epoch),\n",
    "    'Accuracy': history.history['acc'] + history.history['val_acc']\n",
    "})\n",
    "print(df_loss)\n",
    "print(df_accuracy)"
   ]
  },
  {
   "cell_type": "code",
   "execution_count": 13,
   "metadata": {},
   "outputs": [
    {
     "data": {
      "application/javascript": [
       "var spec = {\"config\": {\"view\": {\"width\": 400, \"height\": 300}, \"mark\": {\"tooltip\": null}}, \"layer\": [{\"data\": {\"name\": \"data-ecfec0a4ff4be4a0ba2ddd37567f6028\"}, \"mark\": \"line\", \"encoding\": {\"color\": {\"type\": \"nominal\", \"field\": \"Legende\"}, \"x\": {\"type\": \"quantitative\", \"field\": \"Epoche\"}, \"y\": {\"type\": \"quantitative\", \"field\": \"Loss\"}}}, {\"data\": {\"name\": \"data-3c1c6a68bd9ac1066476078e60b3c379\"}, \"mark\": \"line\", \"encoding\": {\"color\": {\"type\": \"nominal\", \"field\": \"Legende\"}, \"x\": {\"type\": \"quantitative\", \"field\": \"Epoche\"}, \"y\": {\"type\": \"quantitative\", \"field\": \"Accuracy\"}}}], \"resolve\": {\"scale\": {\"y\": \"independent\"}}, \"$schema\": \"https://vega.github.io/schema/vega-lite/v3.2.1.json\", \"datasets\": {\"data-ecfec0a4ff4be4a0ba2ddd37567f6028\": [{\"Epoche\": 0, \"Legende\": \"Loss auf Trainingsdaten\", \"Loss\": 2.351536512374878}, {\"Epoche\": 1, \"Legende\": \"Loss auf Trainingsdaten\", \"Loss\": 2.2814371585845947}, {\"Epoche\": 2, \"Legende\": \"Loss auf Trainingsdaten\", \"Loss\": 2.2140538692474365}, {\"Epoche\": 3, \"Legende\": \"Loss auf Trainingsdaten\", \"Loss\": 2.1492888927459717}, {\"Epoche\": 4, \"Legende\": \"Loss auf Trainingsdaten\", \"Loss\": 2.08701753616333}, {\"Epoche\": 5, \"Legende\": \"Loss auf Trainingsdaten\", \"Loss\": 2.0270941257476807}, {\"Epoche\": 6, \"Legende\": \"Loss auf Trainingsdaten\", \"Loss\": 1.9693576097488403}, {\"Epoche\": 7, \"Legende\": \"Loss auf Trainingsdaten\", \"Loss\": 1.9136428833007812}, {\"Epoche\": 8, \"Legende\": \"Loss auf Trainingsdaten\", \"Loss\": 1.8597925901412964}, {\"Epoche\": 9, \"Legende\": \"Loss auf Trainingsdaten\", \"Loss\": 1.8076647520065308}, {\"Epoche\": 10, \"Legende\": \"Loss auf Trainingsdaten\", \"Loss\": 1.7571369409561157}, {\"Epoche\": 11, \"Legende\": \"Loss auf Trainingsdaten\", \"Loss\": 1.7081079483032227}, {\"Epoche\": 12, \"Legende\": \"Loss auf Trainingsdaten\", \"Loss\": 1.6604973077774048}, {\"Epoche\": 13, \"Legende\": \"Loss auf Trainingsdaten\", \"Loss\": 1.614243745803833}, {\"Epoche\": 14, \"Legende\": \"Loss auf Trainingsdaten\", \"Loss\": 1.5693031549453735}, {\"Epoche\": 15, \"Legende\": \"Loss auf Trainingsdaten\", \"Loss\": 1.5256435871124268}, {\"Epoche\": 16, \"Legende\": \"Loss auf Trainingsdaten\", \"Loss\": 1.4832427501678467}, {\"Epoche\": 17, \"Legende\": \"Loss auf Trainingsdaten\", \"Loss\": 1.4420838356018066}, {\"Epoche\": 18, \"Legende\": \"Loss auf Trainingsdaten\", \"Loss\": 1.402152419090271}, {\"Epoche\": 19, \"Legende\": \"Loss auf Trainingsdaten\", \"Loss\": 1.3634332418441772}, {\"Epoche\": 0, \"Legende\": \"Loss auf Testdaten\", \"Loss\": 2.347342453765869}, {\"Epoche\": 1, \"Legende\": \"Loss auf Testdaten\", \"Loss\": 2.3071631610870362}, {\"Epoche\": 2, \"Legende\": \"Loss auf Testdaten\", \"Loss\": 2.269200807189941}, {\"Epoche\": 3, \"Legende\": \"Loss auf Testdaten\", \"Loss\": 2.2332467617034912}, {\"Epoche\": 4, \"Legende\": \"Loss auf Testdaten\", \"Loss\": 2.199041569519043}, {\"Epoche\": 5, \"Legende\": \"Loss auf Testdaten\", \"Loss\": 2.1663267951965333}, {\"Epoche\": 6, \"Legende\": \"Loss auf Testdaten\", \"Loss\": 2.1348685802459717}, {\"Epoche\": 7, \"Legende\": \"Loss auf Testdaten\", \"Loss\": 2.1044605129241942}, {\"Epoche\": 8, \"Legende\": \"Loss auf Testdaten\", \"Loss\": 2.0749248344421387}, {\"Epoche\": 9, \"Legende\": \"Loss auf Testdaten\", \"Loss\": 2.0461143070220946}, {\"Epoche\": 10, \"Legende\": \"Loss auf Testdaten\", \"Loss\": 2.017914772415161}, {\"Epoche\": 11, \"Legende\": \"Loss auf Testdaten\", \"Loss\": 1.9902456100463868}, {\"Epoche\": 12, \"Legende\": \"Loss auf Testdaten\", \"Loss\": 1.963057057571411}, {\"Epoche\": 13, \"Legende\": \"Loss auf Testdaten\", \"Loss\": 1.9363256031036378}, {\"Epoche\": 14, \"Legende\": \"Loss auf Testdaten\", \"Loss\": 1.9100487113952638}, {\"Epoche\": 15, \"Legende\": \"Loss auf Testdaten\", \"Loss\": 1.8842395349502563}, {\"Epoche\": 16, \"Legende\": \"Loss auf Testdaten\", \"Loss\": 1.8589213844299317}, {\"Epoche\": 17, \"Legende\": \"Loss auf Testdaten\", \"Loss\": 1.8341228750228882}, {\"Epoche\": 18, \"Legende\": \"Loss auf Testdaten\", \"Loss\": 1.8098739242553712}, {\"Epoche\": 19, \"Legende\": \"Loss auf Testdaten\", \"Loss\": 1.7862031284332276}], \"data-3c1c6a68bd9ac1066476078e60b3c379\": [{\"Epoche\": 0, \"Legende\": \"Accuracy auf Trainingsdaten\", \"Accuracy\": 0.05999999865889549}, {\"Epoche\": 1, \"Legende\": \"Accuracy auf Trainingsdaten\", \"Accuracy\": 0.10000000149011612}, {\"Epoche\": 2, \"Legende\": \"Accuracy auf Trainingsdaten\", \"Accuracy\": 0.1599999964237213}, {\"Epoche\": 3, \"Legende\": \"Accuracy auf Trainingsdaten\", \"Accuracy\": 0.1899999976158142}, {\"Epoche\": 4, \"Legende\": \"Accuracy auf Trainingsdaten\", \"Accuracy\": 0.23000000417232513}, {\"Epoche\": 5, \"Legende\": \"Accuracy auf Trainingsdaten\", \"Accuracy\": 0.23999999463558197}, {\"Epoche\": 6, \"Legende\": \"Accuracy auf Trainingsdaten\", \"Accuracy\": 0.28999999165534973}, {\"Epoche\": 7, \"Legende\": \"Accuracy auf Trainingsdaten\", \"Accuracy\": 0.30000001192092896}, {\"Epoche\": 8, \"Legende\": \"Accuracy auf Trainingsdaten\", \"Accuracy\": 0.33000001311302185}, {\"Epoche\": 9, \"Legende\": \"Accuracy auf Trainingsdaten\", \"Accuracy\": 0.4099999964237213}, {\"Epoche\": 10, \"Legende\": \"Accuracy auf Trainingsdaten\", \"Accuracy\": 0.47999998927116394}, {\"Epoche\": 11, \"Legende\": \"Accuracy auf Trainingsdaten\", \"Accuracy\": 0.5600000023841858}, {\"Epoche\": 12, \"Legende\": \"Accuracy auf Trainingsdaten\", \"Accuracy\": 0.5799999833106995}, {\"Epoche\": 13, \"Legende\": \"Accuracy auf Trainingsdaten\", \"Accuracy\": 0.6100000143051147}, {\"Epoche\": 14, \"Legende\": \"Accuracy auf Trainingsdaten\", \"Accuracy\": 0.6499999761581421}, {\"Epoche\": 15, \"Legende\": \"Accuracy auf Trainingsdaten\", \"Accuracy\": 0.6499999761581421}, {\"Epoche\": 16, \"Legende\": \"Accuracy auf Trainingsdaten\", \"Accuracy\": 0.6899999976158142}, {\"Epoche\": 17, \"Legende\": \"Accuracy auf Trainingsdaten\", \"Accuracy\": 0.7099999785423279}, {\"Epoche\": 18, \"Legende\": \"Accuracy auf Trainingsdaten\", \"Accuracy\": 0.7200000286102295}, {\"Epoche\": 19, \"Legende\": \"Accuracy auf Trainingsdaten\", \"Accuracy\": 0.7200000286102295}, {\"Epoche\": 0, \"Legende\": \"Accuracy auf Testdaten\", \"Accuracy\": 0.072}, {\"Epoche\": 1, \"Legende\": \"Accuracy auf Testdaten\", \"Accuracy\": 0.0933}, {\"Epoche\": 2, \"Legende\": \"Accuracy auf Testdaten\", \"Accuracy\": 0.1174}, {\"Epoche\": 3, \"Legende\": \"Accuracy auf Testdaten\", \"Accuracy\": 0.1373}, {\"Epoche\": 4, \"Legende\": \"Accuracy auf Testdaten\", \"Accuracy\": 0.1569}, {\"Epoche\": 5, \"Legende\": \"Accuracy auf Testdaten\", \"Accuracy\": 0.1778}, {\"Epoche\": 6, \"Legende\": \"Accuracy auf Testdaten\", \"Accuracy\": 0.2}, {\"Epoche\": 7, \"Legende\": \"Accuracy auf Testdaten\", \"Accuracy\": 0.2207}, {\"Epoche\": 8, \"Legende\": \"Accuracy auf Testdaten\", \"Accuracy\": 0.2444}, {\"Epoche\": 9, \"Legende\": \"Accuracy auf Testdaten\", \"Accuracy\": 0.2691}, {\"Epoche\": 10, \"Legende\": \"Accuracy auf Testdaten\", \"Accuracy\": 0.296}, {\"Epoche\": 11, \"Legende\": \"Accuracy auf Testdaten\", \"Accuracy\": 0.3187}, {\"Epoche\": 12, \"Legende\": \"Accuracy auf Testdaten\", \"Accuracy\": 0.3436}, {\"Epoche\": 13, \"Legende\": \"Accuracy auf Testdaten\", \"Accuracy\": 0.3662}, {\"Epoche\": 14, \"Legende\": \"Accuracy auf Testdaten\", \"Accuracy\": 0.3928}, {\"Epoche\": 15, \"Legende\": \"Accuracy auf Testdaten\", \"Accuracy\": 0.4147}, {\"Epoche\": 16, \"Legende\": \"Accuracy auf Testdaten\", \"Accuracy\": 0.4319}, {\"Epoche\": 17, \"Legende\": \"Accuracy auf Testdaten\", \"Accuracy\": 0.4522}, {\"Epoche\": 18, \"Legende\": \"Accuracy auf Testdaten\", \"Accuracy\": 0.47}, {\"Epoche\": 19, \"Legende\": \"Accuracy auf Testdaten\", \"Accuracy\": 0.486}]}};\n",
       "var opt = {};\n",
       "var type = \"vega-lite\";\n",
       "var id = \"424132f1-2f6d-41fd-9312-c5781bf79fcc\";\n",
       "\n",
       "var output_area = this;\n",
       "\n",
       "require([\"nbextensions/jupyter-vega/index\"], function(vega) {\n",
       "  var target = document.createElement(\"div\");\n",
       "  target.id = id;\n",
       "  target.className = \"vega-embed\";\n",
       "\n",
       "  var style = document.createElement(\"style\");\n",
       "  style.textContent = [\n",
       "    \".vega-embed .error p {\",\n",
       "    \"  color: firebrick;\",\n",
       "    \"  font-size: 14px;\",\n",
       "    \"}\",\n",
       "  ].join(\"\\\\n\");\n",
       "\n",
       "  // element is a jQuery wrapped DOM element inside the output area\n",
       "  // see http://ipython.readthedocs.io/en/stable/api/generated/\\\n",
       "  // IPython.display.html#IPython.display.Javascript.__init__\n",
       "  element[0].appendChild(target);\n",
       "  element[0].appendChild(style);\n",
       "\n",
       "  vega.render(\"#\" + id, spec, type, opt, output_area);\n",
       "}, function (err) {\n",
       "  if (err.requireType !== \"scripterror\") {\n",
       "    throw(err);\n",
       "  }\n",
       "});\n"
      ],
      "text/plain": [
       "<vega.vegalite.VegaLite at 0x7f487c6207f0>"
      ]
     },
     "metadata": {
      "jupyter-vega": "#424132f1-2f6d-41fd-9312-c5781bf79fcc"
     },
     "output_type": "display_data"
    },
    {
     "data": {
      "text/plain": []
     },
     "execution_count": 13,
     "metadata": {},
     "output_type": "execute_result"
    },
    {
     "data": {
      "image/png": "[encoded data removed]"
     },
     "metadata": {
      "jupyter-vega": "#424132f1-2f6d-41fd-9312-c5781bf79fcc"
     },
     "output_type": "display_data"
    }
   ],
   "source": [
    "import altair as alt\n",
    "alt.renderers.enable('notebook')\n",
    "\n",
    "chart_loss = alt.Chart(df_loss).mark_line().encode(\n",
    "    x='Epoche', y='Loss', color='Legende')\n",
    "chart_accuracy = alt.Chart(df_accuracy).mark_line().encode(\n",
    "    x='Epoche', y='Accuracy', color='Legende')\n",
    "chart = chart_loss + chart_accuracy\n",
    "chart.resolve_scale(y='independent')"
   ]
  },
  {
   "cell_type": "code",
   "execution_count": 14,
   "metadata": {},
   "outputs": [
    {
     "name": "stdout",
     "output_type": "stream",
     "text": [
      "_________________________________________________________________\n",
      "Layer (type)                 Output Shape              Param #   \n",
      "=================================================================\n",
      "flatten_2 (Flatten)          (None, 784)               0         \n",
      "_________________________________________________________________\n",
      "dense_2 (Dense)              (None, 200)               157000    \n",
      "_________________________________________________________________\n",
      "dense_3 (Dense)              (None, 10)                2010      \n",
      "=================================================================\n",
      "Total params: 159,010\n",
      "Trainable params: 159,010\n",
      "Non-trainable params: 0\n",
      "_________________________________________________________________\n",
      "None\n"
     ]
    },
    {
     "data": {
      "image/svg+xml": [
       "<svg height=\"294pt\" viewBox=\"0.00 0.00 284.00 294.00\" width=\"284pt\" xmlns=\"http://www.w3.org/2000/svg\" xmlns:xlink=\"http://www.w3.org/1999/xlink\">\n",
       "<g class=\"graph\" id=\"graph0\" transform=\"scale(1 1) rotate(0) translate(4 290)\">\n",
       "<title>G</title>\n",
       "<polygon fill=\"#ffffff\" points=\"-4,4 -4,-290 280,-290 280,4 -4,4\" stroke=\"transparent\"/>\n",
       "<!-- 139948037537632 -->\n",
       "<g class=\"node\" id=\"node1\">\n",
       "<title>139948037537632</title>\n",
       "<polygon fill=\"none\" points=\"0,-166.5 0,-212.5 276,-212.5 276,-166.5 0,-166.5\" stroke=\"#000000\"/>\n",
       "<text fill=\"#000000\" font-family=\"Times,serif\" font-size=\"14.00\" text-anchor=\"middle\" x=\"55\" y=\"-185.8\">flatten_2: Flatten</text>\n",
       "<polyline fill=\"none\" points=\"110,-166.5 110,-212.5 \" stroke=\"#000000\"/>\n",
       "<text fill=\"#000000\" font-family=\"Times,serif\" font-size=\"14.00\" text-anchor=\"middle\" x=\"137.5\" y=\"-197.3\">input:</text>\n",
       "<polyline fill=\"none\" points=\"110,-189.5 165,-189.5 \" stroke=\"#000000\"/>\n",
       "<text fill=\"#000000\" font-family=\"Times,serif\" font-size=\"14.00\" text-anchor=\"middle\" x=\"137.5\" y=\"-174.3\">output:</text>\n",
       "<polyline fill=\"none\" points=\"165,-166.5 165,-212.5 \" stroke=\"#000000\"/>\n",
       "<text fill=\"#000000\" font-family=\"Times,serif\" font-size=\"14.00\" text-anchor=\"middle\" x=\"220.5\" y=\"-197.3\">(None, 28, 28, 1)</text>\n",
       "<polyline fill=\"none\" points=\"165,-189.5 276,-189.5 \" stroke=\"#000000\"/>\n",
       "<text fill=\"#000000\" font-family=\"Times,serif\" font-size=\"14.00\" text-anchor=\"middle\" x=\"220.5\" y=\"-174.3\">(None, 784)</text>\n",
       "</g>\n",
       "<!-- 139949298375200 -->\n",
       "<g class=\"node\" id=\"node2\">\n",
       "<title>139949298375200</title>\n",
       "<polygon fill=\"none\" points=\"18,-83.5 18,-129.5 258,-129.5 258,-83.5 18,-83.5\" stroke=\"#000000\"/>\n",
       "<text fill=\"#000000\" font-family=\"Times,serif\" font-size=\"14.00\" text-anchor=\"middle\" x=\"69\" y=\"-102.8\">dense_2: Dense</text>\n",
       "<polyline fill=\"none\" points=\"120,-83.5 120,-129.5 \" stroke=\"#000000\"/>\n",
       "<text fill=\"#000000\" font-family=\"Times,serif\" font-size=\"14.00\" text-anchor=\"middle\" x=\"147.5\" y=\"-114.3\">input:</text>\n",
       "<polyline fill=\"none\" points=\"120,-106.5 175,-106.5 \" stroke=\"#000000\"/>\n",
       "<text fill=\"#000000\" font-family=\"Times,serif\" font-size=\"14.00\" text-anchor=\"middle\" x=\"147.5\" y=\"-91.3\">output:</text>\n",
       "<polyline fill=\"none\" points=\"175,-83.5 175,-129.5 \" stroke=\"#000000\"/>\n",
       "<text fill=\"#000000\" font-family=\"Times,serif\" font-size=\"14.00\" text-anchor=\"middle\" x=\"216.5\" y=\"-114.3\">(None, 784)</text>\n",
       "<polyline fill=\"none\" points=\"175,-106.5 258,-106.5 \" stroke=\"#000000\"/>\n",
       "<text fill=\"#000000\" font-family=\"Times,serif\" font-size=\"14.00\" text-anchor=\"middle\" x=\"216.5\" y=\"-91.3\">(None, 200)</text>\n",
       "</g>\n",
       "<!-- 139948037537632&#45;&gt;139949298375200 -->\n",
       "<g class=\"edge\" id=\"edge2\">\n",
       "<title>139948037537632-&gt;139949298375200</title>\n",
       "<path d=\"M138,-166.3799C138,-158.1745 138,-148.7679 138,-139.8786\" fill=\"none\" stroke=\"#000000\"/>\n",
       "<polygon fill=\"#000000\" points=\"141.5001,-139.784 138,-129.784 134.5001,-139.784 141.5001,-139.784\" stroke=\"#000000\"/>\n",
       "</g>\n",
       "<!-- 139947486768992 -->\n",
       "<g class=\"node\" id=\"node3\">\n",
       "<title>139947486768992</title>\n",
       "<polygon fill=\"none\" points=\"18,-.5 18,-46.5 258,-46.5 258,-.5 18,-.5\" stroke=\"#000000\"/>\n",
       "<text fill=\"#000000\" font-family=\"Times,serif\" font-size=\"14.00\" text-anchor=\"middle\" x=\"69\" y=\"-19.8\">dense_3: Dense</text>\n",
       "<polyline fill=\"none\" points=\"120,-.5 120,-46.5 \" stroke=\"#000000\"/>\n",
       "<text fill=\"#000000\" font-family=\"Times,serif\" font-size=\"14.00\" text-anchor=\"middle\" x=\"147.5\" y=\"-31.3\">input:</text>\n",
       "<polyline fill=\"none\" points=\"120,-23.5 175,-23.5 \" stroke=\"#000000\"/>\n",
       "<text fill=\"#000000\" font-family=\"Times,serif\" font-size=\"14.00\" text-anchor=\"middle\" x=\"147.5\" y=\"-8.3\">output:</text>\n",
       "<polyline fill=\"none\" points=\"175,-.5 175,-46.5 \" stroke=\"#000000\"/>\n",
       "<text fill=\"#000000\" font-family=\"Times,serif\" font-size=\"14.00\" text-anchor=\"middle\" x=\"216.5\" y=\"-31.3\">(None, 200)</text>\n",
       "<polyline fill=\"none\" points=\"175,-23.5 258,-23.5 \" stroke=\"#000000\"/>\n",
       "<text fill=\"#000000\" font-family=\"Times,serif\" font-size=\"14.00\" text-anchor=\"middle\" x=\"216.5\" y=\"-8.3\">(None, 10)</text>\n",
       "</g>\n",
       "<!-- 139949298375200&#45;&gt;139947486768992 -->\n",
       "<g class=\"edge\" id=\"edge3\">\n",
       "<title>139949298375200-&gt;139947486768992</title>\n",
       "<path d=\"M138,-83.3799C138,-75.1745 138,-65.7679 138,-56.8786\" fill=\"none\" stroke=\"#000000\"/>\n",
       "<polygon fill=\"#000000\" points=\"141.5001,-56.784 138,-46.784 134.5001,-56.784 141.5001,-56.784\" stroke=\"#000000\"/>\n",
       "</g>\n",
       "<!-- 139947486769048 -->\n",
       "<g class=\"node\" id=\"node4\">\n",
       "<title>139947486769048</title>\n",
       "<polygon fill=\"none\" points=\"79,-249.5 79,-285.5 197,-285.5 197,-249.5 79,-249.5\" stroke=\"#000000\"/>\n",
       "<text fill=\"#000000\" font-family=\"Times,serif\" font-size=\"14.00\" text-anchor=\"middle\" x=\"138\" y=\"-263.8\">139947486769048</text>\n",
       "</g>\n",
       "<!-- 139947486769048&#45;&gt;139948037537632 -->\n",
       "<g class=\"edge\" id=\"edge1\">\n",
       "<title>139947486769048-&gt;139948037537632</title>\n",
       "<path d=\"M138,-249.4092C138,-241.4308 138,-231.795 138,-222.606\" fill=\"none\" stroke=\"#000000\"/>\n",
       "<polygon fill=\"#000000\" points=\"141.5001,-222.5333 138,-212.5333 134.5001,-222.5334 141.5001,-222.5333\" stroke=\"#000000\"/>\n",
       "</g>\n",
       "</g>\n",
       "</svg>"
      ],
      "text/plain": [
       "<IPython.core.display.SVG object>"
      ]
     },
     "execution_count": 14,
     "metadata": {},
     "output_type": "execute_result"
    }
   ],
   "source": [
    "model = Sequential()\n",
    "model.add(Flatten(input_shape=input_shape))\n",
    "model.add(Dense(200, activation='relu'))\n",
    "model.add(Dense(num_classes, activation='softmax'))\n",
    "print(model.summary())\n",
    "SVG(model_to_dot(model, show_shapes=True).create(prog='dot', format='svg'))"
   ]
  },
  {
   "cell_type": "code",
   "execution_count": 15,
   "metadata": {},
   "outputs": [
    {
     "name": "stdout",
     "output_type": "stream",
     "text": [
      "Train on 100 samples, validate on 10000 samples\n",
      "Epoch 1/20\n",
      "100/100 [==============================] - 0s 2ms/step - loss: 2.3888 - acc: 0.1200 - val_loss: 2.2913 - val_acc: 0.1717\n",
      "Epoch 2/20\n",
      "100/100 [==============================] - 0s 668us/step - loss: 2.1360 - acc: 0.3200 - val_loss: 2.1640 - val_acc: 0.2299\n",
      "Epoch 3/20\n",
      "100/100 [==============================] - 0s 644us/step - loss: 1.9163 - acc: 0.4500 - val_loss: 2.0504 - val_acc: 0.3127\n",
      "Epoch 4/20\n",
      "100/100 [==============================] - 0s 751us/step - loss: 1.7197 - acc: 0.5600 - val_loss: 1.9466 - val_acc: 0.4171\n",
      "Epoch 5/20\n",
      "100/100 [==============================] - 0s 907us/step - loss: 1.5435 - acc: 0.6800 - val_loss: 1.8498 - val_acc: 0.4856\n",
      "Epoch 6/20\n",
      "100/100 [==============================] - 0s 722us/step - loss: 1.3823 - acc: 0.7400 - val_loss: 1.7588 - val_acc: 0.5305\n",
      "Epoch 7/20\n",
      "100/100 [==============================] - 0s 729us/step - loss: 1.2348 - acc: 0.8200 - val_loss: 1.6738 - val_acc: 0.5640\n",
      "Epoch 8/20\n",
      "100/100 [==============================] - 0s 784us/step - loss: 1.1002 - acc: 0.8300 - val_loss: 1.5950 - val_acc: 0.5891\n",
      "Epoch 9/20\n",
      "100/100 [==============================] - 0s 734us/step - loss: 0.9768 - acc: 0.8800 - val_loss: 1.5230 - val_acc: 0.6062\n",
      "Epoch 10/20\n",
      "100/100 [==============================] - 0s 806us/step - loss: 0.8644 - acc: 0.9100 - val_loss: 1.4582 - val_acc: 0.6163\n",
      "Epoch 11/20\n",
      "100/100 [==============================] - 0s 957us/step - loss: 0.7625 - acc: 0.9200 - val_loss: 1.4001 - val_acc: 0.6259\n",
      "Epoch 12/20\n",
      "100/100 [==============================] - 0s 842us/step - loss: 0.6705 - acc: 0.9200 - val_loss: 1.3490 - val_acc: 0.6366\n",
      "Epoch 13/20\n",
      "100/100 [==============================] - 0s 722us/step - loss: 0.5876 - acc: 0.9300 - val_loss: 1.3049 - val_acc: 0.6419\n",
      "Epoch 14/20\n",
      "100/100 [==============================] - 0s 780us/step - loss: 0.5137 - acc: 0.9400 - val_loss: 1.2671 - val_acc: 0.6467\n",
      "Epoch 15/20\n",
      "100/100 [==============================] - 0s 909us/step - loss: 0.4485 - acc: 0.9400 - val_loss: 1.2350 - val_acc: 0.6515\n",
      "Epoch 16/20\n",
      "100/100 [==============================] - 0s 863us/step - loss: 0.3909 - acc: 0.9700 - val_loss: 1.2080 - val_acc: 0.6550\n",
      "Epoch 17/20\n",
      "100/100 [==============================] - 0s 946us/step - loss: 0.3407 - acc: 1.0000 - val_loss: 1.1854 - val_acc: 0.6586\n",
      "Epoch 18/20\n",
      "100/100 [==============================] - 0s 857us/step - loss: 0.2969 - acc: 1.0000 - val_loss: 1.1663 - val_acc: 0.6609\n",
      "Epoch 19/20\n",
      "100/100 [==============================] - 0s 766us/step - loss: 0.2587 - acc: 1.0000 - val_loss: 1.1506 - val_acc: 0.6623\n",
      "Epoch 20/20\n",
      "100/100 [==============================] - 0s 756us/step - loss: 0.2253 - acc: 1.0000 - val_loss: 1.1378 - val_acc: 0.6638\n"
     ]
    }
   ],
   "source": [
    "model.compile(loss=categorical_crossentropy,\n",
    "              optimizer=Adam(),\n",
    "              metrics=['accuracy'])\n",
    "\n",
    "history = model.fit(\n",
    "    x_train, y_train,\n",
    "    batch_size=batch_size,\n",
    "    epochs=epochs,\n",
    "    verbose=1,\n",
    "    validation_data=(x_test, y_test)\n",
    ")"
   ]
  },
  {
   "cell_type": "code",
   "execution_count": 16,
   "metadata": {},
   "outputs": [],
   "source": [
    "def evaluate(model, history):\n",
    "    score = model.evaluate(x_test, y_test, verbose=0)\n",
    "    print('Test loss:', score[0])\n",
    "    print('Test accuracy:', score[1])\n",
    "    \n",
    "    df_loss = DataFrame(data={\n",
    "        'Epoche': history.epoch * 2,\n",
    "        'Legende': ['Loss auf Trainingsdaten'] * len(history.epoch) + ['Loss auf Testdaten'] * len(history.epoch),\n",
    "        'Loss': history.history['loss'] + history.history['val_loss']\n",
    "    })\n",
    "    df_accuracy = DataFrame(data={\n",
    "        'Epoche': history.epoch * 2,\n",
    "        'Legende': ['Accuracy auf Trainingsdaten'] * len(history.epoch) + ['Accuracy auf Testdaten'] * len(history.epoch),\n",
    "        'Accuracy': history.history['acc'] + history.history['val_acc']\n",
    "    })\n",
    "    chart_loss = alt.Chart(df_loss).mark_line().encode(\n",
    "        x='Epoche', y='Loss', color='Legende')\n",
    "    chart_accuracy = alt.Chart(df_accuracy).mark_line().encode(\n",
    "        x='Epoche', y='Accuracy', color='Legende')\n",
    "    chart = chart_loss + chart_accuracy\n",
    "    return chart.resolve_scale(y='independent')"
   ]
  },
  {
   "cell_type": "code",
   "execution_count": 17,
   "metadata": {},
   "outputs": [
    {
     "name": "stdout",
     "output_type": "stream",
     "text": [
      "Test loss: 1.1378185735702515\n",
      "Test accuracy: 0.6638\n"
     ]
    },
    {
     "data": {
      "application/javascript": [
       "var spec = {\"config\": {\"view\": {\"width\": 400, \"height\": 300}, \"mark\": {\"tooltip\": null}}, \"layer\": [{\"data\": {\"name\": \"data-10987934515dcfa181afeecfd4cbf629\"}, \"mark\": \"line\", \"encoding\": {\"color\": {\"type\": \"nominal\", \"field\": \"Legende\"}, \"x\": {\"type\": \"quantitative\", \"field\": \"Epoche\"}, \"y\": {\"type\": \"quantitative\", \"field\": \"Loss\"}}}, {\"data\": {\"name\": \"data-62b6e49b3fd8693a520ff48cdfb26455\"}, \"mark\": \"line\", \"encoding\": {\"color\": {\"type\": \"nominal\", \"field\": \"Legende\"}, \"x\": {\"type\": \"quantitative\", \"field\": \"Epoche\"}, \"y\": {\"type\": \"quantitative\", \"field\": \"Accuracy\"}}}], \"resolve\": {\"scale\": {\"y\": \"independent\"}}, \"$schema\": \"https://vega.github.io/schema/vega-lite/v3.2.1.json\", \"datasets\": {\"data-10987934515dcfa181afeecfd4cbf629\": [{\"Epoche\": 0, \"Legende\": \"Loss auf Trainingsdaten\", \"Loss\": 2.3888392448425293}, {\"Epoche\": 1, \"Legende\": \"Loss auf Trainingsdaten\", \"Loss\": 2.1360061168670654}, {\"Epoche\": 2, \"Legende\": \"Loss auf Trainingsdaten\", \"Loss\": 1.9162890911102295}, {\"Epoche\": 3, \"Legende\": \"Loss auf Trainingsdaten\", \"Loss\": 1.7196781635284424}, {\"Epoche\": 4, \"Legende\": \"Loss auf Trainingsdaten\", \"Loss\": 1.543534755706787}, {\"Epoche\": 5, \"Legende\": \"Loss auf Trainingsdaten\", \"Loss\": 1.3823171854019165}, {\"Epoche\": 6, \"Legende\": \"Loss auf Trainingsdaten\", \"Loss\": 1.2347848415374756}, {\"Epoche\": 7, \"Legende\": \"Loss auf Trainingsdaten\", \"Loss\": 1.1002403497695923}, {\"Epoche\": 8, \"Legende\": \"Loss auf Trainingsdaten\", \"Loss\": 0.9767669439315796}, {\"Epoche\": 9, \"Legende\": \"Loss auf Trainingsdaten\", \"Loss\": 0.8643670678138733}, {\"Epoche\": 10, \"Legende\": \"Loss auf Trainingsdaten\", \"Loss\": 0.7625065445899963}, {\"Epoche\": 11, \"Legende\": \"Loss auf Trainingsdaten\", \"Loss\": 0.6704655289649963}, {\"Epoche\": 12, \"Legende\": \"Loss auf Trainingsdaten\", \"Loss\": 0.5876086354255676}, {\"Epoche\": 13, \"Legende\": \"Loss auf Trainingsdaten\", \"Loss\": 0.5136997699737549}, {\"Epoche\": 14, \"Legende\": \"Loss auf Trainingsdaten\", \"Loss\": 0.4484720528125763}, {\"Epoche\": 15, \"Legende\": \"Loss auf Trainingsdaten\", \"Loss\": 0.3909240961074829}, {\"Epoche\": 16, \"Legende\": \"Loss auf Trainingsdaten\", \"Loss\": 0.34070560336112976}, {\"Epoche\": 17, \"Legende\": \"Loss auf Trainingsdaten\", \"Loss\": 0.29686439037323}, {\"Epoche\": 18, \"Legende\": \"Loss auf Trainingsdaten\", \"Loss\": 0.2586822211742401}, {\"Epoche\": 19, \"Legende\": \"Loss auf Trainingsdaten\", \"Loss\": 0.22532311081886292}, {\"Epoche\": 0, \"Legende\": \"Loss auf Testdaten\", \"Loss\": 2.291275088119507}, {\"Epoche\": 1, \"Legende\": \"Loss auf Testdaten\", \"Loss\": 2.163980100250244}, {\"Epoche\": 2, \"Legende\": \"Loss auf Testdaten\", \"Loss\": 2.0503952266693117}, {\"Epoche\": 3, \"Legende\": \"Loss auf Testdaten\", \"Loss\": 1.9466350389480591}, {\"Epoche\": 4, \"Legende\": \"Loss auf Testdaten\", \"Loss\": 1.8498020668029784}, {\"Epoche\": 5, \"Legende\": \"Loss auf Testdaten\", \"Loss\": 1.758841576385498}, {\"Epoche\": 6, \"Legende\": \"Loss auf Testdaten\", \"Loss\": 1.6737717149734497}, {\"Epoche\": 7, \"Legende\": \"Loss auf Testdaten\", \"Loss\": 1.5950462581634521}, {\"Epoche\": 8, \"Legende\": \"Loss auf Testdaten\", \"Loss\": 1.5230113803863525}, {\"Epoche\": 9, \"Legende\": \"Loss auf Testdaten\", \"Loss\": 1.4581604139328004}, {\"Epoche\": 10, \"Legende\": \"Loss auf Testdaten\", \"Loss\": 1.4001249250411987}, {\"Epoche\": 11, \"Legende\": \"Loss auf Testdaten\", \"Loss\": 1.3490486431121826}, {\"Epoche\": 12, \"Legende\": \"Loss auf Testdaten\", \"Loss\": 1.3048940187454223}, {\"Epoche\": 13, \"Legende\": \"Loss auf Testdaten\", \"Loss\": 1.2671430442810059}, {\"Epoche\": 14, \"Legende\": \"Loss auf Testdaten\", \"Loss\": 1.2350498540878296}, {\"Epoche\": 15, \"Legende\": \"Loss auf Testdaten\", \"Loss\": 1.2080459445953369}, {\"Epoche\": 16, \"Legende\": \"Loss auf Testdaten\", \"Loss\": 1.1853516499519348}, {\"Epoche\": 17, \"Legende\": \"Loss auf Testdaten\", \"Loss\": 1.1663178657531739}, {\"Epoche\": 18, \"Legende\": \"Loss auf Testdaten\", \"Loss\": 1.1505838118553162}, {\"Epoche\": 19, \"Legende\": \"Loss auf Testdaten\", \"Loss\": 1.1378185749053955}], \"data-62b6e49b3fd8693a520ff48cdfb26455\": [{\"Epoche\": 0, \"Legende\": \"Accuracy auf Trainingsdaten\", \"Accuracy\": 0.11999999731779099}, {\"Epoche\": 1, \"Legende\": \"Accuracy auf Trainingsdaten\", \"Accuracy\": 0.3199999928474426}, {\"Epoche\": 2, \"Legende\": \"Accuracy auf Trainingsdaten\", \"Accuracy\": 0.44999998807907104}, {\"Epoche\": 3, \"Legende\": \"Accuracy auf Trainingsdaten\", \"Accuracy\": 0.5600000023841858}, {\"Epoche\": 4, \"Legende\": \"Accuracy auf Trainingsdaten\", \"Accuracy\": 0.6800000071525574}, {\"Epoche\": 5, \"Legende\": \"Accuracy auf Trainingsdaten\", \"Accuracy\": 0.7400000095367432}, {\"Epoche\": 6, \"Legende\": \"Accuracy auf Trainingsdaten\", \"Accuracy\": 0.8199999928474426}, {\"Epoche\": 7, \"Legende\": \"Accuracy auf Trainingsdaten\", \"Accuracy\": 0.8299999833106995}, {\"Epoche\": 8, \"Legende\": \"Accuracy auf Trainingsdaten\", \"Accuracy\": 0.8799999952316284}, {\"Epoche\": 9, \"Legende\": \"Accuracy auf Trainingsdaten\", \"Accuracy\": 0.9100000262260437}, {\"Epoche\": 10, \"Legende\": \"Accuracy auf Trainingsdaten\", \"Accuracy\": 0.9200000166893005}, {\"Epoche\": 11, \"Legende\": \"Accuracy auf Trainingsdaten\", \"Accuracy\": 0.9200000166893005}, {\"Epoche\": 12, \"Legende\": \"Accuracy auf Trainingsdaten\", \"Accuracy\": 0.9300000071525574}, {\"Epoche\": 13, \"Legende\": \"Accuracy auf Trainingsdaten\", \"Accuracy\": 0.9399999976158142}, {\"Epoche\": 14, \"Legende\": \"Accuracy auf Trainingsdaten\", \"Accuracy\": 0.9399999976158142}, {\"Epoche\": 15, \"Legende\": \"Accuracy auf Trainingsdaten\", \"Accuracy\": 0.9700000286102295}, {\"Epoche\": 16, \"Legende\": \"Accuracy auf Trainingsdaten\", \"Accuracy\": 1.0}, {\"Epoche\": 17, \"Legende\": \"Accuracy auf Trainingsdaten\", \"Accuracy\": 1.0}, {\"Epoche\": 18, \"Legende\": \"Accuracy auf Trainingsdaten\", \"Accuracy\": 1.0}, {\"Epoche\": 19, \"Legende\": \"Accuracy auf Trainingsdaten\", \"Accuracy\": 1.0}, {\"Epoche\": 0, \"Legende\": \"Accuracy auf Testdaten\", \"Accuracy\": 0.1717}, {\"Epoche\": 1, \"Legende\": \"Accuracy auf Testdaten\", \"Accuracy\": 0.2299}, {\"Epoche\": 2, \"Legende\": \"Accuracy auf Testdaten\", \"Accuracy\": 0.3127}, {\"Epoche\": 3, \"Legende\": \"Accuracy auf Testdaten\", \"Accuracy\": 0.4171}, {\"Epoche\": 4, \"Legende\": \"Accuracy auf Testdaten\", \"Accuracy\": 0.4856}, {\"Epoche\": 5, \"Legende\": \"Accuracy auf Testdaten\", \"Accuracy\": 0.5305}, {\"Epoche\": 6, \"Legende\": \"Accuracy auf Testdaten\", \"Accuracy\": 0.564}, {\"Epoche\": 7, \"Legende\": \"Accuracy auf Testdaten\", \"Accuracy\": 0.5891}, {\"Epoche\": 8, \"Legende\": \"Accuracy auf Testdaten\", \"Accuracy\": 0.6062}, {\"Epoche\": 9, \"Legende\": \"Accuracy auf Testdaten\", \"Accuracy\": 0.6163}, {\"Epoche\": 10, \"Legende\": \"Accuracy auf Testdaten\", \"Accuracy\": 0.6259}, {\"Epoche\": 11, \"Legende\": \"Accuracy auf Testdaten\", \"Accuracy\": 0.6366}, {\"Epoche\": 12, \"Legende\": \"Accuracy auf Testdaten\", \"Accuracy\": 0.6419}, {\"Epoche\": 13, \"Legende\": \"Accuracy auf Testdaten\", \"Accuracy\": 0.6467}, {\"Epoche\": 14, \"Legende\": \"Accuracy auf Testdaten\", \"Accuracy\": 0.6515}, {\"Epoche\": 15, \"Legende\": \"Accuracy auf Testdaten\", \"Accuracy\": 0.655}, {\"Epoche\": 16, \"Legende\": \"Accuracy auf Testdaten\", \"Accuracy\": 0.6586}, {\"Epoche\": 17, \"Legende\": \"Accuracy auf Testdaten\", \"Accuracy\": 0.6609}, {\"Epoche\": 18, \"Legende\": \"Accuracy auf Testdaten\", \"Accuracy\": 0.6623}, {\"Epoche\": 19, \"Legende\": \"Accuracy auf Testdaten\", \"Accuracy\": 0.6638}]}};\n",
       "var opt = {};\n",
       "var type = \"vega-lite\";\n",
       "var id = \"2ba05f6d-e4b3-4125-8eae-6c15a42eeba9\";\n",
       "\n",
       "var output_area = this;\n",
       "\n",
       "require([\"nbextensions/jupyter-vega/index\"], function(vega) {\n",
       "  var target = document.createElement(\"div\");\n",
       "  target.id = id;\n",
       "  target.className = \"vega-embed\";\n",
       "\n",
       "  var style = document.createElement(\"style\");\n",
       "  style.textContent = [\n",
       "    \".vega-embed .error p {\",\n",
       "    \"  color: firebrick;\",\n",
       "    \"  font-size: 14px;\",\n",
       "    \"}\",\n",
       "  ].join(\"\\\\n\");\n",
       "\n",
       "  // element is a jQuery wrapped DOM element inside the output area\n",
       "  // see http://ipython.readthedocs.io/en/stable/api/generated/\\\n",
       "  // IPython.display.html#IPython.display.Javascript.__init__\n",
       "  element[0].appendChild(target);\n",
       "  element[0].appendChild(style);\n",
       "\n",
       "  vega.render(\"#\" + id, spec, type, opt, output_area);\n",
       "}, function (err) {\n",
       "  if (err.requireType !== \"scripterror\") {\n",
       "    throw(err);\n",
       "  }\n",
       "});\n"
      ],
      "text/plain": [
       "<vega.vegalite.VegaLite at 0x7f48421fb780>"
      ]
     },
     "metadata": {
      "jupyter-vega": "#2ba05f6d-e4b3-4125-8eae-6c15a42eeba9"
     },
     "output_type": "display_data"
    },
    {
     "data": {
      "text/plain": []
     },
     "execution_count": 17,
     "metadata": {},
     "output_type": "execute_result"
    },
    {
     "data": {
      "image/png": "[encoded data removed]"
     },
     "metadata": {
      "jupyter-vega": "#2ba05f6d-e4b3-4125-8eae-6c15a42eeba9"
     },
     "output_type": "display_data"
    }
   ],
   "source": [
    "evaluate(model, history)"
   ]
  },
  {
   "cell_type": "code",
   "execution_count": 18,
   "metadata": {},
   "outputs": [],
   "source": [
    "(x_train, y_train), (x_test, y_test) = mnist.load_data()\n",
    "\n",
    "train_size = x_train.shape[0]\n",
    "test_size = x_test.shape[0]\n",
    "\n",
    "data_format = K.image_data_format()\n",
    "if data_format == 'channels_first':\n",
    "    x_train = x_train.reshape(train_size, 1, rows, cols)\n",
    "    x_test = x_test.reshape(test_size, 1, rows, cols)\n",
    "    input_shape = (1, rows, cols)\n",
    "else:\n",
    "    x_train = x_train.reshape(train_size, rows, cols, 1)\n",
    "    x_test = x_test.reshape(test_size, rows, cols, 1)\n",
    "    input_shape = (rows, cols, 1)\n",
    "    \n",
    "# norm data to float in range 0..1\n",
    "x_train = x_train.astype('float32')\n",
    "x_test = x_test.astype('float32')\n",
    "x_train /= 255\n",
    "x_test /= 255\n",
    "\n",
    "# convert class vectors to one hot vector\n",
    "y_train = to_categorical(y_train, 10)\n",
    "y_test = to_categorical(y_test, 10)"
   ]
  },
  {
   "cell_type": "code",
   "execution_count": 19,
   "metadata": {},
   "outputs": [
    {
     "name": "stdout",
     "output_type": "stream",
     "text": [
      "WARNING:tensorflow:From /home/jme/Code/Sacred-MNIST/env/lib/python3.6/site-packages/keras/backend/tensorflow_backend.py:3445: calling dropout (from tensorflow.python.ops.nn_ops) with keep_prob is deprecated and will be removed in a future version.\n",
      "Instructions for updating:\n",
      "Please use `rate` instead of `keep_prob`. Rate should be set to `rate = 1 - keep_prob`.\n",
      "_________________________________________________________________\n",
      "Layer (type)                 Output Shape              Param #   \n",
      "=================================================================\n",
      "flatten_3 (Flatten)          (None, 784)               0         \n",
      "_________________________________________________________________\n",
      "dense_4 (Dense)              (None, 200)               157000    \n",
      "_________________________________________________________________\n",
      "dropout_1 (Dropout)          (None, 200)               0         \n",
      "_________________________________________________________________\n",
      "dense_5 (Dense)              (None, 10)                2010      \n",
      "=================================================================\n",
      "Total params: 159,010\n",
      "Trainable params: 159,010\n",
      "Non-trainable params: 0\n",
      "_________________________________________________________________\n",
      "None\n"
     ]
    },
    {
     "data": {
      "image/svg+xml": [
       "<svg height=\"377pt\" viewBox=\"0.00 0.00 284.00 377.00\" width=\"284pt\" xmlns=\"http://www.w3.org/2000/svg\" xmlns:xlink=\"http://www.w3.org/1999/xlink\">\n",
       "<g class=\"graph\" id=\"graph0\" transform=\"scale(1 1) rotate(0) translate(4 373)\">\n",
       "<title>G</title>\n",
       "<polygon fill=\"#ffffff\" points=\"-4,4 -4,-373 280,-373 280,4 -4,4\" stroke=\"transparent\"/>\n",
       "<!-- 139948037554248 -->\n",
       "<g class=\"node\" id=\"node1\">\n",
       "<title>139948037554248</title>\n",
       "<polygon fill=\"none\" points=\"0,-249.5 0,-295.5 276,-295.5 276,-249.5 0,-249.5\" stroke=\"#000000\"/>\n",
       "<text fill=\"#000000\" font-family=\"Times,serif\" font-size=\"14.00\" text-anchor=\"middle\" x=\"55\" y=\"-268.8\">flatten_3: Flatten</text>\n",
       "<polyline fill=\"none\" points=\"110,-249.5 110,-295.5 \" stroke=\"#000000\"/>\n",
       "<text fill=\"#000000\" font-family=\"Times,serif\" font-size=\"14.00\" text-anchor=\"middle\" x=\"137.5\" y=\"-280.3\">input:</text>\n",
       "<polyline fill=\"none\" points=\"110,-272.5 165,-272.5 \" stroke=\"#000000\"/>\n",
       "<text fill=\"#000000\" font-family=\"Times,serif\" font-size=\"14.00\" text-anchor=\"middle\" x=\"137.5\" y=\"-257.3\">output:</text>\n",
       "<polyline fill=\"none\" points=\"165,-249.5 165,-295.5 \" stroke=\"#000000\"/>\n",
       "<text fill=\"#000000\" font-family=\"Times,serif\" font-size=\"14.00\" text-anchor=\"middle\" x=\"220.5\" y=\"-280.3\">(None, 28, 28, 1)</text>\n",
       "<polyline fill=\"none\" points=\"165,-272.5 276,-272.5 \" stroke=\"#000000\"/>\n",
       "<text fill=\"#000000\" font-family=\"Times,serif\" font-size=\"14.00\" text-anchor=\"middle\" x=\"220.5\" y=\"-257.3\">(None, 784)</text>\n",
       "</g>\n",
       "<!-- 139946886800944 -->\n",
       "<g class=\"node\" id=\"node2\">\n",
       "<title>139946886800944</title>\n",
       "<polygon fill=\"none\" points=\"18,-166.5 18,-212.5 258,-212.5 258,-166.5 18,-166.5\" stroke=\"#000000\"/>\n",
       "<text fill=\"#000000\" font-family=\"Times,serif\" font-size=\"14.00\" text-anchor=\"middle\" x=\"69\" y=\"-185.8\">dense_4: Dense</text>\n",
       "<polyline fill=\"none\" points=\"120,-166.5 120,-212.5 \" stroke=\"#000000\"/>\n",
       "<text fill=\"#000000\" font-family=\"Times,serif\" font-size=\"14.00\" text-anchor=\"middle\" x=\"147.5\" y=\"-197.3\">input:</text>\n",
       "<polyline fill=\"none\" points=\"120,-189.5 175,-189.5 \" stroke=\"#000000\"/>\n",
       "<text fill=\"#000000\" font-family=\"Times,serif\" font-size=\"14.00\" text-anchor=\"middle\" x=\"147.5\" y=\"-174.3\">output:</text>\n",
       "<polyline fill=\"none\" points=\"175,-166.5 175,-212.5 \" stroke=\"#000000\"/>\n",
       "<text fill=\"#000000\" font-family=\"Times,serif\" font-size=\"14.00\" text-anchor=\"middle\" x=\"216.5\" y=\"-197.3\">(None, 784)</text>\n",
       "<polyline fill=\"none\" points=\"175,-189.5 258,-189.5 \" stroke=\"#000000\"/>\n",
       "<text fill=\"#000000\" font-family=\"Times,serif\" font-size=\"14.00\" text-anchor=\"middle\" x=\"216.5\" y=\"-174.3\">(None, 200)</text>\n",
       "</g>\n",
       "<!-- 139948037554248&#45;&gt;139946886800944 -->\n",
       "<g class=\"edge\" id=\"edge2\">\n",
       "<title>139948037554248-&gt;139946886800944</title>\n",
       "<path d=\"M138,-249.3799C138,-241.1745 138,-231.7679 138,-222.8786\" fill=\"none\" stroke=\"#000000\"/>\n",
       "<polygon fill=\"#000000\" points=\"141.5001,-222.784 138,-212.784 134.5001,-222.784 141.5001,-222.784\" stroke=\"#000000\"/>\n",
       "</g>\n",
       "<!-- 139948323747656 -->\n",
       "<g class=\"node\" id=\"node3\">\n",
       "<title>139948323747656</title>\n",
       "<polygon fill=\"none\" points=\"6.5,-83.5 6.5,-129.5 269.5,-129.5 269.5,-83.5 6.5,-83.5\" stroke=\"#000000\"/>\n",
       "<text fill=\"#000000\" font-family=\"Times,serif\" font-size=\"14.00\" text-anchor=\"middle\" x=\"69\" y=\"-102.8\">dropout_1: Dropout</text>\n",
       "<polyline fill=\"none\" points=\"131.5,-83.5 131.5,-129.5 \" stroke=\"#000000\"/>\n",
       "<text fill=\"#000000\" font-family=\"Times,serif\" font-size=\"14.00\" text-anchor=\"middle\" x=\"159\" y=\"-114.3\">input:</text>\n",
       "<polyline fill=\"none\" points=\"131.5,-106.5 186.5,-106.5 \" stroke=\"#000000\"/>\n",
       "<text fill=\"#000000\" font-family=\"Times,serif\" font-size=\"14.00\" text-anchor=\"middle\" x=\"159\" y=\"-91.3\">output:</text>\n",
       "<polyline fill=\"none\" points=\"186.5,-83.5 186.5,-129.5 \" stroke=\"#000000\"/>\n",
       "<text fill=\"#000000\" font-family=\"Times,serif\" font-size=\"14.00\" text-anchor=\"middle\" x=\"228\" y=\"-114.3\">(None, 200)</text>\n",
       "<polyline fill=\"none\" points=\"186.5,-106.5 269.5,-106.5 \" stroke=\"#000000\"/>\n",
       "<text fill=\"#000000\" font-family=\"Times,serif\" font-size=\"14.00\" text-anchor=\"middle\" x=\"228\" y=\"-91.3\">(None, 200)</text>\n",
       "</g>\n",
       "<!-- 139946886800944&#45;&gt;139948323747656 -->\n",
       "<g class=\"edge\" id=\"edge3\">\n",
       "<title>139946886800944-&gt;139948323747656</title>\n",
       "<path d=\"M138,-166.3799C138,-158.1745 138,-148.7679 138,-139.8786\" fill=\"none\" stroke=\"#000000\"/>\n",
       "<polygon fill=\"#000000\" points=\"141.5001,-139.784 138,-129.784 134.5001,-139.784 141.5001,-139.784\" stroke=\"#000000\"/>\n",
       "</g>\n",
       "<!-- 139946886612640 -->\n",
       "<g class=\"node\" id=\"node4\">\n",
       "<title>139946886612640</title>\n",
       "<polygon fill=\"none\" points=\"18,-.5 18,-46.5 258,-46.5 258,-.5 18,-.5\" stroke=\"#000000\"/>\n",
       "<text fill=\"#000000\" font-family=\"Times,serif\" font-size=\"14.00\" text-anchor=\"middle\" x=\"69\" y=\"-19.8\">dense_5: Dense</text>\n",
       "<polyline fill=\"none\" points=\"120,-.5 120,-46.5 \" stroke=\"#000000\"/>\n",
       "<text fill=\"#000000\" font-family=\"Times,serif\" font-size=\"14.00\" text-anchor=\"middle\" x=\"147.5\" y=\"-31.3\">input:</text>\n",
       "<polyline fill=\"none\" points=\"120,-23.5 175,-23.5 \" stroke=\"#000000\"/>\n",
       "<text fill=\"#000000\" font-family=\"Times,serif\" font-size=\"14.00\" text-anchor=\"middle\" x=\"147.5\" y=\"-8.3\">output:</text>\n",
       "<polyline fill=\"none\" points=\"175,-.5 175,-46.5 \" stroke=\"#000000\"/>\n",
       "<text fill=\"#000000\" font-family=\"Times,serif\" font-size=\"14.00\" text-anchor=\"middle\" x=\"216.5\" y=\"-31.3\">(None, 200)</text>\n",
       "<polyline fill=\"none\" points=\"175,-23.5 258,-23.5 \" stroke=\"#000000\"/>\n",
       "<text fill=\"#000000\" font-family=\"Times,serif\" font-size=\"14.00\" text-anchor=\"middle\" x=\"216.5\" y=\"-8.3\">(None, 10)</text>\n",
       "</g>\n",
       "<!-- 139948323747656&#45;&gt;139946886612640 -->\n",
       "<g class=\"edge\" id=\"edge4\">\n",
       "<title>139948323747656-&gt;139946886612640</title>\n",
       "<path d=\"M138,-83.3799C138,-75.1745 138,-65.7679 138,-56.8786\" fill=\"none\" stroke=\"#000000\"/>\n",
       "<polygon fill=\"#000000\" points=\"141.5001,-56.784 138,-46.784 134.5001,-56.784 141.5001,-56.784\" stroke=\"#000000\"/>\n",
       "</g>\n",
       "<!-- 139946886802736 -->\n",
       "<g class=\"node\" id=\"node5\">\n",
       "<title>139946886802736</title>\n",
       "<polygon fill=\"none\" points=\"79,-332.5 79,-368.5 197,-368.5 197,-332.5 79,-332.5\" stroke=\"#000000\"/>\n",
       "<text fill=\"#000000\" font-family=\"Times,serif\" font-size=\"14.00\" text-anchor=\"middle\" x=\"138\" y=\"-346.8\">139946886802736</text>\n",
       "</g>\n",
       "<!-- 139946886802736&#45;&gt;139948037554248 -->\n",
       "<g class=\"edge\" id=\"edge1\">\n",
       "<title>139946886802736-&gt;139948037554248</title>\n",
       "<path d=\"M138,-332.4092C138,-324.4308 138,-314.795 138,-305.606\" fill=\"none\" stroke=\"#000000\"/>\n",
       "<polygon fill=\"#000000\" points=\"141.5001,-305.5333 138,-295.5333 134.5001,-305.5334 141.5001,-305.5333\" stroke=\"#000000\"/>\n",
       "</g>\n",
       "</g>\n",
       "</svg>"
      ],
      "text/plain": [
       "<IPython.core.display.SVG object>"
      ]
     },
     "execution_count": 19,
     "metadata": {},
     "output_type": "execute_result"
    }
   ],
   "source": [
    "model = Sequential()\n",
    "model.add(Flatten(input_shape=input_shape))\n",
    "model.add(Dense(200, activation='relu'))\n",
    "model.add(Dropout(rate=0.5))\n",
    "model.add(Dense(num_classes, activation='softmax'))\n",
    "print(model.summary())\n",
    "SVG(model_to_dot(model, show_shapes=True).create(prog='dot', format='svg'))"
   ]
  },
  {
   "cell_type": "code",
   "execution_count": 20,
   "metadata": {},
   "outputs": [
    {
     "name": "stdout",
     "output_type": "stream",
     "text": [
      "Train on 60000 samples, validate on 10000 samples\n",
      "Epoch 1/12\n",
      "60000/60000 [==============================] - 2s 29us/step - loss: 0.4355 - acc: 0.8728 - val_loss: 0.1907 - val_acc: 0.9456\n",
      "Epoch 2/12\n",
      "60000/60000 [==============================] - 2s 26us/step - loss: 0.2209 - acc: 0.9359 - val_loss: 0.1397 - val_acc: 0.9586\n",
      "Epoch 3/12\n",
      "60000/60000 [==============================] - 2s 26us/step - loss: 0.1741 - acc: 0.9482 - val_loss: 0.1113 - val_acc: 0.9678\n",
      "Epoch 4/12\n",
      "60000/60000 [==============================] - 2s 26us/step - loss: 0.1459 - acc: 0.9567 - val_loss: 0.0950 - val_acc: 0.9705\n",
      "Epoch 5/12\n",
      "60000/60000 [==============================] - 2s 26us/step - loss: 0.1291 - acc: 0.9619 - val_loss: 0.0883 - val_acc: 0.9726\n",
      "Epoch 6/12\n",
      "60000/60000 [==============================] - 2s 26us/step - loss: 0.1176 - acc: 0.9646 - val_loss: 0.0853 - val_acc: 0.9730\n",
      "Epoch 7/12\n",
      "60000/60000 [==============================] - 2s 29us/step - loss: 0.1058 - acc: 0.9679 - val_loss: 0.0805 - val_acc: 0.9743\n",
      "Epoch 8/12\n",
      "60000/60000 [==============================] - 2s 27us/step - loss: 0.0988 - acc: 0.9699 - val_loss: 0.0763 - val_acc: 0.9778\n",
      "Epoch 9/12\n",
      "60000/60000 [==============================] - 2s 26us/step - loss: 0.0948 - acc: 0.9705 - val_loss: 0.0746 - val_acc: 0.9766\n",
      "Epoch 10/12\n",
      "60000/60000 [==============================] - 2s 26us/step - loss: 0.0892 - acc: 0.9721 - val_loss: 0.0713 - val_acc: 0.9771\n",
      "Epoch 11/12\n",
      "60000/60000 [==============================] - 2s 26us/step - loss: 0.0810 - acc: 0.9741 - val_loss: 0.0714 - val_acc: 0.9775\n",
      "Epoch 12/12\n",
      "60000/60000 [==============================] - 2s 26us/step - loss: 0.0767 - acc: 0.9759 - val_loss: 0.0720 - val_acc: 0.9786\n"
     ]
    }
   ],
   "source": [
    "batch_size = 128\n",
    "epochs = 12\n",
    "\n",
    "model.compile(loss=categorical_crossentropy,\n",
    "              optimizer=Adam(),\n",
    "              metrics=['accuracy'])\n",
    "\n",
    "history = model.fit(\n",
    "    x_train, y_train,\n",
    "    batch_size=batch_size,\n",
    "    epochs=epochs,\n",
    "    verbose=1,\n",
    "    validation_data=(x_test, y_test)\n",
    ")"
   ]
  },
  {
   "cell_type": "code",
   "execution_count": 21,
   "metadata": {},
   "outputs": [
    {
     "name": "stdout",
     "output_type": "stream",
     "text": [
      "Test loss: 0.07201278391538654\n",
      "Test accuracy: 0.9786\n"
     ]
    },
    {
     "data": {
      "application/javascript": [
       "var spec = {\"config\": {\"view\": {\"width\": 400, \"height\": 300}, \"mark\": {\"tooltip\": null}}, \"layer\": [{\"data\": {\"name\": \"data-467707f2d5a3bf6e9668fc43ac9ad62e\"}, \"mark\": \"line\", \"encoding\": {\"color\": {\"type\": \"nominal\", \"field\": \"Legende\"}, \"x\": {\"type\": \"quantitative\", \"field\": \"Epoche\"}, \"y\": {\"type\": \"quantitative\", \"field\": \"Loss\"}}}, {\"data\": {\"name\": \"data-32ae5e43fdee7721e5d8c3eafb71d467\"}, \"mark\": \"line\", \"encoding\": {\"color\": {\"type\": \"nominal\", \"field\": \"Legende\"}, \"x\": {\"type\": \"quantitative\", \"field\": \"Epoche\"}, \"y\": {\"type\": \"quantitative\", \"field\": \"Accuracy\"}}}], \"resolve\": {\"scale\": {\"y\": \"independent\"}}, \"$schema\": \"https://vega.github.io/schema/vega-lite/v3.2.1.json\", \"datasets\": {\"data-467707f2d5a3bf6e9668fc43ac9ad62e\": [{\"Epoche\": 0, \"Legende\": \"Loss auf Trainingsdaten\", \"Loss\": 0.4355122827688853}, {\"Epoche\": 1, \"Legende\": \"Loss auf Trainingsdaten\", \"Loss\": 0.22085970293680826}, {\"Epoche\": 2, \"Legende\": \"Loss auf Trainingsdaten\", \"Loss\": 0.17407168118158975}, {\"Epoche\": 3, \"Legende\": \"Loss auf Trainingsdaten\", \"Loss\": 0.14585341586271922}, {\"Epoche\": 4, \"Legende\": \"Loss auf Trainingsdaten\", \"Loss\": 0.12905097187757492}, {\"Epoche\": 5, \"Legende\": \"Loss auf Trainingsdaten\", \"Loss\": 0.1175776933670044}, {\"Epoche\": 6, \"Legende\": \"Loss auf Trainingsdaten\", \"Loss\": 0.10584914554754893}, {\"Epoche\": 7, \"Legende\": \"Loss auf Trainingsdaten\", \"Loss\": 0.09884185241460801}, {\"Epoche\": 8, \"Legende\": \"Loss auf Trainingsdaten\", \"Loss\": 0.09482672076622645}, {\"Epoche\": 9, \"Legende\": \"Loss auf Trainingsdaten\", \"Loss\": 0.0892165966729323}, {\"Epoche\": 10, \"Legende\": \"Loss auf Trainingsdaten\", \"Loss\": 0.08095670004487038}, {\"Epoche\": 11, \"Legende\": \"Loss auf Trainingsdaten\", \"Loss\": 0.07667565276622772}, {\"Epoche\": 0, \"Legende\": \"Loss auf Testdaten\", \"Loss\": 0.1907465954065323}, {\"Epoche\": 1, \"Legende\": \"Loss auf Testdaten\", \"Loss\": 0.13970342211723327}, {\"Epoche\": 2, \"Legende\": \"Loss auf Testdaten\", \"Loss\": 0.11132114009559155}, {\"Epoche\": 3, \"Legende\": \"Loss auf Testdaten\", \"Loss\": 0.09499294168353081}, {\"Epoche\": 4, \"Legende\": \"Loss auf Testdaten\", \"Loss\": 0.08831043245196342}, {\"Epoche\": 5, \"Legende\": \"Loss auf Testdaten\", \"Loss\": 0.08530693348795175}, {\"Epoche\": 6, \"Legende\": \"Loss auf Testdaten\", \"Loss\": 0.08054263135828078}, {\"Epoche\": 7, \"Legende\": \"Loss auf Testdaten\", \"Loss\": 0.07628857280761003}, {\"Epoche\": 8, \"Legende\": \"Loss auf Testdaten\", \"Loss\": 0.07461430983878672}, {\"Epoche\": 9, \"Legende\": \"Loss auf Testdaten\", \"Loss\": 0.07127654912881554}, {\"Epoche\": 10, \"Legende\": \"Loss auf Testdaten\", \"Loss\": 0.07137842884287238}, {\"Epoche\": 11, \"Legende\": \"Loss auf Testdaten\", \"Loss\": 0.07201278407126666}], \"data-32ae5e43fdee7721e5d8c3eafb71d467\": [{\"Epoche\": 0, \"Legende\": \"Accuracy auf Trainingsdaten\", \"Accuracy\": 0.8728166666348776}, {\"Epoche\": 1, \"Legende\": \"Accuracy auf Trainingsdaten\", \"Accuracy\": 0.9359499999682108}, {\"Epoche\": 2, \"Legende\": \"Accuracy auf Trainingsdaten\", \"Accuracy\": 0.9482000000317892}, {\"Epoche\": 3, \"Legende\": \"Accuracy auf Trainingsdaten\", \"Accuracy\": 0.9566999999682109}, {\"Epoche\": 4, \"Legende\": \"Accuracy auf Trainingsdaten\", \"Accuracy\": 0.9619166666666666}, {\"Epoche\": 5, \"Legende\": \"Accuracy auf Trainingsdaten\", \"Accuracy\": 0.9646333333333333}, {\"Epoche\": 6, \"Legende\": \"Accuracy auf Trainingsdaten\", \"Accuracy\": 0.9679166666984558}, {\"Epoche\": 7, \"Legende\": \"Accuracy auf Trainingsdaten\", \"Accuracy\": 0.9698666666984558}, {\"Epoche\": 8, \"Legende\": \"Accuracy auf Trainingsdaten\", \"Accuracy\": 0.9704666666348776}, {\"Epoche\": 9, \"Legende\": \"Accuracy auf Trainingsdaten\", \"Accuracy\": 0.9720999999682108}, {\"Epoche\": 10, \"Legende\": \"Accuracy auf Trainingsdaten\", \"Accuracy\": 0.9740666666348775}, {\"Epoche\": 11, \"Legende\": \"Accuracy auf Trainingsdaten\", \"Accuracy\": 0.9759499999682109}, {\"Epoche\": 0, \"Legende\": \"Accuracy auf Testdaten\", \"Accuracy\": 0.9456}, {\"Epoche\": 1, \"Legende\": \"Accuracy auf Testdaten\", \"Accuracy\": 0.9586}, {\"Epoche\": 2, \"Legende\": \"Accuracy auf Testdaten\", \"Accuracy\": 0.9678}, {\"Epoche\": 3, \"Legende\": \"Accuracy auf Testdaten\", \"Accuracy\": 0.9705}, {\"Epoche\": 4, \"Legende\": \"Accuracy auf Testdaten\", \"Accuracy\": 0.9726}, {\"Epoche\": 5, \"Legende\": \"Accuracy auf Testdaten\", \"Accuracy\": 0.973}, {\"Epoche\": 6, \"Legende\": \"Accuracy auf Testdaten\", \"Accuracy\": 0.9743}, {\"Epoche\": 7, \"Legende\": \"Accuracy auf Testdaten\", \"Accuracy\": 0.9778}, {\"Epoche\": 8, \"Legende\": \"Accuracy auf Testdaten\", \"Accuracy\": 0.9766}, {\"Epoche\": 9, \"Legende\": \"Accuracy auf Testdaten\", \"Accuracy\": 0.9771}, {\"Epoche\": 10, \"Legende\": \"Accuracy auf Testdaten\", \"Accuracy\": 0.9775}, {\"Epoche\": 11, \"Legende\": \"Accuracy auf Testdaten\", \"Accuracy\": 0.9786}]}};\n",
       "var opt = {};\n",
       "var type = \"vega-lite\";\n",
       "var id = \"71c282af-53bc-4814-b74a-9617604f4271\";\n",
       "\n",
       "var output_area = this;\n",
       "\n",
       "require([\"nbextensions/jupyter-vega/index\"], function(vega) {\n",
       "  var target = document.createElement(\"div\");\n",
       "  target.id = id;\n",
       "  target.className = \"vega-embed\";\n",
       "\n",
       "  var style = document.createElement(\"style\");\n",
       "  style.textContent = [\n",
       "    \".vega-embed .error p {\",\n",
       "    \"  color: firebrick;\",\n",
       "    \"  font-size: 14px;\",\n",
       "    \"}\",\n",
       "  ].join(\"\\\\n\");\n",
       "\n",
       "  // element is a jQuery wrapped DOM element inside the output area\n",
       "  // see http://ipython.readthedocs.io/en/stable/api/generated/\\\n",
       "  // IPython.display.html#IPython.display.Javascript.__init__\n",
       "  element[0].appendChild(target);\n",
       "  element[0].appendChild(style);\n",
       "\n",
       "  vega.render(\"#\" + id, spec, type, opt, output_area);\n",
       "}, function (err) {\n",
       "  if (err.requireType !== \"scripterror\") {\n",
       "    throw(err);\n",
       "  }\n",
       "});\n"
      ],
      "text/plain": [
       "<vega.vegalite.VegaLite at 0x7f4831a69208>"
      ]
     },
     "metadata": {
      "jupyter-vega": "#71c282af-53bc-4814-b74a-9617604f4271"
     },
     "output_type": "display_data"
    },
    {
     "data": {
      "text/plain": []
     },
     "execution_count": 21,
     "metadata": {},
     "output_type": "execute_result"
    },
    {
     "data": {
      "image/png": "[encoded data removed]"
     },
     "metadata": {
      "jupyter-vega": "#71c282af-53bc-4814-b74a-9617604f4271"
     },
     "output_type": "display_data"
    }
   ],
   "source": [
    "evaluate(model, history)"
   ]
  },
  {
   "cell_type": "code",
   "execution_count": 22,
   "metadata": {},
   "outputs": [
    {
     "name": "stdout",
     "output_type": "stream",
     "text": [
      "_________________________________________________________________\n",
      "Layer (type)                 Output Shape              Param #   \n",
      "=================================================================\n",
      "conv2d_1 (Conv2D)            (None, 26, 26, 32)        320       \n",
      "_________________________________________________________________\n",
      "conv2d_2 (Conv2D)            (None, 24, 24, 64)        18496     \n",
      "_________________________________________________________________\n",
      "max_pooling2d_1 (MaxPooling2 (None, 12, 12, 64)        0         \n",
      "_________________________________________________________________\n",
      "dropout_2 (Dropout)          (None, 12, 12, 64)        0         \n",
      "_________________________________________________________________\n",
      "flatten_4 (Flatten)          (None, 9216)              0         \n",
      "_________________________________________________________________\n",
      "dense_6 (Dense)              (None, 200)               1843400   \n",
      "_________________________________________________________________\n",
      "dropout_3 (Dropout)          (None, 200)               0         \n",
      "_________________________________________________________________\n",
      "dense_7 (Dense)              (None, 10)                2010      \n",
      "=================================================================\n",
      "Total params: 1,864,226\n",
      "Trainable params: 1,864,226\n",
      "Non-trainable params: 0\n",
      "_________________________________________________________________\n",
      "None\n"
     ]
    },
    {
     "data": {
      "image/svg+xml": [
       "<svg height=\"709pt\" viewBox=\"0.00 0.00 388.00 709.00\" width=\"388pt\" xmlns=\"http://www.w3.org/2000/svg\" xmlns:xlink=\"http://www.w3.org/1999/xlink\">\n",
       "<g class=\"graph\" id=\"graph0\" transform=\"scale(1 1) rotate(0) translate(4 705)\">\n",
       "<title>G</title>\n",
       "<polygon fill=\"#ffffff\" points=\"-4,4 -4,-705 384,-705 384,4 -4,4\" stroke=\"transparent\"/>\n",
       "<!-- 139946886442680 -->\n",
       "<g class=\"node\" id=\"node1\">\n",
       "<title>139946886442680</title>\n",
       "<polygon fill=\"none\" points=\"42,-581.5 42,-627.5 338,-627.5 338,-581.5 42,-581.5\" stroke=\"#000000\"/>\n",
       "<text fill=\"#000000\" font-family=\"Times,serif\" font-size=\"14.00\" text-anchor=\"middle\" x=\"103.5\" y=\"-600.8\">conv2d_1: Conv2D</text>\n",
       "<polyline fill=\"none\" points=\"165,-581.5 165,-627.5 \" stroke=\"#000000\"/>\n",
       "<text fill=\"#000000\" font-family=\"Times,serif\" font-size=\"14.00\" text-anchor=\"middle\" x=\"192.5\" y=\"-612.3\">input:</text>\n",
       "<polyline fill=\"none\" points=\"165,-604.5 220,-604.5 \" stroke=\"#000000\"/>\n",
       "<text fill=\"#000000\" font-family=\"Times,serif\" font-size=\"14.00\" text-anchor=\"middle\" x=\"192.5\" y=\"-589.3\">output:</text>\n",
       "<polyline fill=\"none\" points=\"220,-581.5 220,-627.5 \" stroke=\"#000000\"/>\n",
       "<text fill=\"#000000\" font-family=\"Times,serif\" font-size=\"14.00\" text-anchor=\"middle\" x=\"279\" y=\"-612.3\">(None, 28, 28, 1)</text>\n",
       "<polyline fill=\"none\" points=\"220,-604.5 338,-604.5 \" stroke=\"#000000\"/>\n",
       "<text fill=\"#000000\" font-family=\"Times,serif\" font-size=\"14.00\" text-anchor=\"middle\" x=\"279\" y=\"-589.3\">(None, 26, 26, 32)</text>\n",
       "</g>\n",
       "<!-- 139946886442960 -->\n",
       "<g class=\"node\" id=\"node2\">\n",
       "<title>139946886442960</title>\n",
       "<polygon fill=\"none\" points=\"42,-498.5 42,-544.5 338,-544.5 338,-498.5 42,-498.5\" stroke=\"#000000\"/>\n",
       "<text fill=\"#000000\" font-family=\"Times,serif\" font-size=\"14.00\" text-anchor=\"middle\" x=\"103.5\" y=\"-517.8\">conv2d_2: Conv2D</text>\n",
       "<polyline fill=\"none\" points=\"165,-498.5 165,-544.5 \" stroke=\"#000000\"/>\n",
       "<text fill=\"#000000\" font-family=\"Times,serif\" font-size=\"14.00\" text-anchor=\"middle\" x=\"192.5\" y=\"-529.3\">input:</text>\n",
       "<polyline fill=\"none\" points=\"165,-521.5 220,-521.5 \" stroke=\"#000000\"/>\n",
       "<text fill=\"#000000\" font-family=\"Times,serif\" font-size=\"14.00\" text-anchor=\"middle\" x=\"192.5\" y=\"-506.3\">output:</text>\n",
       "<polyline fill=\"none\" points=\"220,-498.5 220,-544.5 \" stroke=\"#000000\"/>\n",
       "<text fill=\"#000000\" font-family=\"Times,serif\" font-size=\"14.00\" text-anchor=\"middle\" x=\"279\" y=\"-529.3\">(None, 26, 26, 32)</text>\n",
       "<polyline fill=\"none\" points=\"220,-521.5 338,-521.5 \" stroke=\"#000000\"/>\n",
       "<text fill=\"#000000\" font-family=\"Times,serif\" font-size=\"14.00\" text-anchor=\"middle\" x=\"279\" y=\"-506.3\">(None, 24, 24, 64)</text>\n",
       "</g>\n",
       "<!-- 139946886442680&#45;&gt;139946886442960 -->\n",
       "<g class=\"edge\" id=\"edge2\">\n",
       "<title>139946886442680-&gt;139946886442960</title>\n",
       "<path d=\"M190,-581.3799C190,-573.1745 190,-563.7679 190,-554.8786\" fill=\"none\" stroke=\"#000000\"/>\n",
       "<polygon fill=\"#000000\" points=\"193.5001,-554.784 190,-544.784 186.5001,-554.784 193.5001,-554.784\" stroke=\"#000000\"/>\n",
       "</g>\n",
       "<!-- 139946884128608 -->\n",
       "<g class=\"node\" id=\"node3\">\n",
       "<title>139946884128608</title>\n",
       "<polygon fill=\"none\" points=\"0,-415.5 0,-461.5 380,-461.5 380,-415.5 0,-415.5\" stroke=\"#000000\"/>\n",
       "<text fill=\"#000000\" font-family=\"Times,serif\" font-size=\"14.00\" text-anchor=\"middle\" x=\"103.5\" y=\"-434.8\">max_pooling2d_1: MaxPooling2D</text>\n",
       "<polyline fill=\"none\" points=\"207,-415.5 207,-461.5 \" stroke=\"#000000\"/>\n",
       "<text fill=\"#000000\" font-family=\"Times,serif\" font-size=\"14.00\" text-anchor=\"middle\" x=\"234.5\" y=\"-446.3\">input:</text>\n",
       "<polyline fill=\"none\" points=\"207,-438.5 262,-438.5 \" stroke=\"#000000\"/>\n",
       "<text fill=\"#000000\" font-family=\"Times,serif\" font-size=\"14.00\" text-anchor=\"middle\" x=\"234.5\" y=\"-423.3\">output:</text>\n",
       "<polyline fill=\"none\" points=\"262,-415.5 262,-461.5 \" stroke=\"#000000\"/>\n",
       "<text fill=\"#000000\" font-family=\"Times,serif\" font-size=\"14.00\" text-anchor=\"middle\" x=\"321\" y=\"-446.3\">(None, 24, 24, 64)</text>\n",
       "<polyline fill=\"none\" points=\"262,-438.5 380,-438.5 \" stroke=\"#000000\"/>\n",
       "<text fill=\"#000000\" font-family=\"Times,serif\" font-size=\"14.00\" text-anchor=\"middle\" x=\"321\" y=\"-423.3\">(None, 12, 12, 64)</text>\n",
       "</g>\n",
       "<!-- 139946886442960&#45;&gt;139946884128608 -->\n",
       "<g class=\"edge\" id=\"edge3\">\n",
       "<title>139946886442960-&gt;139946884128608</title>\n",
       "<path d=\"M190,-498.3799C190,-490.1745 190,-480.7679 190,-471.8786\" fill=\"none\" stroke=\"#000000\"/>\n",
       "<polygon fill=\"#000000\" points=\"193.5001,-471.784 190,-461.784 186.5001,-471.784 193.5001,-471.784\" stroke=\"#000000\"/>\n",
       "</g>\n",
       "<!-- 139946886441896 -->\n",
       "<g class=\"node\" id=\"node4\">\n",
       "<title>139946886441896</title>\n",
       "<polygon fill=\"none\" points=\"41,-332.5 41,-378.5 339,-378.5 339,-332.5 41,-332.5\" stroke=\"#000000\"/>\n",
       "<text fill=\"#000000\" font-family=\"Times,serif\" font-size=\"14.00\" text-anchor=\"middle\" x=\"103.5\" y=\"-351.8\">dropout_2: Dropout</text>\n",
       "<polyline fill=\"none\" points=\"166,-332.5 166,-378.5 \" stroke=\"#000000\"/>\n",
       "<text fill=\"#000000\" font-family=\"Times,serif\" font-size=\"14.00\" text-anchor=\"middle\" x=\"193.5\" y=\"-363.3\">input:</text>\n",
       "<polyline fill=\"none\" points=\"166,-355.5 221,-355.5 \" stroke=\"#000000\"/>\n",
       "<text fill=\"#000000\" font-family=\"Times,serif\" font-size=\"14.00\" text-anchor=\"middle\" x=\"193.5\" y=\"-340.3\">output:</text>\n",
       "<polyline fill=\"none\" points=\"221,-332.5 221,-378.5 \" stroke=\"#000000\"/>\n",
       "<text fill=\"#000000\" font-family=\"Times,serif\" font-size=\"14.00\" text-anchor=\"middle\" x=\"280\" y=\"-363.3\">(None, 12, 12, 64)</text>\n",
       "<polyline fill=\"none\" points=\"221,-355.5 339,-355.5 \" stroke=\"#000000\"/>\n",
       "<text fill=\"#000000\" font-family=\"Times,serif\" font-size=\"14.00\" text-anchor=\"middle\" x=\"280\" y=\"-340.3\">(None, 12, 12, 64)</text>\n",
       "</g>\n",
       "<!-- 139946884128608&#45;&gt;139946886441896 -->\n",
       "<g class=\"edge\" id=\"edge4\">\n",
       "<title>139946884128608-&gt;139946886441896</title>\n",
       "<path d=\"M190,-415.3799C190,-407.1745 190,-397.7679 190,-388.8786\" fill=\"none\" stroke=\"#000000\"/>\n",
       "<polygon fill=\"#000000\" points=\"193.5001,-388.784 190,-378.784 186.5001,-388.784 193.5001,-388.784\" stroke=\"#000000\"/>\n",
       "</g>\n",
       "<!-- 139946886440104 -->\n",
       "<g class=\"node\" id=\"node5\">\n",
       "<title>139946886440104</title>\n",
       "<polygon fill=\"none\" points=\"48.5,-249.5 48.5,-295.5 331.5,-295.5 331.5,-249.5 48.5,-249.5\" stroke=\"#000000\"/>\n",
       "<text fill=\"#000000\" font-family=\"Times,serif\" font-size=\"14.00\" text-anchor=\"middle\" x=\"103.5\" y=\"-268.8\">flatten_4: Flatten</text>\n",
       "<polyline fill=\"none\" points=\"158.5,-249.5 158.5,-295.5 \" stroke=\"#000000\"/>\n",
       "<text fill=\"#000000\" font-family=\"Times,serif\" font-size=\"14.00\" text-anchor=\"middle\" x=\"186\" y=\"-280.3\">input:</text>\n",
       "<polyline fill=\"none\" points=\"158.5,-272.5 213.5,-272.5 \" stroke=\"#000000\"/>\n",
       "<text fill=\"#000000\" font-family=\"Times,serif\" font-size=\"14.00\" text-anchor=\"middle\" x=\"186\" y=\"-257.3\">output:</text>\n",
       "<polyline fill=\"none\" points=\"213.5,-249.5 213.5,-295.5 \" stroke=\"#000000\"/>\n",
       "<text fill=\"#000000\" font-family=\"Times,serif\" font-size=\"14.00\" text-anchor=\"middle\" x=\"272.5\" y=\"-280.3\">(None, 12, 12, 64)</text>\n",
       "<polyline fill=\"none\" points=\"213.5,-272.5 331.5,-272.5 \" stroke=\"#000000\"/>\n",
       "<text fill=\"#000000\" font-family=\"Times,serif\" font-size=\"14.00\" text-anchor=\"middle\" x=\"272.5\" y=\"-257.3\">(None, 9216)</text>\n",
       "</g>\n",
       "<!-- 139946886441896&#45;&gt;139946886440104 -->\n",
       "<g class=\"edge\" id=\"edge5\">\n",
       "<title>139946886441896-&gt;139946886440104</title>\n",
       "<path d=\"M190,-332.3799C190,-324.1745 190,-314.7679 190,-305.8786\" fill=\"none\" stroke=\"#000000\"/>\n",
       "<polygon fill=\"#000000\" points=\"193.5001,-305.784 190,-295.784 186.5001,-305.784 193.5001,-305.784\" stroke=\"#000000\"/>\n",
       "</g>\n",
       "<!-- 139946884128440 -->\n",
       "<g class=\"node\" id=\"node6\">\n",
       "<title>139946884128440</title>\n",
       "<polygon fill=\"none\" points=\"67,-166.5 67,-212.5 313,-212.5 313,-166.5 67,-166.5\" stroke=\"#000000\"/>\n",
       "<text fill=\"#000000\" font-family=\"Times,serif\" font-size=\"14.00\" text-anchor=\"middle\" x=\"118\" y=\"-185.8\">dense_6: Dense</text>\n",
       "<polyline fill=\"none\" points=\"169,-166.5 169,-212.5 \" stroke=\"#000000\"/>\n",
       "<text fill=\"#000000\" font-family=\"Times,serif\" font-size=\"14.00\" text-anchor=\"middle\" x=\"196.5\" y=\"-197.3\">input:</text>\n",
       "<polyline fill=\"none\" points=\"169,-189.5 224,-189.5 \" stroke=\"#000000\"/>\n",
       "<text fill=\"#000000\" font-family=\"Times,serif\" font-size=\"14.00\" text-anchor=\"middle\" x=\"196.5\" y=\"-174.3\">output:</text>\n",
       "<polyline fill=\"none\" points=\"224,-166.5 224,-212.5 \" stroke=\"#000000\"/>\n",
       "<text fill=\"#000000\" font-family=\"Times,serif\" font-size=\"14.00\" text-anchor=\"middle\" x=\"268.5\" y=\"-197.3\">(None, 9216)</text>\n",
       "<polyline fill=\"none\" points=\"224,-189.5 313,-189.5 \" stroke=\"#000000\"/>\n",
       "<text fill=\"#000000\" font-family=\"Times,serif\" font-size=\"14.00\" text-anchor=\"middle\" x=\"268.5\" y=\"-174.3\">(None, 200)</text>\n",
       "</g>\n",
       "<!-- 139946886440104&#45;&gt;139946884128440 -->\n",
       "<g class=\"edge\" id=\"edge6\">\n",
       "<title>139946886440104-&gt;139946884128440</title>\n",
       "<path d=\"M190,-249.3799C190,-241.1745 190,-231.7679 190,-222.8786\" fill=\"none\" stroke=\"#000000\"/>\n",
       "<polygon fill=\"#000000\" points=\"193.5001,-222.784 190,-212.784 186.5001,-222.784 193.5001,-222.784\" stroke=\"#000000\"/>\n",
       "</g>\n",
       "<!-- 139946884269560 -->\n",
       "<g class=\"node\" id=\"node7\">\n",
       "<title>139946884269560</title>\n",
       "<polygon fill=\"none\" points=\"58.5,-83.5 58.5,-129.5 321.5,-129.5 321.5,-83.5 58.5,-83.5\" stroke=\"#000000\"/>\n",
       "<text fill=\"#000000\" font-family=\"Times,serif\" font-size=\"14.00\" text-anchor=\"middle\" x=\"121\" y=\"-102.8\">dropout_3: Dropout</text>\n",
       "<polyline fill=\"none\" points=\"183.5,-83.5 183.5,-129.5 \" stroke=\"#000000\"/>\n",
       "<text fill=\"#000000\" font-family=\"Times,serif\" font-size=\"14.00\" text-anchor=\"middle\" x=\"211\" y=\"-114.3\">input:</text>\n",
       "<polyline fill=\"none\" points=\"183.5,-106.5 238.5,-106.5 \" stroke=\"#000000\"/>\n",
       "<text fill=\"#000000\" font-family=\"Times,serif\" font-size=\"14.00\" text-anchor=\"middle\" x=\"211\" y=\"-91.3\">output:</text>\n",
       "<polyline fill=\"none\" points=\"238.5,-83.5 238.5,-129.5 \" stroke=\"#000000\"/>\n",
       "<text fill=\"#000000\" font-family=\"Times,serif\" font-size=\"14.00\" text-anchor=\"middle\" x=\"280\" y=\"-114.3\">(None, 200)</text>\n",
       "<polyline fill=\"none\" points=\"238.5,-106.5 321.5,-106.5 \" stroke=\"#000000\"/>\n",
       "<text fill=\"#000000\" font-family=\"Times,serif\" font-size=\"14.00\" text-anchor=\"middle\" x=\"280\" y=\"-91.3\">(None, 200)</text>\n",
       "</g>\n",
       "<!-- 139946884128440&#45;&gt;139946884269560 -->\n",
       "<g class=\"edge\" id=\"edge7\">\n",
       "<title>139946884128440-&gt;139946884269560</title>\n",
       "<path d=\"M190,-166.3799C190,-158.1745 190,-148.7679 190,-139.8786\" fill=\"none\" stroke=\"#000000\"/>\n",
       "<polygon fill=\"#000000\" points=\"193.5001,-139.784 190,-129.784 186.5001,-139.784 193.5001,-139.784\" stroke=\"#000000\"/>\n",
       "</g>\n",
       "<!-- 139946883952592 -->\n",
       "<g class=\"node\" id=\"node8\">\n",
       "<title>139946883952592</title>\n",
       "<polygon fill=\"none\" points=\"70,-.5 70,-46.5 310,-46.5 310,-.5 70,-.5\" stroke=\"#000000\"/>\n",
       "<text fill=\"#000000\" font-family=\"Times,serif\" font-size=\"14.00\" text-anchor=\"middle\" x=\"121\" y=\"-19.8\">dense_7: Dense</text>\n",
       "<polyline fill=\"none\" points=\"172,-.5 172,-46.5 \" stroke=\"#000000\"/>\n",
       "<text fill=\"#000000\" font-family=\"Times,serif\" font-size=\"14.00\" text-anchor=\"middle\" x=\"199.5\" y=\"-31.3\">input:</text>\n",
       "<polyline fill=\"none\" points=\"172,-23.5 227,-23.5 \" stroke=\"#000000\"/>\n",
       "<text fill=\"#000000\" font-family=\"Times,serif\" font-size=\"14.00\" text-anchor=\"middle\" x=\"199.5\" y=\"-8.3\">output:</text>\n",
       "<polyline fill=\"none\" points=\"227,-.5 227,-46.5 \" stroke=\"#000000\"/>\n",
       "<text fill=\"#000000\" font-family=\"Times,serif\" font-size=\"14.00\" text-anchor=\"middle\" x=\"268.5\" y=\"-31.3\">(None, 200)</text>\n",
       "<polyline fill=\"none\" points=\"227,-23.5 310,-23.5 \" stroke=\"#000000\"/>\n",
       "<text fill=\"#000000\" font-family=\"Times,serif\" font-size=\"14.00\" text-anchor=\"middle\" x=\"268.5\" y=\"-8.3\">(None, 10)</text>\n",
       "</g>\n",
       "<!-- 139946884269560&#45;&gt;139946883952592 -->\n",
       "<g class=\"edge\" id=\"edge8\">\n",
       "<title>139946884269560-&gt;139946883952592</title>\n",
       "<path d=\"M190,-83.3799C190,-75.1745 190,-65.7679 190,-56.8786\" fill=\"none\" stroke=\"#000000\"/>\n",
       "<polygon fill=\"#000000\" points=\"193.5001,-56.784 190,-46.784 186.5001,-56.784 193.5001,-56.784\" stroke=\"#000000\"/>\n",
       "</g>\n",
       "<!-- 139946886441000 -->\n",
       "<g class=\"node\" id=\"node9\">\n",
       "<title>139946886441000</title>\n",
       "<polygon fill=\"none\" points=\"131,-664.5 131,-700.5 249,-700.5 249,-664.5 131,-664.5\" stroke=\"#000000\"/>\n",
       "<text fill=\"#000000\" font-family=\"Times,serif\" font-size=\"14.00\" text-anchor=\"middle\" x=\"190\" y=\"-678.8\">139946886441000</text>\n",
       "</g>\n",
       "<!-- 139946886441000&#45;&gt;139946886442680 -->\n",
       "<g class=\"edge\" id=\"edge1\">\n",
       "<title>139946886441000-&gt;139946886442680</title>\n",
       "<path d=\"M190,-664.4092C190,-656.4308 190,-646.795 190,-637.606\" fill=\"none\" stroke=\"#000000\"/>\n",
       "<polygon fill=\"#000000\" points=\"193.5001,-637.5333 190,-627.5333 186.5001,-637.5334 193.5001,-637.5333\" stroke=\"#000000\"/>\n",
       "</g>\n",
       "</g>\n",
       "</svg>"
      ],
      "text/plain": [
       "<IPython.core.display.SVG object>"
      ]
     },
     "execution_count": 22,
     "metadata": {},
     "output_type": "execute_result"
    }
   ],
   "source": [
    "model = Sequential()\n",
    "model.add(Conv2D(\n",
    "             32, kernel_size=(3, 3), \n",
    "             activation='relu', \n",
    "             input_shape=input_shape))\n",
    "model.add(Conv2D(\n",
    "             64, kernel_size=(3, 3), \n",
    "             activation='relu'))\n",
    "model.add(MaxPooling2D(\n",
    "             pool_size=(2, 2)))\n",
    "model.add(Dropout(0.25))\n",
    "model.add(Flatten())\n",
    "model.add(Dense(200, activation='relu'))\n",
    "model.add(Dropout(rate=0.5))\n",
    "model.add(Dense(num_classes, activation='softmax'))\n",
    "print(model.summary())\n",
    "SVG(model_to_dot(model, show_shapes=True).create(prog='dot', format='svg'))"
   ]
  },
  {
   "cell_type": "markdown",
   "metadata": {},
   "source": [
    "![Struktur des Convolutional Network](Convnet.svg)"
   ]
  },
  {
   "cell_type": "code",
   "execution_count": 23,
   "metadata": {},
   "outputs": [
    {
     "name": "stdout",
     "output_type": "stream",
     "text": [
      "Train on 60000 samples, validate on 10000 samples\n",
      "Epoch 1/12\n",
      "60000/60000 [==============================] - 78s 1ms/step - loss: 0.1907 - acc: 0.9411 - val_loss: 0.0490 - val_acc: 0.9838\n",
      "Epoch 2/12\n",
      "60000/60000 [==============================] - 79s 1ms/step - loss: 0.0681 - acc: 0.9791 - val_loss: 0.0367 - val_acc: 0.9867\n",
      "Epoch 3/12\n",
      "60000/60000 [==============================] - 76s 1ms/step - loss: 0.0511 - acc: 0.9842 - val_loss: 0.0324 - val_acc: 0.9892\n",
      "Epoch 4/12\n",
      "60000/60000 [==============================] - 77s 1ms/step - loss: 0.0394 - acc: 0.9873 - val_loss: 0.0283 - val_acc: 0.9905\n",
      "Epoch 5/12\n",
      "60000/60000 [==============================] - 77s 1ms/step - loss: 0.0348 - acc: 0.9889 - val_loss: 0.0278 - val_acc: 0.9912\n",
      "Epoch 6/12\n",
      "60000/60000 [==============================] - 79s 1ms/step - loss: 0.0292 - acc: 0.9907 - val_loss: 0.0293 - val_acc: 0.9909\n",
      "Epoch 7/12\n",
      "60000/60000 [==============================] - 77s 1ms/step - loss: 0.0266 - acc: 0.9910 - val_loss: 0.0322 - val_acc: 0.9892\n",
      "Epoch 8/12\n",
      "60000/60000 [==============================] - 78s 1ms/step - loss: 0.0238 - acc: 0.9919 - val_loss: 0.0245 - val_acc: 0.9921\n",
      "Epoch 9/12\n",
      "60000/60000 [==============================] - 77s 1ms/step - loss: 0.0207 - acc: 0.9933 - val_loss: 0.0247 - val_acc: 0.9920\n",
      "Epoch 10/12\n",
      "60000/60000 [==============================] - 79s 1ms/step - loss: 0.0188 - acc: 0.9939 - val_loss: 0.0261 - val_acc: 0.9916\n",
      "Epoch 11/12\n",
      "60000/60000 [==============================] - 79s 1ms/step - loss: 0.0153 - acc: 0.9948 - val_loss: 0.0274 - val_acc: 0.9912\n",
      "Epoch 12/12\n",
      "60000/60000 [==============================] - 82s 1ms/step - loss: 0.0157 - acc: 0.9948 - val_loss: 0.0286 - val_acc: 0.9930\n"
     ]
    }
   ],
   "source": [
    "batch_size = 128\n",
    "epochs = 12\n",
    "\n",
    "model.compile(loss=categorical_crossentropy,\n",
    "              optimizer=Adam(),\n",
    "              metrics=['accuracy'])\n",
    "\n",
    "history = model.fit(\n",
    "    x_train, y_train,\n",
    "    batch_size=batch_size,\n",
    "    epochs=epochs,\n",
    "    verbose=1,\n",
    "    validation_data=(x_test, y_test)\n",
    ")"
   ]
  },
  {
   "cell_type": "code",
   "execution_count": 24,
   "metadata": {},
   "outputs": [
    {
     "name": "stdout",
     "output_type": "stream",
     "text": [
      "Test loss: 0.02862285614894331\n",
      "Test accuracy: 0.993\n"
     ]
    },
    {
     "data": {
      "application/javascript": [
       "var spec = {\"config\": {\"view\": {\"width\": 400, \"height\": 300}, \"mark\": {\"tooltip\": null}}, \"layer\": [{\"data\": {\"name\": \"data-5657d330940aa339986c7f67cc924b73\"}, \"mark\": \"line\", \"encoding\": {\"color\": {\"type\": \"nominal\", \"field\": \"Legende\"}, \"x\": {\"type\": \"quantitative\", \"field\": \"Epoche\"}, \"y\": {\"type\": \"quantitative\", \"field\": \"Loss\"}}}, {\"data\": {\"name\": \"data-642fe59b2d343fd998db2da6fc0cc4fa\"}, \"mark\": \"line\", \"encoding\": {\"color\": {\"type\": \"nominal\", \"field\": \"Legende\"}, \"x\": {\"type\": \"quantitative\", \"field\": \"Epoche\"}, \"y\": {\"type\": \"quantitative\", \"field\": \"Accuracy\"}}}], \"resolve\": {\"scale\": {\"y\": \"independent\"}}, \"$schema\": \"https://vega.github.io/schema/vega-lite/v3.2.1.json\", \"datasets\": {\"data-5657d330940aa339986c7f67cc924b73\": [{\"Epoche\": 0, \"Legende\": \"Loss auf Trainingsdaten\", \"Loss\": 0.19067288678884506}, {\"Epoche\": 1, \"Legende\": \"Loss auf Trainingsdaten\", \"Loss\": 0.06807989646395048}, {\"Epoche\": 2, \"Legende\": \"Loss auf Trainingsdaten\", \"Loss\": 0.05106340159997344}, {\"Epoche\": 3, \"Legende\": \"Loss auf Trainingsdaten\", \"Loss\": 0.039434501332044604}, {\"Epoche\": 4, \"Legende\": \"Loss auf Trainingsdaten\", \"Loss\": 0.03476772068465749}, {\"Epoche\": 5, \"Legende\": \"Loss auf Trainingsdaten\", \"Loss\": 0.029170258966274558}, {\"Epoche\": 6, \"Legende\": \"Loss auf Trainingsdaten\", \"Loss\": 0.026576715439061323}, {\"Epoche\": 7, \"Legende\": \"Loss auf Trainingsdaten\", \"Loss\": 0.023815827070052423}, {\"Epoche\": 8, \"Legende\": \"Loss auf Trainingsdaten\", \"Loss\": 0.02072003281166156}, {\"Epoche\": 9, \"Legende\": \"Loss auf Trainingsdaten\", \"Loss\": 0.018846304908332726}, {\"Epoche\": 10, \"Legende\": \"Loss auf Trainingsdaten\", \"Loss\": 0.015327742269262671}, {\"Epoche\": 11, \"Legende\": \"Loss auf Trainingsdaten\", \"Loss\": 0.0156893823853073}, {\"Epoche\": 0, \"Legende\": \"Loss auf Testdaten\", \"Loss\": 0.04899120538569987}, {\"Epoche\": 1, \"Legende\": \"Loss auf Testdaten\", \"Loss\": 0.03669712417460978}, {\"Epoche\": 2, \"Legende\": \"Loss auf Testdaten\", \"Loss\": 0.032359534025751056}, {\"Epoche\": 3, \"Legende\": \"Loss auf Testdaten\", \"Loss\": 0.0283467055687448}, {\"Epoche\": 4, \"Legende\": \"Loss auf Testdaten\", \"Loss\": 0.027783955766959117}, {\"Epoche\": 5, \"Legende\": \"Loss auf Testdaten\", \"Loss\": 0.02925722548669437}, {\"Epoche\": 6, \"Legende\": \"Loss auf Testdaten\", \"Loss\": 0.03220961040822149}, {\"Epoche\": 7, \"Legende\": \"Loss auf Testdaten\", \"Loss\": 0.024495575273851863}, {\"Epoche\": 8, \"Legende\": \"Loss auf Testdaten\", \"Loss\": 0.024674773361545523}, {\"Epoche\": 9, \"Legende\": \"Loss auf Testdaten\", \"Loss\": 0.026092550882363865}, {\"Epoche\": 10, \"Legende\": \"Loss auf Testdaten\", \"Loss\": 0.027351457720572216}, {\"Epoche\": 11, \"Legende\": \"Loss auf Testdaten\", \"Loss\": 0.02862285464866436}], \"data-642fe59b2d343fd998db2da6fc0cc4fa\": [{\"Epoche\": 0, \"Legende\": \"Accuracy auf Trainingsdaten\", \"Accuracy\": 0.9411333333651225}, {\"Epoche\": 1, \"Legende\": \"Accuracy auf Trainingsdaten\", \"Accuracy\": 0.9791333333651224}, {\"Epoche\": 2, \"Legende\": \"Accuracy auf Trainingsdaten\", \"Accuracy\": 0.9841666666666666}, {\"Epoche\": 3, \"Legende\": \"Accuracy auf Trainingsdaten\", \"Accuracy\": 0.9873166666348775}, {\"Epoche\": 4, \"Legende\": \"Accuracy auf Trainingsdaten\", \"Accuracy\": 0.9888833333333333}, {\"Epoche\": 5, \"Legende\": \"Accuracy auf Trainingsdaten\", \"Accuracy\": 0.9906666666666667}, {\"Epoche\": 6, \"Legende\": \"Accuracy auf Trainingsdaten\", \"Accuracy\": 0.9909666666666667}, {\"Epoche\": 7, \"Legende\": \"Accuracy auf Trainingsdaten\", \"Accuracy\": 0.9918833333651225}, {\"Epoche\": 8, \"Legende\": \"Accuracy auf Trainingsdaten\", \"Accuracy\": 0.9932666666666666}, {\"Epoche\": 9, \"Legende\": \"Accuracy auf Trainingsdaten\", \"Accuracy\": 0.9938666666666667}, {\"Epoche\": 10, \"Legende\": \"Accuracy auf Trainingsdaten\", \"Accuracy\": 0.9947833333333334}, {\"Epoche\": 11, \"Legende\": \"Accuracy auf Trainingsdaten\", \"Accuracy\": 0.99485}, {\"Epoche\": 0, \"Legende\": \"Accuracy auf Testdaten\", \"Accuracy\": 0.9838}, {\"Epoche\": 1, \"Legende\": \"Accuracy auf Testdaten\", \"Accuracy\": 0.9867}, {\"Epoche\": 2, \"Legende\": \"Accuracy auf Testdaten\", \"Accuracy\": 0.9892}, {\"Epoche\": 3, \"Legende\": \"Accuracy auf Testdaten\", \"Accuracy\": 0.9905}, {\"Epoche\": 4, \"Legende\": \"Accuracy auf Testdaten\", \"Accuracy\": 0.9912}, {\"Epoche\": 5, \"Legende\": \"Accuracy auf Testdaten\", \"Accuracy\": 0.9909}, {\"Epoche\": 6, \"Legende\": \"Accuracy auf Testdaten\", \"Accuracy\": 0.9892}, {\"Epoche\": 7, \"Legende\": \"Accuracy auf Testdaten\", \"Accuracy\": 0.9921}, {\"Epoche\": 8, \"Legende\": \"Accuracy auf Testdaten\", \"Accuracy\": 0.992}, {\"Epoche\": 9, \"Legende\": \"Accuracy auf Testdaten\", \"Accuracy\": 0.9916}, {\"Epoche\": 10, \"Legende\": \"Accuracy auf Testdaten\", \"Accuracy\": 0.9912}, {\"Epoche\": 11, \"Legende\": \"Accuracy auf Testdaten\", \"Accuracy\": 0.993}]}};\n",
       "var opt = {};\n",
       "var type = \"vega-lite\";\n",
       "var id = \"2b4737f2-c4fc-4b5b-a179-6b2aa3155d84\";\n",
       "\n",
       "var output_area = this;\n",
       "\n",
       "require([\"nbextensions/jupyter-vega/index\"], function(vega) {\n",
       "  var target = document.createElement(\"div\");\n",
       "  target.id = id;\n",
       "  target.className = \"vega-embed\";\n",
       "\n",
       "  var style = document.createElement(\"style\");\n",
       "  style.textContent = [\n",
       "    \".vega-embed .error p {\",\n",
       "    \"  color: firebrick;\",\n",
       "    \"  font-size: 14px;\",\n",
       "    \"}\",\n",
       "  ].join(\"\\\\n\");\n",
       "\n",
       "  // element is a jQuery wrapped DOM element inside the output area\n",
       "  // see http://ipython.readthedocs.io/en/stable/api/generated/\\\n",
       "  // IPython.display.html#IPython.display.Javascript.__init__\n",
       "  element[0].appendChild(target);\n",
       "  element[0].appendChild(style);\n",
       "\n",
       "  vega.render(\"#\" + id, spec, type, opt, output_area);\n",
       "}, function (err) {\n",
       "  if (err.requireType !== \"scripterror\") {\n",
       "    throw(err);\n",
       "  }\n",
       "});\n"
      ],
      "text/plain": [
       "<vega.vegalite.VegaLite at 0x7f47e4e38358>"
      ]
     },
     "metadata": {
      "jupyter-vega": "#2b4737f2-c4fc-4b5b-a179-6b2aa3155d84"
     },
     "output_type": "display_data"
    },
    {
     "data": {
      "text/plain": []
     },
     "execution_count": 24,
     "metadata": {},
     "output_type": "execute_result"
    },
    {
     "data": {
      "image/png": "[encoded data removed]"
     },
     "metadata": {
      "jupyter-vega": "#2b4737f2-c4fc-4b5b-a179-6b2aa3155d84"
     },
     "output_type": "display_data"
    }
   ],
   "source": [
    "evaluate(model, history)"
   ]
  },
  {
   "cell_type": "markdown",
   "metadata": {},
   "source": [
    "Schöne 3D-Visualisierung eines Convolutional Networks für MNIST: http://scs.ryerson.ca/~aharley/vis/conv/"
   ]
  },
  {
   "cell_type": "code",
   "execution_count": null,
   "metadata": {},
   "outputs": [],
   "source": []
  }
 ],
 "metadata": {
  "kernelspec": {
   "display_name": "Python 3",
   "language": "python",
   "name": "python3"
  },
  "language_info": {
   "codemirror_mode": {
    "name": "ipython",
    "version": 3
   },
   "file_extension": ".py",
   "mimetype": "text/x-python",
   "name": "python",
   "nbconvert_exporter": "python",
   "pygments_lexer": "ipython3",
   "version": "3.6.8"
  }
 },
 "nbformat": 4,
 "nbformat_minor": 2
}
