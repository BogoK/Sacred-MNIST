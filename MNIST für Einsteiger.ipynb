{
 "cells": [
  {
   "cell_type": "code",
   "execution_count": 30,
   "metadata": {},
   "outputs": [],
   "source": [
    "from keras.datasets import mnist\n",
    "from keras.models import Sequential\n",
    "from keras.layers import Dense, Flatten, Dropout\n",
    "from keras.layers import Conv2D, MaxPooling2D\n",
    "from keras.utils import to_categorical\n",
    "from keras.losses import categorical_crossentropy\n",
    "from keras.optimizers import Adam\n",
    "import keras.backend as K"
   ]
  },
  {
   "cell_type": "code",
   "execution_count": 31,
   "metadata": {},
   "outputs": [],
   "source": [
    "train_da, test_da = mnist.load_data()\n",
    "x_train, y_train = train_da \n",
    "x_test, y_test = test_da"
   ]
  },
  {
   "cell_type": "code",
   "execution_count": 32,
   "metadata": {},
   "outputs": [
    {
     "name": "stdout",
     "output_type": "stream",
     "text": [
      "5 0 4 1\n",
      "9 2 1 3\n",
      "1 4 3 5\n",
      "3 6 1 7\n"
     ]
    },
    {
     "data": {
      "image/png": "[encoded data removed]",
      "text/plain": [
       "<PIL.Image.Image image mode=L size=896x896 at 0x7FA6A45CDE48>"
      ]
     },
     "execution_count": 32,
     "metadata": {},
     "output_type": "execute_result"
    }
   ],
   "source": [
    "from IPython.display import Image\n",
    "from PIL import Image\n",
    "import numpy as np\n",
    "a = np.concatenate(x_train[0:4], axis=1)\n",
    "print(\" \".join([str(x) for x in y_train[0:4]]))\n",
    "for i in range(3):\n",
    "    a = np.concatenate([a, np.concatenate(x_train[4+i*4:8+i*4], axis=1)], axis=0)\n",
    "    print(\" \".join([str(x) for x in y_train[4+i*4:8+i*4]]))\n",
    "img = Image.fromarray(a, 'L')\n",
    "img.resize((896, 896), Image.NEAREST)"
   ]
  },
  {
   "cell_type": "code",
   "execution_count": 33,
   "metadata": {},
   "outputs": [],
   "source": [
    "data_format = K.image_data_format()\n",
    "rows, cols = 28, 28\n",
    "num_classes = 10\n",
    "train_size = x_train.shape[0]\n",
    "test_size = x_test.shape[0]\n",
    "\n",
    "if data_format == 'channels_first':\n",
    "    x_train = x_train.reshape(train_size, 1, rows, cols)\n",
    "    x_test = x_test.reshape(test_size, 1, rows, cols)\n",
    "    input_shape = (1, rows, cols)\n",
    "else:\n",
    "    x_train = x_train.reshape(train_size, rows, cols, 1)\n",
    "    x_test = x_test.reshape(test_size, rows, cols, 1)\n",
    "    input_shape = (rows, cols, 1)\n",
    "    \n",
    "# norm data to float in range 0..1\n",
    "x_train = x_train.astype('float32')\n",
    "x_test = x_test.astype('float32')\n",
    "x_train /= 255\n",
    "x_test /= 255\n",
    "\n",
    "# convert class vectors to one hot vector\n",
    "y_train = to_categorical(y_train, 10)\n",
    "y_test = to_categorical(y_test, 10)"
   ]
  },
  {
   "cell_type": "code",
   "execution_count": 34,
   "metadata": {},
   "outputs": [],
   "source": [
    "x_train = x_train[:128]\n",
    "y_train = y_train[:128]"
   ]
  },
  {
   "cell_type": "code",
   "execution_count": 35,
   "metadata": {},
   "outputs": [
    {
     "name": "stdout",
     "output_type": "stream",
     "text": [
      "_________________________________________________________________\n",
      "Layer (type)                 Output Shape              Param #   \n",
      "=================================================================\n",
      "flatten_6 (Flatten)          (None, 784)               0         \n",
      "_________________________________________________________________\n",
      "dense_10 (Dense)             (None, 10)                7850      \n",
      "=================================================================\n",
      "Total params: 7,850\n",
      "Trainable params: 7,850\n",
      "Non-trainable params: 0\n",
      "_________________________________________________________________\n",
      "None\n"
     ]
    }
   ],
   "source": [
    "model = Sequential()\n",
    "model.add(Flatten(input_shape=input_shape))\n",
    "model.add(Dense(num_classes, activation='softmax'))\n",
    "print(model.summary())"
   ]
  },
  {
   "cell_type": "code",
   "execution_count": 36,
   "metadata": {},
   "outputs": [],
   "source": [
    "model.compile(loss=categorical_crossentropy,\n",
    "              optimizer=Adam(),\n",
    "              metrics=['accuracy'])"
   ]
  },
  {
   "cell_type": "code",
   "execution_count": 37,
   "metadata": {},
   "outputs": [],
   "source": [
    "batch_size = 128\n",
    "epochs = 20"
   ]
  },
  {
   "cell_type": "code",
   "execution_count": 38,
   "metadata": {},
   "outputs": [
    {
     "name": "stdout",
     "output_type": "stream",
     "text": [
      "Train on 128 samples, validate on 10000 samples\n",
      "Epoch 1/20\n",
      "128/128 [==============================] - 0s 2ms/step - loss: 2.3562 - acc: 0.1172 - val_loss: 2.3730 - val_acc: 0.1290\n",
      "Epoch 2/20\n",
      "128/128 [==============================] - 0s 318us/step - loss: 2.2826 - acc: 0.1328 - val_loss: 2.3251 - val_acc: 0.1419\n",
      "Epoch 3/20\n",
      "128/128 [==============================] - 0s 287us/step - loss: 2.2123 - acc: 0.2031 - val_loss: 2.2804 - val_acc: 0.1612\n",
      "Epoch 4/20\n",
      "128/128 [==============================] - 0s 335us/step - loss: 2.1451 - acc: 0.2266 - val_loss: 2.2386 - val_acc: 0.1911\n",
      "Epoch 5/20\n",
      "128/128 [==============================] - 0s 340us/step - loss: 2.0810 - acc: 0.2734 - val_loss: 2.1995 - val_acc: 0.2353\n",
      "Epoch 6/20\n",
      "128/128 [==============================] - 0s 353us/step - loss: 2.0198 - acc: 0.3438 - val_loss: 2.1626 - val_acc: 0.2797\n",
      "Epoch 7/20\n",
      "128/128 [==============================] - 0s 402us/step - loss: 1.9611 - acc: 0.4062 - val_loss: 2.1277 - val_acc: 0.3130\n",
      "Epoch 8/20\n",
      "128/128 [==============================] - 0s 340us/step - loss: 1.9050 - acc: 0.4219 - val_loss: 2.0947 - val_acc: 0.3384\n",
      "Epoch 9/20\n",
      "128/128 [==============================] - 0s 397us/step - loss: 1.8510 - acc: 0.4844 - val_loss: 2.0631 - val_acc: 0.3586\n",
      "Epoch 10/20\n",
      "128/128 [==============================] - 0s 397us/step - loss: 1.7992 - acc: 0.4922 - val_loss: 2.0327 - val_acc: 0.3776\n",
      "Epoch 11/20\n",
      "128/128 [==============================] - 0s 381us/step - loss: 1.7492 - acc: 0.5391 - val_loss: 2.0034 - val_acc: 0.3966\n",
      "Epoch 12/20\n",
      "128/128 [==============================] - 0s 374us/step - loss: 1.7009 - acc: 0.5625 - val_loss: 1.9748 - val_acc: 0.4152\n",
      "Epoch 13/20\n",
      "128/128 [==============================] - 0s 403us/step - loss: 1.6541 - acc: 0.5859 - val_loss: 1.9469 - val_acc: 0.4304\n",
      "Epoch 14/20\n",
      "128/128 [==============================] - 0s 415us/step - loss: 1.6087 - acc: 0.6094 - val_loss: 1.9196 - val_acc: 0.4486\n",
      "Epoch 15/20\n",
      "128/128 [==============================] - 0s 287us/step - loss: 1.5647 - acc: 0.6641 - val_loss: 1.8926 - val_acc: 0.4669\n",
      "Epoch 16/20\n",
      "128/128 [==============================] - 0s 321us/step - loss: 1.5218 - acc: 0.6797 - val_loss: 1.8661 - val_acc: 0.4853\n",
      "Epoch 17/20\n",
      "128/128 [==============================] - 0s 337us/step - loss: 1.4801 - acc: 0.7344 - val_loss: 1.8399 - val_acc: 0.5014\n",
      "Epoch 18/20\n",
      "128/128 [==============================] - 0s 355us/step - loss: 1.4394 - acc: 0.7656 - val_loss: 1.8140 - val_acc: 0.5183\n",
      "Epoch 19/20\n",
      "128/128 [==============================] - 0s 382us/step - loss: 1.3999 - acc: 0.7891 - val_loss: 1.7886 - val_acc: 0.5303\n",
      "Epoch 20/20\n",
      "128/128 [==============================] - 0s 379us/step - loss: 1.3614 - acc: 0.8203 - val_loss: 1.7635 - val_acc: 0.5429\n"
     ]
    }
   ],
   "source": [
    "history = model.fit(\n",
    "    x_train, y_train,\n",
    "    batch_size=batch_size,\n",
    "    epochs=epochs,\n",
    "    verbose=1,\n",
    "    validation_data=(x_test, y_test)\n",
    ")"
   ]
  },
  {
   "cell_type": "code",
   "execution_count": 39,
   "metadata": {},
   "outputs": [
    {
     "name": "stdout",
     "output_type": "stream",
     "text": [
      "Test loss: 1.7635096961975099\n",
      "Test accuracy: 0.5429\n"
     ]
    }
   ],
   "source": [
    "score = model.evaluate(x_test, y_test, verbose=0)\n",
    "print('Test loss:', score[0])\n",
    "print('Test accuracy:', score[1])"
   ]
  },
  {
   "cell_type": "code",
   "execution_count": 40,
   "metadata": {},
   "outputs": [
    {
     "name": "stdout",
     "output_type": "stream",
     "text": [
      "    Epoche                  Legende      Loss\n",
      "0        0  Loss auf Trainingsdaten  2.356192\n",
      "1        1  Loss auf Trainingsdaten  2.282586\n",
      "2        2  Loss auf Trainingsdaten  2.212254\n",
      "3        3  Loss auf Trainingsdaten  2.145113\n",
      "4        4  Loss auf Trainingsdaten  2.081011\n",
      "5        5  Loss auf Trainingsdaten  2.019757\n",
      "6        6  Loss auf Trainingsdaten  1.961145\n",
      "7        7  Loss auf Trainingsdaten  1.904972\n",
      "8        8  Loss auf Trainingsdaten  1.851042\n",
      "9        9  Loss auf Trainingsdaten  1.799165\n",
      "10      10  Loss auf Trainingsdaten  1.749161\n",
      "11      11  Loss auf Trainingsdaten  1.700856\n",
      "12      12  Loss auf Trainingsdaten  1.654093\n",
      "13      13  Loss auf Trainingsdaten  1.608734\n",
      "14      14  Loss auf Trainingsdaten  1.564664\n",
      "15      15  Loss auf Trainingsdaten  1.521795\n",
      "16      16  Loss auf Trainingsdaten  1.480065\n",
      "17      17  Loss auf Trainingsdaten  1.439434\n",
      "18      18  Loss auf Trainingsdaten  1.399886\n",
      "19      19  Loss auf Trainingsdaten  1.361418\n",
      "20       0       Loss auf Testdaten  2.373029\n",
      "21       1       Loss auf Testdaten  2.325118\n",
      "22       2       Loss auf Testdaten  2.280408\n",
      "23       3       Loss auf Testdaten  2.238623\n",
      "24       4       Loss auf Testdaten  2.199453\n",
      "25       5       Loss auf Testdaten  2.162589\n",
      "26       6       Loss auf Testdaten  2.127748\n",
      "27       7       Loss auf Testdaten  2.094660\n",
      "28       8       Loss auf Testdaten  2.063062\n",
      "29       9       Loss auf Testdaten  2.032705\n",
      "30      10       Loss auf Testdaten  2.003361\n",
      "31      11       Loss auf Testdaten  1.974830\n",
      "32      12       Loss auf Testdaten  1.946947\n",
      "33      13       Loss auf Testdaten  1.919583\n",
      "34      14       Loss auf Testdaten  1.892649\n",
      "35      15       Loss auf Testdaten  1.866088\n",
      "36      16       Loss auf Testdaten  1.839879\n",
      "37      17       Loss auf Testdaten  1.814025\n",
      "38      18       Loss auf Testdaten  1.788555\n",
      "39      19       Loss auf Testdaten  1.763510\n",
      "    Epoche                      Legende  Accuracy\n",
      "0        0  Accuracy auf Trainingsdaten  0.117188\n",
      "1        1  Accuracy auf Trainingsdaten  0.132812\n",
      "2        2  Accuracy auf Trainingsdaten  0.203125\n",
      "3        3  Accuracy auf Trainingsdaten  0.226562\n",
      "4        4  Accuracy auf Trainingsdaten  0.273438\n",
      "5        5  Accuracy auf Trainingsdaten  0.343750\n",
      "6        6  Accuracy auf Trainingsdaten  0.406250\n",
      "7        7  Accuracy auf Trainingsdaten  0.421875\n",
      "8        8  Accuracy auf Trainingsdaten  0.484375\n",
      "9        9  Accuracy auf Trainingsdaten  0.492188\n",
      "10      10  Accuracy auf Trainingsdaten  0.539062\n",
      "11      11  Accuracy auf Trainingsdaten  0.562500\n",
      "12      12  Accuracy auf Trainingsdaten  0.585938\n",
      "13      13  Accuracy auf Trainingsdaten  0.609375\n",
      "14      14  Accuracy auf Trainingsdaten  0.664062\n",
      "15      15  Accuracy auf Trainingsdaten  0.679688\n",
      "16      16  Accuracy auf Trainingsdaten  0.734375\n",
      "17      17  Accuracy auf Trainingsdaten  0.765625\n",
      "18      18  Accuracy auf Trainingsdaten  0.789062\n",
      "19      19  Accuracy auf Trainingsdaten  0.820312\n",
      "20       0       Accuracy auf Testdaten  0.129000\n",
      "21       1       Accuracy auf Testdaten  0.141900\n",
      "22       2       Accuracy auf Testdaten  0.161200\n",
      "23       3       Accuracy auf Testdaten  0.191100\n",
      "24       4       Accuracy auf Testdaten  0.235300\n",
      "25       5       Accuracy auf Testdaten  0.279700\n",
      "26       6       Accuracy auf Testdaten  0.313000\n",
      "27       7       Accuracy auf Testdaten  0.338400\n",
      "28       8       Accuracy auf Testdaten  0.358600\n",
      "29       9       Accuracy auf Testdaten  0.377600\n",
      "30      10       Accuracy auf Testdaten  0.396600\n",
      "31      11       Accuracy auf Testdaten  0.415200\n",
      "32      12       Accuracy auf Testdaten  0.430400\n",
      "33      13       Accuracy auf Testdaten  0.448600\n",
      "34      14       Accuracy auf Testdaten  0.466900\n",
      "35      15       Accuracy auf Testdaten  0.485300\n",
      "36      16       Accuracy auf Testdaten  0.501400\n",
      "37      17       Accuracy auf Testdaten  0.518300\n",
      "38      18       Accuracy auf Testdaten  0.530300\n",
      "39      19       Accuracy auf Testdaten  0.542900\n"
     ]
    }
   ],
   "source": [
    "from pandas import DataFrame\n",
    "df_loss = DataFrame(data={\n",
    "    'Epoche': history.epoch * 2,\n",
    "    'Legende': ['Loss auf Trainingsdaten'] * len(history.epoch) + ['Loss auf Testdaten'] * len(history.epoch),\n",
    "    'Loss': history.history['loss'] + history.history['val_loss']\n",
    "})\n",
    "df_accuracy = DataFrame(data={\n",
    "    'Epoche': history.epoch * 2,\n",
    "    'Legende': ['Accuracy auf Trainingsdaten'] * len(history.epoch) + ['Accuracy auf Testdaten'] * len(history.epoch),\n",
    "    'Accuracy': history.history['acc'] + history.history['val_acc']\n",
    "})\n",
    "print(df_loss)\n",
    "print(df_accuracy)"
   ]
  },
  {
   "cell_type": "code",
   "execution_count": 41,
   "metadata": {},
   "outputs": [
    {
     "data": {
      "application/javascript": [
       "var spec = {\"config\": {\"view\": {\"width\": 400, \"height\": 300}, \"mark\": {\"tooltip\": null}}, \"layer\": [{\"data\": {\"name\": \"data-39d92846d5ff1a65e548ec3f138f5551\"}, \"mark\": \"line\", \"encoding\": {\"color\": {\"type\": \"nominal\", \"field\": \"Legende\"}, \"x\": {\"type\": \"quantitative\", \"field\": \"Epoche\"}, \"y\": {\"type\": \"quantitative\", \"field\": \"Loss\"}}}, {\"data\": {\"name\": \"data-ee4b3bf4c3d0b4b06aef4412f91e17eb\"}, \"mark\": \"line\", \"encoding\": {\"color\": {\"type\": \"nominal\", \"field\": \"Legende\"}, \"x\": {\"type\": \"quantitative\", \"field\": \"Epoche\"}, \"y\": {\"type\": \"quantitative\", \"field\": \"Accuracy\"}}}], \"resolve\": {\"scale\": {\"y\": \"independent\"}}, \"$schema\": \"https://vega.github.io/schema/vega-lite/v3.2.1.json\", \"datasets\": {\"data-39d92846d5ff1a65e548ec3f138f5551\": [{\"Epoche\": 0, \"Legende\": \"Loss auf Trainingsdaten\", \"Loss\": 2.356192111968994}, {\"Epoche\": 1, \"Legende\": \"Loss auf Trainingsdaten\", \"Loss\": 2.282586097717285}, {\"Epoche\": 2, \"Legende\": \"Loss auf Trainingsdaten\", \"Loss\": 2.2122535705566406}, {\"Epoche\": 3, \"Legende\": \"Loss auf Trainingsdaten\", \"Loss\": 2.145113468170166}, {\"Epoche\": 4, \"Legende\": \"Loss auf Trainingsdaten\", \"Loss\": 2.0810110569000244}, {\"Epoche\": 5, \"Legende\": \"Loss auf Trainingsdaten\", \"Loss\": 2.01975679397583}, {\"Epoche\": 6, \"Legende\": \"Loss auf Trainingsdaten\", \"Loss\": 1.9611451625823975}, {\"Epoche\": 7, \"Legende\": \"Loss auf Trainingsdaten\", \"Loss\": 1.9049720764160156}, {\"Epoche\": 8, \"Legende\": \"Loss auf Trainingsdaten\", \"Loss\": 1.8510417938232422}, {\"Epoche\": 9, \"Legende\": \"Loss auf Trainingsdaten\", \"Loss\": 1.7991654872894287}, {\"Epoche\": 10, \"Legende\": \"Loss auf Trainingsdaten\", \"Loss\": 1.7491611242294312}, {\"Epoche\": 11, \"Legende\": \"Loss auf Trainingsdaten\", \"Loss\": 1.7008562088012695}, {\"Epoche\": 12, \"Legende\": \"Loss auf Trainingsdaten\", \"Loss\": 1.6540932655334473}, {\"Epoche\": 13, \"Legende\": \"Loss auf Trainingsdaten\", \"Loss\": 1.6087337732315063}, {\"Epoche\": 14, \"Legende\": \"Loss auf Trainingsdaten\", \"Loss\": 1.5646640062332153}, {\"Epoche\": 15, \"Legende\": \"Loss auf Trainingsdaten\", \"Loss\": 1.5217950344085693}, {\"Epoche\": 16, \"Legende\": \"Loss auf Trainingsdaten\", \"Loss\": 1.4800646305084229}, {\"Epoche\": 17, \"Legende\": \"Loss auf Trainingsdaten\", \"Loss\": 1.439434289932251}, {\"Epoche\": 18, \"Legende\": \"Loss auf Trainingsdaten\", \"Loss\": 1.3998863697052002}, {\"Epoche\": 19, \"Legende\": \"Loss auf Trainingsdaten\", \"Loss\": 1.3614180088043213}, {\"Epoche\": 0, \"Legende\": \"Loss auf Testdaten\", \"Loss\": 2.373029334259033}, {\"Epoche\": 1, \"Legende\": \"Loss auf Testdaten\", \"Loss\": 2.3251178283691405}, {\"Epoche\": 2, \"Legende\": \"Loss auf Testdaten\", \"Loss\": 2.2804076446533204}, {\"Epoche\": 3, \"Legende\": \"Loss auf Testdaten\", \"Loss\": 2.2386227851867675}, {\"Epoche\": 4, \"Legende\": \"Loss auf Testdaten\", \"Loss\": 2.1994527557373047}, {\"Epoche\": 5, \"Legende\": \"Loss auf Testdaten\", \"Loss\": 2.1625893356323243}, {\"Epoche\": 6, \"Legende\": \"Loss auf Testdaten\", \"Loss\": 2.1277483848571777}, {\"Epoche\": 7, \"Legende\": \"Loss auf Testdaten\", \"Loss\": 2.0946595291137697}, {\"Epoche\": 8, \"Legende\": \"Loss auf Testdaten\", \"Loss\": 2.063061630630493}, {\"Epoche\": 9, \"Legende\": \"Loss auf Testdaten\", \"Loss\": 2.0327049518585203}, {\"Epoche\": 10, \"Legende\": \"Loss auf Testdaten\", \"Loss\": 2.003360803604126}, {\"Epoche\": 11, \"Legende\": \"Loss auf Testdaten\", \"Loss\": 1.9748296340942382}, {\"Epoche\": 12, \"Legende\": \"Loss auf Testdaten\", \"Loss\": 1.9469465181350707}, {\"Epoche\": 13, \"Legende\": \"Loss auf Testdaten\", \"Loss\": 1.9195832387924194}, {\"Epoche\": 14, \"Legende\": \"Loss auf Testdaten\", \"Loss\": 1.8926487871170043}, {\"Epoche\": 15, \"Legende\": \"Loss auf Testdaten\", \"Loss\": 1.8660880878448487}, {\"Epoche\": 16, \"Legende\": \"Loss auf Testdaten\", \"Loss\": 1.8398785737991332}, {\"Epoche\": 17, \"Legende\": \"Loss auf Testdaten\", \"Loss\": 1.8140253925323486}, {\"Epoche\": 18, \"Legende\": \"Loss auf Testdaten\", \"Loss\": 1.7885552045822144}, {\"Epoche\": 19, \"Legende\": \"Loss auf Testdaten\", \"Loss\": 1.7635096988677978}], \"data-ee4b3bf4c3d0b4b06aef4412f91e17eb\": [{\"Epoche\": 0, \"Legende\": \"Accuracy auf Trainingsdaten\", \"Accuracy\": 0.1171875}, {\"Epoche\": 1, \"Legende\": \"Accuracy auf Trainingsdaten\", \"Accuracy\": 0.1328125}, {\"Epoche\": 2, \"Legende\": \"Accuracy auf Trainingsdaten\", \"Accuracy\": 0.203125}, {\"Epoche\": 3, \"Legende\": \"Accuracy auf Trainingsdaten\", \"Accuracy\": 0.2265625}, {\"Epoche\": 4, \"Legende\": \"Accuracy auf Trainingsdaten\", \"Accuracy\": 0.2734375}, {\"Epoche\": 5, \"Legende\": \"Accuracy auf Trainingsdaten\", \"Accuracy\": 0.34375}, {\"Epoche\": 6, \"Legende\": \"Accuracy auf Trainingsdaten\", \"Accuracy\": 0.40625}, {\"Epoche\": 7, \"Legende\": \"Accuracy auf Trainingsdaten\", \"Accuracy\": 0.421875}, {\"Epoche\": 8, \"Legende\": \"Accuracy auf Trainingsdaten\", \"Accuracy\": 0.484375}, {\"Epoche\": 9, \"Legende\": \"Accuracy auf Trainingsdaten\", \"Accuracy\": 0.4921875}, {\"Epoche\": 10, \"Legende\": \"Accuracy auf Trainingsdaten\", \"Accuracy\": 0.5390625}, {\"Epoche\": 11, \"Legende\": \"Accuracy auf Trainingsdaten\", \"Accuracy\": 0.5625}, {\"Epoche\": 12, \"Legende\": \"Accuracy auf Trainingsdaten\", \"Accuracy\": 0.5859375}, {\"Epoche\": 13, \"Legende\": \"Accuracy auf Trainingsdaten\", \"Accuracy\": 0.609375}, {\"Epoche\": 14, \"Legende\": \"Accuracy auf Trainingsdaten\", \"Accuracy\": 0.6640625}, {\"Epoche\": 15, \"Legende\": \"Accuracy auf Trainingsdaten\", \"Accuracy\": 0.6796875}, {\"Epoche\": 16, \"Legende\": \"Accuracy auf Trainingsdaten\", \"Accuracy\": 0.734375}, {\"Epoche\": 17, \"Legende\": \"Accuracy auf Trainingsdaten\", \"Accuracy\": 0.765625}, {\"Epoche\": 18, \"Legende\": \"Accuracy auf Trainingsdaten\", \"Accuracy\": 0.7890625}, {\"Epoche\": 19, \"Legende\": \"Accuracy auf Trainingsdaten\", \"Accuracy\": 0.8203125}, {\"Epoche\": 0, \"Legende\": \"Accuracy auf Testdaten\", \"Accuracy\": 0.129}, {\"Epoche\": 1, \"Legende\": \"Accuracy auf Testdaten\", \"Accuracy\": 0.1419}, {\"Epoche\": 2, \"Legende\": \"Accuracy auf Testdaten\", \"Accuracy\": 0.1612}, {\"Epoche\": 3, \"Legende\": \"Accuracy auf Testdaten\", \"Accuracy\": 0.1911}, {\"Epoche\": 4, \"Legende\": \"Accuracy auf Testdaten\", \"Accuracy\": 0.2353}, {\"Epoche\": 5, \"Legende\": \"Accuracy auf Testdaten\", \"Accuracy\": 0.2797}, {\"Epoche\": 6, \"Legende\": \"Accuracy auf Testdaten\", \"Accuracy\": 0.313}, {\"Epoche\": 7, \"Legende\": \"Accuracy auf Testdaten\", \"Accuracy\": 0.3384}, {\"Epoche\": 8, \"Legende\": \"Accuracy auf Testdaten\", \"Accuracy\": 0.3586}, {\"Epoche\": 9, \"Legende\": \"Accuracy auf Testdaten\", \"Accuracy\": 0.3776}, {\"Epoche\": 10, \"Legende\": \"Accuracy auf Testdaten\", \"Accuracy\": 0.3966}, {\"Epoche\": 11, \"Legende\": \"Accuracy auf Testdaten\", \"Accuracy\": 0.4152}, {\"Epoche\": 12, \"Legende\": \"Accuracy auf Testdaten\", \"Accuracy\": 0.4304}, {\"Epoche\": 13, \"Legende\": \"Accuracy auf Testdaten\", \"Accuracy\": 0.4486}, {\"Epoche\": 14, \"Legende\": \"Accuracy auf Testdaten\", \"Accuracy\": 0.4669}, {\"Epoche\": 15, \"Legende\": \"Accuracy auf Testdaten\", \"Accuracy\": 0.4853}, {\"Epoche\": 16, \"Legende\": \"Accuracy auf Testdaten\", \"Accuracy\": 0.5014}, {\"Epoche\": 17, \"Legende\": \"Accuracy auf Testdaten\", \"Accuracy\": 0.5183}, {\"Epoche\": 18, \"Legende\": \"Accuracy auf Testdaten\", \"Accuracy\": 0.5303}, {\"Epoche\": 19, \"Legende\": \"Accuracy auf Testdaten\", \"Accuracy\": 0.5429}]}};\n",
       "var opt = {};\n",
       "var type = \"vega-lite\";\n",
       "var id = \"d75c0608-bc33-4990-a2d8-7e4aea6dfaef\";\n",
       "\n",
       "var output_area = this;\n",
       "\n",
       "require([\"nbextensions/jupyter-vega/index\"], function(vega) {\n",
       "  var target = document.createElement(\"div\");\n",
       "  target.id = id;\n",
       "  target.className = \"vega-embed\";\n",
       "\n",
       "  var style = document.createElement(\"style\");\n",
       "  style.textContent = [\n",
       "    \".vega-embed .error p {\",\n",
       "    \"  color: firebrick;\",\n",
       "    \"  font-size: 14px;\",\n",
       "    \"}\",\n",
       "  ].join(\"\\\\n\");\n",
       "\n",
       "  // element is a jQuery wrapped DOM element inside the output area\n",
       "  // see http://ipython.readthedocs.io/en/stable/api/generated/\\\n",
       "  // IPython.display.html#IPython.display.Javascript.__init__\n",
       "  element[0].appendChild(target);\n",
       "  element[0].appendChild(style);\n",
       "\n",
       "  vega.render(\"#\" + id, spec, type, opt, output_area);\n",
       "}, function (err) {\n",
       "  if (err.requireType !== \"scripterror\") {\n",
       "    throw(err);\n",
       "  }\n",
       "});\n"
      ],
      "text/plain": [
       "<vega.vegalite.VegaLite at 0x7fa6e0325080>"
      ]
     },
     "metadata": {
      "jupyter-vega": "#d75c0608-bc33-4990-a2d8-7e4aea6dfaef"
     },
     "output_type": "display_data"
    },
    {
     "data": {
      "text/plain": []
     },
     "execution_count": 41,
     "metadata": {},
     "output_type": "execute_result"
    },
    {
     "data": {
      "image/png": "[encoded data removed]"
     },
     "metadata": {
      "jupyter-vega": "#d75c0608-bc33-4990-a2d8-7e4aea6dfaef"
     },
     "output_type": "display_data"
    }
   ],
   "source": [
    "import altair as alt\n",
    "alt.renderers.enable('notebook')\n",
    "\n",
    "chart_loss = alt.Chart(df_loss).mark_line().encode(\n",
    "    x='Epoche', y='Loss', color='Legende')\n",
    "chart_accuracy = alt.Chart(df_accuracy).mark_line().encode(\n",
    "    x='Epoche', y='Accuracy', color='Legende')\n",
    "chart = chart_loss + chart_accuracy\n",
    "chart.resolve_scale(y='independent')"
   ]
  },
  {
   "cell_type": "code",
   "execution_count": 42,
   "metadata": {},
   "outputs": [
    {
     "name": "stdout",
     "output_type": "stream",
     "text": [
      "_________________________________________________________________\n",
      "Layer (type)                 Output Shape              Param #   \n",
      "=================================================================\n",
      "flatten_7 (Flatten)          (None, 784)               0         \n",
      "_________________________________________________________________\n",
      "dense_11 (Dense)             (None, 128)               100480    \n",
      "_________________________________________________________________\n",
      "dense_12 (Dense)             (None, 10)                1290      \n",
      "=================================================================\n",
      "Total params: 101,770\n",
      "Trainable params: 101,770\n",
      "Non-trainable params: 0\n",
      "_________________________________________________________________\n",
      "None\n"
     ]
    }
   ],
   "source": [
    "model = Sequential()\n",
    "model.add(Flatten(input_shape=input_shape))\n",
    "model.add(Dense(128, activation='relu'))\n",
    "model.add(Dense(num_classes, activation='softmax'))\n",
    "print(model.summary())"
   ]
  },
  {
   "cell_type": "code",
   "execution_count": 43,
   "metadata": {},
   "outputs": [
    {
     "name": "stdout",
     "output_type": "stream",
     "text": [
      "Train on 128 samples, validate on 10000 samples\n",
      "Epoch 1/20\n",
      "128/128 [==============================] - 0s 3ms/step - loss: 2.4310 - acc: 0.0703 - val_loss: 2.3446 - val_acc: 0.1159\n",
      "Epoch 2/20\n",
      "128/128 [==============================] - 0s 687us/step - loss: 2.2477 - acc: 0.1484 - val_loss: 2.2232 - val_acc: 0.1992\n",
      "Epoch 3/20\n",
      "128/128 [==============================] - 0s 546us/step - loss: 2.0413 - acc: 0.3359 - val_loss: 2.1294 - val_acc: 0.2575\n",
      "Epoch 4/20\n",
      "128/128 [==============================] - 0s 641us/step - loss: 1.8692 - acc: 0.5078 - val_loss: 2.0554 - val_acc: 0.3263\n",
      "Epoch 5/20\n",
      "128/128 [==============================] - 0s 499us/step - loss: 1.7299 - acc: 0.6016 - val_loss: 1.9826 - val_acc: 0.3880\n",
      "Epoch 6/20\n",
      "128/128 [==============================] - 0s 512us/step - loss: 1.5954 - acc: 0.6484 - val_loss: 1.9114 - val_acc: 0.4304\n",
      "Epoch 7/20\n",
      "128/128 [==============================] - 0s 690us/step - loss: 1.4700 - acc: 0.6875 - val_loss: 1.8399 - val_acc: 0.4655\n",
      "Epoch 8/20\n",
      "128/128 [==============================] - 0s 702us/step - loss: 1.3510 - acc: 0.7188 - val_loss: 1.7681 - val_acc: 0.4956\n",
      "Epoch 9/20\n",
      "128/128 [==============================] - 0s 741us/step - loss: 1.2378 - acc: 0.7500 - val_loss: 1.6969 - val_acc: 0.5279\n",
      "Epoch 10/20\n",
      "128/128 [==============================] - 0s 693us/step - loss: 1.1312 - acc: 0.7812 - val_loss: 1.6276 - val_acc: 0.5559\n",
      "Epoch 11/20\n",
      "128/128 [==============================] - 0s 600us/step - loss: 1.0316 - acc: 0.8281 - val_loss: 1.5611 - val_acc: 0.5760\n",
      "Epoch 12/20\n",
      "128/128 [==============================] - 0s 480us/step - loss: 0.9387 - acc: 0.8672 - val_loss: 1.4980 - val_acc: 0.5945\n",
      "Epoch 13/20\n",
      "128/128 [==============================] - 0s 569us/step - loss: 0.8523 - acc: 0.8906 - val_loss: 1.4388 - val_acc: 0.6114\n",
      "Epoch 14/20\n",
      "128/128 [==============================] - 0s 522us/step - loss: 0.7733 - acc: 0.8984 - val_loss: 1.3843 - val_acc: 0.6284\n",
      "Epoch 15/20\n",
      "128/128 [==============================] - 0s 472us/step - loss: 0.7014 - acc: 0.9219 - val_loss: 1.3348 - val_acc: 0.6401\n",
      "Epoch 16/20\n",
      "128/128 [==============================] - 0s 605us/step - loss: 0.6365 - acc: 0.9297 - val_loss: 1.2903 - val_acc: 0.6462\n",
      "Epoch 17/20\n",
      "128/128 [==============================] - 0s 563us/step - loss: 0.5781 - acc: 0.9375 - val_loss: 1.2506 - val_acc: 0.6541\n",
      "Epoch 18/20\n",
      "128/128 [==============================] - 0s 501us/step - loss: 0.5254 - acc: 0.9453 - val_loss: 1.2153 - val_acc: 0.6595\n",
      "Epoch 19/20\n",
      "128/128 [==============================] - 0s 502us/step - loss: 0.4773 - acc: 0.9453 - val_loss: 1.1840 - val_acc: 0.6631\n",
      "Epoch 20/20\n",
      "128/128 [==============================] - 0s 474us/step - loss: 0.4335 - acc: 0.9609 - val_loss: 1.1565 - val_acc: 0.6663\n"
     ]
    }
   ],
   "source": [
    "model.compile(loss=categorical_crossentropy,\n",
    "              optimizer=Adam(),\n",
    "              metrics=['accuracy'])\n",
    "\n",
    "history = model.fit(\n",
    "    x_train, y_train,\n",
    "    batch_size=batch_size,\n",
    "    epochs=epochs,\n",
    "    verbose=1,\n",
    "    validation_data=(x_test, y_test)\n",
    ")"
   ]
  },
  {
   "cell_type": "code",
   "execution_count": 44,
   "metadata": {},
   "outputs": [],
   "source": [
    "def evaluate(model, history):\n",
    "    score = model.evaluate(x_test, y_test, verbose=0)\n",
    "    print('Test loss:', score[0])\n",
    "    print('Test accuracy:', score[1])\n",
    "    \n",
    "    df_loss = DataFrame(data={\n",
    "        'Epoche': history.epoch * 2,\n",
    "        'Legende': ['Loss auf Trainingsdaten'] * len(history.epoch) + ['Loss auf Testdaten'] * len(history.epoch),\n",
    "        'Loss': history.history['loss'] + history.history['val_loss']\n",
    "    })\n",
    "    df_accuracy = DataFrame(data={\n",
    "        'Epoche': history.epoch * 2,\n",
    "        'Legende': ['Accuracy auf Trainingsdaten'] * len(history.epoch) + ['Accuracy auf Testdaten'] * len(history.epoch),\n",
    "        'Accuracy': history.history['acc'] + history.history['val_acc']\n",
    "    })\n",
    "    chart_loss = alt.Chart(df_loss).mark_line().encode(\n",
    "        x='Epoche', y='Loss', color='Legende')\n",
    "    chart_accuracy = alt.Chart(df_accuracy).mark_line().encode(\n",
    "        x='Epoche', y='Accuracy', color='Legende')\n",
    "    chart = chart_loss + chart_accuracy\n",
    "    return chart.resolve_scale(y='independent')"
   ]
  },
  {
   "cell_type": "code",
   "execution_count": 45,
   "metadata": {},
   "outputs": [
    {
     "name": "stdout",
     "output_type": "stream",
     "text": [
      "Test loss: 1.156489528465271\n",
      "Test accuracy: 0.6663\n"
     ]
    },
    {
     "data": {
      "application/javascript": [
       "var spec = {\"config\": {\"view\": {\"width\": 400, \"height\": 300}, \"mark\": {\"tooltip\": null}}, \"layer\": [{\"data\": {\"name\": \"data-fdcdd27803a3439a6a50dd04b8539028\"}, \"mark\": \"line\", \"encoding\": {\"color\": {\"type\": \"nominal\", \"field\": \"Legende\"}, \"x\": {\"type\": \"quantitative\", \"field\": \"Epoche\"}, \"y\": {\"type\": \"quantitative\", \"field\": \"Loss\"}}}, {\"data\": {\"name\": \"data-44a86d4f5d787bef58f527586effa19b\"}, \"mark\": \"line\", \"encoding\": {\"color\": {\"type\": \"nominal\", \"field\": \"Legende\"}, \"x\": {\"type\": \"quantitative\", \"field\": \"Epoche\"}, \"y\": {\"type\": \"quantitative\", \"field\": \"Accuracy\"}}}], \"resolve\": {\"scale\": {\"y\": \"independent\"}}, \"$schema\": \"https://vega.github.io/schema/vega-lite/v3.2.1.json\", \"datasets\": {\"data-fdcdd27803a3439a6a50dd04b8539028\": [{\"Epoche\": 0, \"Legende\": \"Loss auf Trainingsdaten\", \"Loss\": 2.4310245513916016}, {\"Epoche\": 1, \"Legende\": \"Loss auf Trainingsdaten\", \"Loss\": 2.2477331161499023}, {\"Epoche\": 2, \"Legende\": \"Loss auf Trainingsdaten\", \"Loss\": 2.0412869453430176}, {\"Epoche\": 3, \"Legende\": \"Loss auf Trainingsdaten\", \"Loss\": 1.8692424297332764}, {\"Epoche\": 4, \"Legende\": \"Loss auf Trainingsdaten\", \"Loss\": 1.7299234867095947}, {\"Epoche\": 5, \"Legende\": \"Loss auf Trainingsdaten\", \"Loss\": 1.5953744649887085}, {\"Epoche\": 6, \"Legende\": \"Loss auf Trainingsdaten\", \"Loss\": 1.469998836517334}, {\"Epoche\": 7, \"Legende\": \"Loss auf Trainingsdaten\", \"Loss\": 1.3510217666625977}, {\"Epoche\": 8, \"Legende\": \"Loss auf Trainingsdaten\", \"Loss\": 1.2378181219100952}, {\"Epoche\": 9, \"Legende\": \"Loss auf Trainingsdaten\", \"Loss\": 1.1311579942703247}, {\"Epoche\": 10, \"Legende\": \"Loss auf Trainingsdaten\", \"Loss\": 1.0316486358642578}, {\"Epoche\": 11, \"Legende\": \"Loss auf Trainingsdaten\", \"Loss\": 0.9387370944023132}, {\"Epoche\": 12, \"Legende\": \"Loss auf Trainingsdaten\", \"Loss\": 0.852308988571167}, {\"Epoche\": 13, \"Legende\": \"Loss auf Trainingsdaten\", \"Loss\": 0.7733068466186523}, {\"Epoche\": 14, \"Legende\": \"Loss auf Trainingsdaten\", \"Loss\": 0.7014080286026001}, {\"Epoche\": 15, \"Legende\": \"Loss auf Trainingsdaten\", \"Loss\": 0.6364916563034058}, {\"Epoche\": 16, \"Legende\": \"Loss auf Trainingsdaten\", \"Loss\": 0.5781404376029968}, {\"Epoche\": 17, \"Legende\": \"Loss auf Trainingsdaten\", \"Loss\": 0.5253819227218628}, {\"Epoche\": 18, \"Legende\": \"Loss auf Trainingsdaten\", \"Loss\": 0.4772990643978119}, {\"Epoche\": 19, \"Legende\": \"Loss auf Trainingsdaten\", \"Loss\": 0.4334809482097626}, {\"Epoche\": 0, \"Legende\": \"Loss auf Testdaten\", \"Loss\": 2.3446358581542968}, {\"Epoche\": 1, \"Legende\": \"Loss auf Testdaten\", \"Loss\": 2.2231591720581054}, {\"Epoche\": 2, \"Legende\": \"Loss auf Testdaten\", \"Loss\": 2.129369524002075}, {\"Epoche\": 3, \"Legende\": \"Loss auf Testdaten\", \"Loss\": 2.05538021774292}, {\"Epoche\": 4, \"Legende\": \"Loss auf Testdaten\", \"Loss\": 1.9826010158538818}, {\"Epoche\": 5, \"Legende\": \"Loss auf Testdaten\", \"Loss\": 1.911406397819519}, {\"Epoche\": 6, \"Legende\": \"Loss auf Testdaten\", \"Loss\": 1.839893975830078}, {\"Epoche\": 7, \"Legende\": \"Loss auf Testdaten\", \"Loss\": 1.7681316036224366}, {\"Epoche\": 8, \"Legende\": \"Loss auf Testdaten\", \"Loss\": 1.6969088918685913}, {\"Epoche\": 9, \"Legende\": \"Loss auf Testdaten\", \"Loss\": 1.6276246410369872}, {\"Epoche\": 10, \"Legende\": \"Loss auf Testdaten\", \"Loss\": 1.5610891691207887}, {\"Epoche\": 11, \"Legende\": \"Loss auf Testdaten\", \"Loss\": 1.4979665267944335}, {\"Epoche\": 12, \"Legende\": \"Loss auf Testdaten\", \"Loss\": 1.4387966907501222}, {\"Epoche\": 13, \"Legende\": \"Loss auf Testdaten\", \"Loss\": 1.3842573350906373}, {\"Epoche\": 14, \"Legende\": \"Loss auf Testdaten\", \"Loss\": 1.3347555494308472}, {\"Epoche\": 15, \"Legende\": \"Loss auf Testdaten\", \"Loss\": 1.2902913192749024}, {\"Epoche\": 16, \"Legende\": \"Loss auf Testdaten\", \"Loss\": 1.2505840888977051}, {\"Epoche\": 17, \"Legende\": \"Loss auf Testdaten\", \"Loss\": 1.215274378967285}, {\"Epoche\": 18, \"Legende\": \"Loss auf Testdaten\", \"Loss\": 1.183983868598938}, {\"Epoche\": 19, \"Legende\": \"Loss auf Testdaten\", \"Loss\": 1.1564895280838012}], \"data-44a86d4f5d787bef58f527586effa19b\": [{\"Epoche\": 0, \"Legende\": \"Accuracy auf Trainingsdaten\", \"Accuracy\": 0.0703125}, {\"Epoche\": 1, \"Legende\": \"Accuracy auf Trainingsdaten\", \"Accuracy\": 0.1484375}, {\"Epoche\": 2, \"Legende\": \"Accuracy auf Trainingsdaten\", \"Accuracy\": 0.3359375}, {\"Epoche\": 3, \"Legende\": \"Accuracy auf Trainingsdaten\", \"Accuracy\": 0.5078125}, {\"Epoche\": 4, \"Legende\": \"Accuracy auf Trainingsdaten\", \"Accuracy\": 0.6015625}, {\"Epoche\": 5, \"Legende\": \"Accuracy auf Trainingsdaten\", \"Accuracy\": 0.6484375}, {\"Epoche\": 6, \"Legende\": \"Accuracy auf Trainingsdaten\", \"Accuracy\": 0.6875}, {\"Epoche\": 7, \"Legende\": \"Accuracy auf Trainingsdaten\", \"Accuracy\": 0.71875}, {\"Epoche\": 8, \"Legende\": \"Accuracy auf Trainingsdaten\", \"Accuracy\": 0.75}, {\"Epoche\": 9, \"Legende\": \"Accuracy auf Trainingsdaten\", \"Accuracy\": 0.78125}, {\"Epoche\": 10, \"Legende\": \"Accuracy auf Trainingsdaten\", \"Accuracy\": 0.828125}, {\"Epoche\": 11, \"Legende\": \"Accuracy auf Trainingsdaten\", \"Accuracy\": 0.8671875}, {\"Epoche\": 12, \"Legende\": \"Accuracy auf Trainingsdaten\", \"Accuracy\": 0.890625}, {\"Epoche\": 13, \"Legende\": \"Accuracy auf Trainingsdaten\", \"Accuracy\": 0.8984375}, {\"Epoche\": 14, \"Legende\": \"Accuracy auf Trainingsdaten\", \"Accuracy\": 0.921875}, {\"Epoche\": 15, \"Legende\": \"Accuracy auf Trainingsdaten\", \"Accuracy\": 0.9296875}, {\"Epoche\": 16, \"Legende\": \"Accuracy auf Trainingsdaten\", \"Accuracy\": 0.9375}, {\"Epoche\": 17, \"Legende\": \"Accuracy auf Trainingsdaten\", \"Accuracy\": 0.9453125}, {\"Epoche\": 18, \"Legende\": \"Accuracy auf Trainingsdaten\", \"Accuracy\": 0.9453125}, {\"Epoche\": 19, \"Legende\": \"Accuracy auf Trainingsdaten\", \"Accuracy\": 0.9609375}, {\"Epoche\": 0, \"Legende\": \"Accuracy auf Testdaten\", \"Accuracy\": 0.1159}, {\"Epoche\": 1, \"Legende\": \"Accuracy auf Testdaten\", \"Accuracy\": 0.1992}, {\"Epoche\": 2, \"Legende\": \"Accuracy auf Testdaten\", \"Accuracy\": 0.2575}, {\"Epoche\": 3, \"Legende\": \"Accuracy auf Testdaten\", \"Accuracy\": 0.3263}, {\"Epoche\": 4, \"Legende\": \"Accuracy auf Testdaten\", \"Accuracy\": 0.388}, {\"Epoche\": 5, \"Legende\": \"Accuracy auf Testdaten\", \"Accuracy\": 0.4304}, {\"Epoche\": 6, \"Legende\": \"Accuracy auf Testdaten\", \"Accuracy\": 0.4655}, {\"Epoche\": 7, \"Legende\": \"Accuracy auf Testdaten\", \"Accuracy\": 0.4956}, {\"Epoche\": 8, \"Legende\": \"Accuracy auf Testdaten\", \"Accuracy\": 0.5279}, {\"Epoche\": 9, \"Legende\": \"Accuracy auf Testdaten\", \"Accuracy\": 0.5559}, {\"Epoche\": 10, \"Legende\": \"Accuracy auf Testdaten\", \"Accuracy\": 0.576}, {\"Epoche\": 11, \"Legende\": \"Accuracy auf Testdaten\", \"Accuracy\": 0.5945}, {\"Epoche\": 12, \"Legende\": \"Accuracy auf Testdaten\", \"Accuracy\": 0.6114}, {\"Epoche\": 13, \"Legende\": \"Accuracy auf Testdaten\", \"Accuracy\": 0.6284}, {\"Epoche\": 14, \"Legende\": \"Accuracy auf Testdaten\", \"Accuracy\": 0.6401}, {\"Epoche\": 15, \"Legende\": \"Accuracy auf Testdaten\", \"Accuracy\": 0.6462}, {\"Epoche\": 16, \"Legende\": \"Accuracy auf Testdaten\", \"Accuracy\": 0.6541}, {\"Epoche\": 17, \"Legende\": \"Accuracy auf Testdaten\", \"Accuracy\": 0.6595}, {\"Epoche\": 18, \"Legende\": \"Accuracy auf Testdaten\", \"Accuracy\": 0.6631}, {\"Epoche\": 19, \"Legende\": \"Accuracy auf Testdaten\", \"Accuracy\": 0.6663}]}};\n",
       "var opt = {};\n",
       "var type = \"vega-lite\";\n",
       "var id = \"845389b8-c412-4e40-a425-58d45090151c\";\n",
       "\n",
       "var output_area = this;\n",
       "\n",
       "require([\"nbextensions/jupyter-vega/index\"], function(vega) {\n",
       "  var target = document.createElement(\"div\");\n",
       "  target.id = id;\n",
       "  target.className = \"vega-embed\";\n",
       "\n",
       "  var style = document.createElement(\"style\");\n",
       "  style.textContent = [\n",
       "    \".vega-embed .error p {\",\n",
       "    \"  color: firebrick;\",\n",
       "    \"  font-size: 14px;\",\n",
       "    \"}\",\n",
       "  ].join(\"\\\\n\");\n",
       "\n",
       "  // element is a jQuery wrapped DOM element inside the output area\n",
       "  // see http://ipython.readthedocs.io/en/stable/api/generated/\\\n",
       "  // IPython.display.html#IPython.display.Javascript.__init__\n",
       "  element[0].appendChild(target);\n",
       "  element[0].appendChild(style);\n",
       "\n",
       "  vega.render(\"#\" + id, spec, type, opt, output_area);\n",
       "}, function (err) {\n",
       "  if (err.requireType !== \"scripterror\") {\n",
       "    throw(err);\n",
       "  }\n",
       "});\n"
      ],
      "text/plain": [
       "<vega.vegalite.VegaLite at 0x7fa6e0311cf8>"
      ]
     },
     "metadata": {
      "jupyter-vega": "#845389b8-c412-4e40-a425-58d45090151c"
     },
     "output_type": "display_data"
    },
    {
     "data": {
      "text/plain": []
     },
     "execution_count": 45,
     "metadata": {},
     "output_type": "execute_result"
    },
    {
     "data": {
      "image/png": "[encoded data removed]"
     },
     "metadata": {
      "jupyter-vega": "#845389b8-c412-4e40-a425-58d45090151c"
     },
     "output_type": "display_data"
    }
   ],
   "source": [
    "evaluate(model, history)"
   ]
  },
  {
   "cell_type": "code",
   "execution_count": 51,
   "metadata": {},
   "outputs": [],
   "source": [
    "(x_train, y_train), (x_test, y_test) = mnist.load_data()\n",
    "\n",
    "train_size = x_train.shape[0]\n",
    "test_size = x_test.shape[0]\n",
    "\n",
    "data_format = K.image_data_format()\n",
    "if data_format == 'channels_first':\n",
    "    x_train = x_train.reshape(train_size, 1, rows, cols)\n",
    "    x_test = x_test.reshape(test_size, 1, rows, cols)\n",
    "    input_shape = (1, rows, cols)\n",
    "else:\n",
    "    x_train = x_train.reshape(train_size, rows, cols, 1)\n",
    "    x_test = x_test.reshape(test_size, rows, cols, 1)\n",
    "    input_shape = (rows, cols, 1)\n",
    "    \n",
    "# norm data to float in range 0..1\n",
    "x_train = x_train.astype('float32')\n",
    "x_test = x_test.astype('float32')\n",
    "x_train /= 255\n",
    "x_test /= 255\n",
    "\n",
    "# convert class vectors to one hot vector\n",
    "y_train = to_categorical(y_train, 10)\n",
    "y_test = to_categorical(y_test, 10)"
   ]
  },
  {
   "cell_type": "code",
   "execution_count": 62,
   "metadata": {},
   "outputs": [
    {
     "name": "stdout",
     "output_type": "stream",
     "text": [
      "_________________________________________________________________\n",
      "Layer (type)                 Output Shape              Param #   \n",
      "=================================================================\n",
      "flatten_12 (Flatten)         (None, 784)               0         \n",
      "_________________________________________________________________\n",
      "dense_21 (Dense)             (None, 128)               100480    \n",
      "_________________________________________________________________\n",
      "dropout_8 (Dropout)          (None, 128)               0         \n",
      "_________________________________________________________________\n",
      "dense_22 (Dense)             (None, 10)                1290      \n",
      "=================================================================\n",
      "Total params: 101,770\n",
      "Trainable params: 101,770\n",
      "Non-trainable params: 0\n",
      "_________________________________________________________________\n",
      "None\n"
     ]
    }
   ],
   "source": [
    "model = Sequential()\n",
    "model.add(Flatten(input_shape=input_shape))\n",
    "model.add(Dense(128, activation='relu'))\n",
    "model.add(Dropout(rate=0.5))\n",
    "model.add(Dense(num_classes, activation='softmax'))\n",
    "print(model.summary())"
   ]
  },
  {
   "cell_type": "code",
   "execution_count": 59,
   "metadata": {},
   "outputs": [
    {
     "name": "stdout",
     "output_type": "stream",
     "text": [
      "Train on 60000 samples, validate on 10000 samples\n",
      "Epoch 1/12\n",
      "60000/60000 [==============================] - 2s 34us/step - loss: 0.5043 - acc: 0.8496 - val_loss: 0.2150 - val_acc: 0.9369\n",
      "Epoch 2/12\n",
      "60000/60000 [==============================] - 2s 26us/step - loss: 0.2670 - acc: 0.9237 - val_loss: 0.1574 - val_acc: 0.9533\n",
      "Epoch 3/12\n",
      "60000/60000 [==============================] - 2s 25us/step - loss: 0.2164 - acc: 0.9371 - val_loss: 0.1320 - val_acc: 0.9604\n",
      "Epoch 4/12\n",
      "60000/60000 [==============================] - 2s 26us/step - loss: 0.1892 - acc: 0.9452 - val_loss: 0.1161 - val_acc: 0.9644\n",
      "Epoch 5/12\n",
      "60000/60000 [==============================] - 2s 26us/step - loss: 0.1680 - acc: 0.9505 - val_loss: 0.1063 - val_acc: 0.9676\n",
      "Epoch 6/12\n",
      "60000/60000 [==============================] - 2s 27us/step - loss: 0.1579 - acc: 0.9531 - val_loss: 0.1005 - val_acc: 0.9696\n",
      "Epoch 7/12\n",
      "60000/60000 [==============================] - 2s 26us/step - loss: 0.1446 - acc: 0.9576 - val_loss: 0.0939 - val_acc: 0.9718\n",
      "Epoch 8/12\n",
      "60000/60000 [==============================] - 2s 27us/step - loss: 0.1377 - acc: 0.9576 - val_loss: 0.0900 - val_acc: 0.9722\n",
      "Epoch 9/12\n",
      "60000/60000 [==============================] - 2s 26us/step - loss: 0.1312 - acc: 0.9599 - val_loss: 0.0852 - val_acc: 0.9733\n",
      "Epoch 10/12\n",
      "60000/60000 [==============================] - 2s 25us/step - loss: 0.1243 - acc: 0.9625 - val_loss: 0.0830 - val_acc: 0.9748\n",
      "Epoch 11/12\n",
      "60000/60000 [==============================] - 2s 26us/step - loss: 0.1189 - acc: 0.9641 - val_loss: 0.0811 - val_acc: 0.9744\n",
      "Epoch 12/12\n",
      "60000/60000 [==============================] - 2s 26us/step - loss: 0.1157 - acc: 0.9650 - val_loss: 0.0802 - val_acc: 0.9762\n"
     ]
    }
   ],
   "source": [
    "batch_size = 128\n",
    "epochs = 12\n",
    "\n",
    "model.compile(loss=categorical_crossentropy,\n",
    "              optimizer=Adam(),\n",
    "              metrics=['accuracy'])\n",
    "\n",
    "history = model.fit(\n",
    "    x_train, y_train,\n",
    "    batch_size=batch_size,\n",
    "    epochs=epochs,\n",
    "    verbose=1,\n",
    "    validation_data=(x_test, y_test)\n",
    ")"
   ]
  },
  {
   "cell_type": "code",
   "execution_count": 60,
   "metadata": {},
   "outputs": [
    {
     "name": "stdout",
     "output_type": "stream",
     "text": [
      "Test loss: 0.08017812022778671\n",
      "Test accuracy: 0.9762\n"
     ]
    },
    {
     "data": {
      "application/javascript": [
       "var spec = {\"config\": {\"view\": {\"width\": 400, \"height\": 300}, \"mark\": {\"tooltip\": null}}, \"layer\": [{\"data\": {\"name\": \"data-740183d8556b6266f033ec99bc470459\"}, \"mark\": \"line\", \"encoding\": {\"color\": {\"type\": \"nominal\", \"field\": \"Legende\"}, \"x\": {\"type\": \"quantitative\", \"field\": \"Epoche\"}, \"y\": {\"type\": \"quantitative\", \"field\": \"Loss\"}}}, {\"data\": {\"name\": \"data-bf439a440cd3810bf8fbcf5f94cfc250\"}, \"mark\": \"line\", \"encoding\": {\"color\": {\"type\": \"nominal\", \"field\": \"Legende\"}, \"x\": {\"type\": \"quantitative\", \"field\": \"Epoche\"}, \"y\": {\"type\": \"quantitative\", \"field\": \"Accuracy\"}}}], \"resolve\": {\"scale\": {\"y\": \"independent\"}}, \"$schema\": \"https://vega.github.io/schema/vega-lite/v3.2.1.json\", \"datasets\": {\"data-740183d8556b6266f033ec99bc470459\": [{\"Epoche\": 0, \"Legende\": \"Loss auf Trainingsdaten\", \"Loss\": 0.5043373471498489}, {\"Epoche\": 1, \"Legende\": \"Loss auf Trainingsdaten\", \"Loss\": 0.2670290593067805}, {\"Epoche\": 2, \"Legende\": \"Loss auf Trainingsdaten\", \"Loss\": 0.2163967440366745}, {\"Epoche\": 3, \"Legende\": \"Loss auf Trainingsdaten\", \"Loss\": 0.18921328467528026}, {\"Epoche\": 4, \"Legende\": \"Loss auf Trainingsdaten\", \"Loss\": 0.168015025917689}, {\"Epoche\": 5, \"Legende\": \"Loss auf Trainingsdaten\", \"Loss\": 0.15787416986227035}, {\"Epoche\": 6, \"Legende\": \"Loss auf Trainingsdaten\", \"Loss\": 0.14456115893125535}, {\"Epoche\": 7, \"Legende\": \"Loss auf Trainingsdaten\", \"Loss\": 0.13769070417881013}, {\"Epoche\": 8, \"Legende\": \"Loss auf Trainingsdaten\", \"Loss\": 0.13124490949312845}, {\"Epoche\": 9, \"Legende\": \"Loss auf Trainingsdaten\", \"Loss\": 0.12431808357238769}, {\"Epoche\": 10, \"Legende\": \"Loss auf Trainingsdaten\", \"Loss\": 0.11894814284642538}, {\"Epoche\": 11, \"Legende\": \"Loss auf Trainingsdaten\", \"Loss\": 0.11565331199566523}, {\"Epoche\": 0, \"Legende\": \"Loss auf Testdaten\", \"Loss\": 0.21504775960445405}, {\"Epoche\": 1, \"Legende\": \"Loss auf Testdaten\", \"Loss\": 0.15744305409193038}, {\"Epoche\": 2, \"Legende\": \"Loss auf Testdaten\", \"Loss\": 0.13197310209274293}, {\"Epoche\": 3, \"Legende\": \"Loss auf Testdaten\", \"Loss\": 0.116114566680789}, {\"Epoche\": 4, \"Legende\": \"Loss auf Testdaten\", \"Loss\": 0.10633087858259678}, {\"Epoche\": 5, \"Legende\": \"Loss auf Testdaten\", \"Loss\": 0.1005057019919157}, {\"Epoche\": 6, \"Legende\": \"Loss auf Testdaten\", \"Loss\": 0.09392075319737196}, {\"Epoche\": 7, \"Legende\": \"Loss auf Testdaten\", \"Loss\": 0.09002063271850347}, {\"Epoche\": 8, \"Legende\": \"Loss auf Testdaten\", \"Loss\": 0.08518268558084965}, {\"Epoche\": 9, \"Legende\": \"Loss auf Testdaten\", \"Loss\": 0.08300420462489128}, {\"Epoche\": 10, \"Legende\": \"Loss auf Testdaten\", \"Loss\": 0.08112095031403005}, {\"Epoche\": 11, \"Legende\": \"Loss auf Testdaten\", \"Loss\": 0.08017812124341726}], \"data-bf439a440cd3810bf8fbcf5f94cfc250\": [{\"Epoche\": 0, \"Legende\": \"Accuracy auf Trainingsdaten\", \"Accuracy\": 0.8495833333015442}, {\"Epoche\": 1, \"Legende\": \"Accuracy auf Trainingsdaten\", \"Accuracy\": 0.9237166666666666}, {\"Epoche\": 2, \"Legende\": \"Accuracy auf Trainingsdaten\", \"Accuracy\": 0.9371166666666667}, {\"Epoche\": 3, \"Legende\": \"Accuracy auf Trainingsdaten\", \"Accuracy\": 0.9452333333015442}, {\"Epoche\": 4, \"Legende\": \"Accuracy auf Trainingsdaten\", \"Accuracy\": 0.9505166666666667}, {\"Epoche\": 5, \"Legende\": \"Accuracy auf Trainingsdaten\", \"Accuracy\": 0.9531}, {\"Epoche\": 6, \"Legende\": \"Accuracy auf Trainingsdaten\", \"Accuracy\": 0.9575500000317891}, {\"Epoche\": 7, \"Legende\": \"Accuracy auf Trainingsdaten\", \"Accuracy\": 0.9575666666666667}, {\"Epoche\": 8, \"Legende\": \"Accuracy auf Trainingsdaten\", \"Accuracy\": 0.9598500000317891}, {\"Epoche\": 9, \"Legende\": \"Accuracy auf Trainingsdaten\", \"Accuracy\": 0.96245}, {\"Epoche\": 10, \"Legende\": \"Accuracy auf Trainingsdaten\", \"Accuracy\": 0.9640666666984559}, {\"Epoche\": 11, \"Legende\": \"Accuracy auf Trainingsdaten\", \"Accuracy\": 0.9650333333651224}, {\"Epoche\": 0, \"Legende\": \"Accuracy auf Testdaten\", \"Accuracy\": 0.9369}, {\"Epoche\": 1, \"Legende\": \"Accuracy auf Testdaten\", \"Accuracy\": 0.9533}, {\"Epoche\": 2, \"Legende\": \"Accuracy auf Testdaten\", \"Accuracy\": 0.9604}, {\"Epoche\": 3, \"Legende\": \"Accuracy auf Testdaten\", \"Accuracy\": 0.9644}, {\"Epoche\": 4, \"Legende\": \"Accuracy auf Testdaten\", \"Accuracy\": 0.9676}, {\"Epoche\": 5, \"Legende\": \"Accuracy auf Testdaten\", \"Accuracy\": 0.9696}, {\"Epoche\": 6, \"Legende\": \"Accuracy auf Testdaten\", \"Accuracy\": 0.9718}, {\"Epoche\": 7, \"Legende\": \"Accuracy auf Testdaten\", \"Accuracy\": 0.9722}, {\"Epoche\": 8, \"Legende\": \"Accuracy auf Testdaten\", \"Accuracy\": 0.9733}, {\"Epoche\": 9, \"Legende\": \"Accuracy auf Testdaten\", \"Accuracy\": 0.9748}, {\"Epoche\": 10, \"Legende\": \"Accuracy auf Testdaten\", \"Accuracy\": 0.9744}, {\"Epoche\": 11, \"Legende\": \"Accuracy auf Testdaten\", \"Accuracy\": 0.9762}]}};\n",
       "var opt = {};\n",
       "var type = \"vega-lite\";\n",
       "var id = \"664b060f-6600-4c6a-9ac9-efe701b91497\";\n",
       "\n",
       "var output_area = this;\n",
       "\n",
       "require([\"nbextensions/jupyter-vega/index\"], function(vega) {\n",
       "  var target = document.createElement(\"div\");\n",
       "  target.id = id;\n",
       "  target.className = \"vega-embed\";\n",
       "\n",
       "  var style = document.createElement(\"style\");\n",
       "  style.textContent = [\n",
       "    \".vega-embed .error p {\",\n",
       "    \"  color: firebrick;\",\n",
       "    \"  font-size: 14px;\",\n",
       "    \"}\",\n",
       "  ].join(\"\\\\n\");\n",
       "\n",
       "  // element is a jQuery wrapped DOM element inside the output area\n",
       "  // see http://ipython.readthedocs.io/en/stable/api/generated/\\\n",
       "  // IPython.display.html#IPython.display.Javascript.__init__\n",
       "  element[0].appendChild(target);\n",
       "  element[0].appendChild(style);\n",
       "\n",
       "  vega.render(\"#\" + id, spec, type, opt, output_area);\n",
       "}, function (err) {\n",
       "  if (err.requireType !== \"scripterror\") {\n",
       "    throw(err);\n",
       "  }\n",
       "});\n"
      ],
      "text/plain": [
       "<vega.vegalite.VegaLite at 0x7fa6e06ff4a8>"
      ]
     },
     "metadata": {
      "jupyter-vega": "#664b060f-6600-4c6a-9ac9-efe701b91497"
     },
     "output_type": "display_data"
    },
    {
     "data": {
      "text/plain": []
     },
     "execution_count": 60,
     "metadata": {},
     "output_type": "execute_result"
    },
    {
     "data": {
      "image/png": "[encoded data removed]"
     },
     "metadata": {
      "jupyter-vega": "#664b060f-6600-4c6a-9ac9-efe701b91497"
     },
     "output_type": "display_data"
    }
   ],
   "source": [
    "evaluate(model, history)"
   ]
  },
  {
   "cell_type": "code",
   "execution_count": 63,
   "metadata": {},
   "outputs": [
    {
     "name": "stdout",
     "output_type": "stream",
     "text": [
      "_________________________________________________________________\n",
      "Layer (type)                 Output Shape              Param #   \n",
      "=================================================================\n",
      "conv2d_3 (Conv2D)            (None, 26, 26, 32)        320       \n",
      "_________________________________________________________________\n",
      "conv2d_4 (Conv2D)            (None, 24, 24, 64)        18496     \n",
      "_________________________________________________________________\n",
      "max_pooling2d_2 (MaxPooling2 (None, 12, 12, 64)        0         \n",
      "_________________________________________________________________\n",
      "dropout_9 (Dropout)          (None, 12, 12, 64)        0         \n",
      "_________________________________________________________________\n",
      "flatten_13 (Flatten)         (None, 9216)              0         \n",
      "_________________________________________________________________\n",
      "dense_23 (Dense)             (None, 128)               1179776   \n",
      "_________________________________________________________________\n",
      "dropout_10 (Dropout)         (None, 128)               0         \n",
      "_________________________________________________________________\n",
      "dense_24 (Dense)             (None, 10)                1290      \n",
      "=================================================================\n",
      "Total params: 1,199,882\n",
      "Trainable params: 1,199,882\n",
      "Non-trainable params: 0\n",
      "_________________________________________________________________\n",
      "None\n"
     ]
    }
   ],
   "source": [
    "model = Sequential()\n",
    "model.add(Conv2D(\n",
    "             32, kernel_size=(3, 3), \n",
    "             activation='relu', \n",
    "             input_shape=input_shape))\n",
    "model.add(Conv2D(\n",
    "             64, kernel_size=(3, 3), \n",
    "             activation='relu'))\n",
    "model.add(MaxPooling2D(\n",
    "             pool_size=(2, 2)))\n",
    "model.add(Dropout(0.25))\n",
    "model.add(Flatten())\n",
    "model.add(Dense(128, activation='relu'))\n",
    "model.add(Dropout(rate=0.5))\n",
    "model.add(Dense(num_classes, activation='softmax'))\n",
    "print(model.summary())"
   ]
  },
  {
   "cell_type": "code",
   "execution_count": null,
   "metadata": {},
   "outputs": [
    {
     "name": "stdout",
     "output_type": "stream",
     "text": [
      "Train on 60000 samples, validate on 10000 samples\n",
      "Epoch 1/12\n",
      "60000/60000 [==============================] - 75s 1ms/step - loss: 0.2429 - acc: 0.9255 - val_loss: 0.0567 - val_acc: 0.9818\n",
      "Epoch 2/12\n",
      "27392/60000 [============>.................] - ETA: 39s - loss: 0.0906 - acc: 0.9734"
     ]
    }
   ],
   "source": [
    "batch_size = 128\n",
    "epochs = 12\n",
    "\n",
    "model.compile(loss=categorical_crossentropy,\n",
    "              optimizer=Adam(),\n",
    "              metrics=['accuracy'])\n",
    "\n",
    "history = model.fit(\n",
    "    x_train, y_train,\n",
    "    batch_size=batch_size,\n",
    "    epochs=epochs,\n",
    "    verbose=1,\n",
    "    validation_data=(x_test, y_test)\n",
    ")"
   ]
  },
  {
   "cell_type": "code",
   "execution_count": null,
   "metadata": {},
   "outputs": [],
   "source": [
    "evaluate(model, history)"
   ]
  }
 ],
 "metadata": {
  "kernelspec": {
   "display_name": "Python 3",
   "language": "python",
   "name": "python3"
  },
  "language_info": {
   "codemirror_mode": {
    "name": "ipython",
    "version": 3
   },
   "file_extension": ".py",
   "mimetype": "text/x-python",
   "name": "python",
   "nbconvert_exporter": "python",
   "pygments_lexer": "ipython3",
   "version": "3.6.8"
  }
 },
 "nbformat": 4,
 "nbformat_minor": 2
}
