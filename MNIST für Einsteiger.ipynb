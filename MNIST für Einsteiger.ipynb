{
 "cells": [
  {
   "cell_type": "code",
   "execution_count": 1,
   "metadata": {},
   "outputs": [
    {
     "name": "stderr",
     "output_type": "stream",
     "text": [
      "Using TensorFlow backend.\n"
     ]
    }
   ],
   "source": [
    "from keras.datasets import mnist\n",
    "from keras.models import Sequential\n",
    "from keras.layers import Dense, Flatten, Dropout\n",
    "from keras.layers import Conv2D, MaxPooling2D\n",
    "from keras.utils import to_categorical\n",
    "from keras.losses import categorical_crossentropy\n",
    "from keras.optimizers import Adam\n",
    "import keras.backend as K"
   ]
  },
  {
   "cell_type": "code",
   "execution_count": 2,
   "metadata": {},
   "outputs": [],
   "source": [
    "train_da, test_da = mnist.load_data()\n",
    "x_train, y_train = train_da \n",
    "x_test, y_test = test_da"
   ]
  },
  {
   "cell_type": "code",
   "execution_count": 3,
   "metadata": {},
   "outputs": [
    {
     "name": "stdout",
     "output_type": "stream",
     "text": [
      "5 0 4 1\n",
      "9 2 1 3\n",
      "1 4 3 5\n",
      "3 6 1 7\n"
     ]
    },
    {
     "data": {
      "image/png": "[encoded data removed]",
      "text/plain": [
       "<PIL.Image.Image image mode=L size=896x896 at 0x7F7194AE9860>"
      ]
     },
     "execution_count": 3,
     "metadata": {},
     "output_type": "execute_result"
    }
   ],
   "source": [
    "from IPython.display import Image\n",
    "from PIL import Image\n",
    "import numpy as np\n",
    "a = np.concatenate(x_train[0:4], axis=1)\n",
    "print(\" \".join([str(x) for x in y_train[0:4]]))\n",
    "for i in range(3):\n",
    "    a = np.concatenate([a, np.concatenate(x_train[4+i*4:8+i*4], axis=1)], axis=0)\n",
    "    print(\" \".join([str(x) for x in y_train[4+i*4:8+i*4]]))\n",
    "img = Image.fromarray(a, 'L')\n",
    "img.resize((896, 896), Image.NEAREST)"
   ]
  },
  {
   "cell_type": "code",
   "execution_count": 4,
   "metadata": {},
   "outputs": [],
   "source": [
    "data_format = K.image_data_format()\n",
    "rows, cols = 28, 28\n",
    "num_classes = 10\n",
    "train_size = x_train.shape[0]\n",
    "test_size = x_test.shape[0]\n",
    "\n",
    "if data_format == 'channels_first':\n",
    "    x_train = x_train.reshape(train_size, 1, rows, cols)\n",
    "    x_test = x_test.reshape(test_size, 1, rows, cols)\n",
    "    input_shape = (1, rows, cols)\n",
    "else:\n",
    "    x_train = x_train.reshape(train_size, rows, cols, 1)\n",
    "    x_test = x_test.reshape(test_size, rows, cols, 1)\n",
    "    input_shape = (rows, cols, 1)\n",
    "    \n",
    "# norm data to float in range 0..1\n",
    "x_train = x_train.astype('float32')\n",
    "x_test = x_test.astype('float32')\n",
    "x_train /= 255\n",
    "x_test /= 255\n",
    "\n",
    "# convert class vectors to one hot vector\n",
    "y_train = to_categorical(y_train, 10)\n",
    "y_test = to_categorical(y_test, 10)"
   ]
  },
  {
   "cell_type": "code",
   "execution_count": 5,
   "metadata": {},
   "outputs": [],
   "source": [
    "x_train = x_train[:128]\n",
    "y_train = y_train[:128]"
   ]
  },
  {
   "cell_type": "code",
   "execution_count": 6,
   "metadata": {},
   "outputs": [
    {
     "name": "stdout",
     "output_type": "stream",
     "text": [
      "WARNING:tensorflow:From /home/jme/Code/Sacred-MNIST/env/lib/python3.6/site-packages/tensorflow/python/framework/op_def_library.py:263: colocate_with (from tensorflow.python.framework.ops) is deprecated and will be removed in a future version.\n",
      "Instructions for updating:\n",
      "Colocations handled automatically by placer.\n",
      "_________________________________________________________________\n",
      "Layer (type)                 Output Shape              Param #   \n",
      "=================================================================\n",
      "flatten_1 (Flatten)          (None, 784)               0         \n",
      "_________________________________________________________________\n",
      "dense_1 (Dense)              (None, 10)                7850      \n",
      "=================================================================\n",
      "Total params: 7,850\n",
      "Trainable params: 7,850\n",
      "Non-trainable params: 0\n",
      "_________________________________________________________________\n",
      "None\n"
     ]
    }
   ],
   "source": [
    "model = Sequential()\n",
    "model.add(Flatten(input_shape=input_shape))\n",
    "model.add(Dense(num_classes, activation='softmax'))\n",
    "print(model.summary())"
   ]
  },
  {
   "cell_type": "code",
   "execution_count": 7,
   "metadata": {},
   "outputs": [
    {
     "data": {
      "image/svg+xml": [
       "<svg height=\"211pt\" viewBox=\"0.00 0.00 284.00 211.00\" width=\"284pt\" xmlns=\"http://www.w3.org/2000/svg\" xmlns:xlink=\"http://www.w3.org/1999/xlink\">\n",
       "<g class=\"graph\" id=\"graph0\" transform=\"scale(1 1) rotate(0) translate(4 207)\">\n",
       "<title>G</title>\n",
       "<polygon fill=\"#ffffff\" points=\"-4,4 -4,-207 280,-207 280,4 -4,4\" stroke=\"transparent\"/>\n",
       "<!-- 140125802441584 -->\n",
       "<g class=\"node\" id=\"node1\">\n",
       "<title>140125802441584</title>\n",
       "<polygon fill=\"none\" points=\"0,-83.5 0,-129.5 276,-129.5 276,-83.5 0,-83.5\" stroke=\"#000000\"/>\n",
       "<text fill=\"#000000\" font-family=\"Times,serif\" font-size=\"14.00\" text-anchor=\"middle\" x=\"55\" y=\"-102.8\">flatten_1: Flatten</text>\n",
       "<polyline fill=\"none\" points=\"110,-83.5 110,-129.5 \" stroke=\"#000000\"/>\n",
       "<text fill=\"#000000\" font-family=\"Times,serif\" font-size=\"14.00\" text-anchor=\"middle\" x=\"137.5\" y=\"-114.3\">input:</text>\n",
       "<polyline fill=\"none\" points=\"110,-106.5 165,-106.5 \" stroke=\"#000000\"/>\n",
       "<text fill=\"#000000\" font-family=\"Times,serif\" font-size=\"14.00\" text-anchor=\"middle\" x=\"137.5\" y=\"-91.3\">output:</text>\n",
       "<polyline fill=\"none\" points=\"165,-83.5 165,-129.5 \" stroke=\"#000000\"/>\n",
       "<text fill=\"#000000\" font-family=\"Times,serif\" font-size=\"14.00\" text-anchor=\"middle\" x=\"220.5\" y=\"-114.3\">(None, 28, 28, 1)</text>\n",
       "<polyline fill=\"none\" points=\"165,-106.5 276,-106.5 \" stroke=\"#000000\"/>\n",
       "<text fill=\"#000000\" font-family=\"Times,serif\" font-size=\"14.00\" text-anchor=\"middle\" x=\"220.5\" y=\"-91.3\">(None, 784)</text>\n",
       "</g>\n",
       "<!-- 140125802440744 -->\n",
       "<g class=\"node\" id=\"node2\">\n",
       "<title>140125802440744</title>\n",
       "<polygon fill=\"none\" points=\"18,-.5 18,-46.5 258,-46.5 258,-.5 18,-.5\" stroke=\"#000000\"/>\n",
       "<text fill=\"#000000\" font-family=\"Times,serif\" font-size=\"14.00\" text-anchor=\"middle\" x=\"69\" y=\"-19.8\">dense_1: Dense</text>\n",
       "<polyline fill=\"none\" points=\"120,-.5 120,-46.5 \" stroke=\"#000000\"/>\n",
       "<text fill=\"#000000\" font-family=\"Times,serif\" font-size=\"14.00\" text-anchor=\"middle\" x=\"147.5\" y=\"-31.3\">input:</text>\n",
       "<polyline fill=\"none\" points=\"120,-23.5 175,-23.5 \" stroke=\"#000000\"/>\n",
       "<text fill=\"#000000\" font-family=\"Times,serif\" font-size=\"14.00\" text-anchor=\"middle\" x=\"147.5\" y=\"-8.3\">output:</text>\n",
       "<polyline fill=\"none\" points=\"175,-.5 175,-46.5 \" stroke=\"#000000\"/>\n",
       "<text fill=\"#000000\" font-family=\"Times,serif\" font-size=\"14.00\" text-anchor=\"middle\" x=\"216.5\" y=\"-31.3\">(None, 784)</text>\n",
       "<polyline fill=\"none\" points=\"175,-23.5 258,-23.5 \" stroke=\"#000000\"/>\n",
       "<text fill=\"#000000\" font-family=\"Times,serif\" font-size=\"14.00\" text-anchor=\"middle\" x=\"216.5\" y=\"-8.3\">(None, 10)</text>\n",
       "</g>\n",
       "<!-- 140125802441584&#45;&gt;140125802440744 -->\n",
       "<g class=\"edge\" id=\"edge2\">\n",
       "<title>140125802441584-&gt;140125802440744</title>\n",
       "<path d=\"M138,-83.3799C138,-75.1745 138,-65.7679 138,-56.8786\" fill=\"none\" stroke=\"#000000\"/>\n",
       "<polygon fill=\"#000000\" points=\"141.5001,-56.784 138,-46.784 134.5001,-56.784 141.5001,-56.784\" stroke=\"#000000\"/>\n",
       "</g>\n",
       "<!-- 140125802441024 -->\n",
       "<g class=\"node\" id=\"node3\">\n",
       "<title>140125802441024</title>\n",
       "<polygon fill=\"none\" points=\"79,-166.5 79,-202.5 197,-202.5 197,-166.5 79,-166.5\" stroke=\"#000000\"/>\n",
       "<text fill=\"#000000\" font-family=\"Times,serif\" font-size=\"14.00\" text-anchor=\"middle\" x=\"138\" y=\"-180.8\">140125802441024</text>\n",
       "</g>\n",
       "<!-- 140125802441024&#45;&gt;140125802441584 -->\n",
       "<g class=\"edge\" id=\"edge1\">\n",
       "<title>140125802441024-&gt;140125802441584</title>\n",
       "<path d=\"M138,-166.4092C138,-158.4308 138,-148.795 138,-139.606\" fill=\"none\" stroke=\"#000000\"/>\n",
       "<polygon fill=\"#000000\" points=\"141.5001,-139.5333 138,-129.5333 134.5001,-139.5334 141.5001,-139.5333\" stroke=\"#000000\"/>\n",
       "</g>\n",
       "</g>\n",
       "</svg>"
      ],
      "text/plain": [
       "<IPython.core.display.SVG object>"
      ]
     },
     "execution_count": 7,
     "metadata": {},
     "output_type": "execute_result"
    }
   ],
   "source": [
    "from IPython.display import SVG\n",
    "from keras.utils.vis_utils import model_to_dot\n",
    "\n",
    "SVG(model_to_dot(model, show_shapes=True).create(prog='dot', format='svg'))"
   ]
  },
  {
   "cell_type": "code",
   "execution_count": 8,
   "metadata": {},
   "outputs": [],
   "source": [
    "model.compile(loss=categorical_crossentropy,\n",
    "              optimizer=Adam(),\n",
    "              metrics=['accuracy'])"
   ]
  },
  {
   "cell_type": "code",
   "execution_count": 9,
   "metadata": {},
   "outputs": [],
   "source": [
    "batch_size = 128\n",
    "epochs = 20"
   ]
  },
  {
   "cell_type": "code",
   "execution_count": 10,
   "metadata": {},
   "outputs": [
    {
     "name": "stdout",
     "output_type": "stream",
     "text": [
      "WARNING:tensorflow:From /home/jme/Code/Sacred-MNIST/env/lib/python3.6/site-packages/tensorflow/python/ops/math_ops.py:3066: to_int32 (from tensorflow.python.ops.math_ops) is deprecated and will be removed in a future version.\n",
      "Instructions for updating:\n",
      "Use tf.cast instead.\n",
      "Train on 128 samples, validate on 10000 samples\n",
      "Epoch 1/20\n",
      "128/128 [==============================] - 0s 1ms/step - loss: 2.4042 - acc: 0.1484 - val_loss: 2.3619 - val_acc: 0.1204\n",
      "Epoch 2/20\n",
      "128/128 [==============================] - 0s 380us/step - loss: 2.3306 - acc: 0.1484 - val_loss: 2.3174 - val_acc: 0.1380\n",
      "Epoch 3/20\n",
      "128/128 [==============================] - 0s 306us/step - loss: 2.2602 - acc: 0.1562 - val_loss: 2.2757 - val_acc: 0.1608\n",
      "Epoch 4/20\n",
      "128/128 [==============================] - 0s 312us/step - loss: 2.1929 - acc: 0.2188 - val_loss: 2.2366 - val_acc: 0.1813\n",
      "Epoch 5/20\n",
      "128/128 [==============================] - 0s 352us/step - loss: 2.1286 - acc: 0.2578 - val_loss: 2.1998 - val_acc: 0.2022\n",
      "Epoch 6/20\n",
      "128/128 [==============================] - 0s 286us/step - loss: 2.0670 - acc: 0.2578 - val_loss: 2.1650 - val_acc: 0.2245\n",
      "Epoch 7/20\n",
      "128/128 [==============================] - 0s 322us/step - loss: 2.0080 - acc: 0.3203 - val_loss: 2.1320 - val_acc: 0.2457\n",
      "Epoch 8/20\n",
      "128/128 [==============================] - 0s 330us/step - loss: 1.9514 - acc: 0.3672 - val_loss: 2.1003 - val_acc: 0.2641\n",
      "Epoch 9/20\n",
      "128/128 [==============================] - 0s 286us/step - loss: 1.8969 - acc: 0.3828 - val_loss: 2.0697 - val_acc: 0.2816\n",
      "Epoch 10/20\n",
      "128/128 [==============================] - 0s 356us/step - loss: 1.8443 - acc: 0.3984 - val_loss: 2.0400 - val_acc: 0.3016\n",
      "Epoch 11/20\n",
      "128/128 [==============================] - 0s 316us/step - loss: 1.7935 - acc: 0.4453 - val_loss: 2.0109 - val_acc: 0.3219\n",
      "Epoch 12/20\n",
      "128/128 [==============================] - 0s 347us/step - loss: 1.7442 - acc: 0.4688 - val_loss: 1.9823 - val_acc: 0.3413\n",
      "Epoch 13/20\n",
      "128/128 [==============================] - 0s 395us/step - loss: 1.6963 - acc: 0.4922 - val_loss: 1.9542 - val_acc: 0.3623\n",
      "Epoch 14/20\n",
      "128/128 [==============================] - 0s 347us/step - loss: 1.6498 - acc: 0.5312 - val_loss: 1.9263 - val_acc: 0.3855\n",
      "Epoch 15/20\n",
      "128/128 [==============================] - 0s 372us/step - loss: 1.6043 - acc: 0.5703 - val_loss: 1.8988 - val_acc: 0.4093\n",
      "Epoch 16/20\n",
      "128/128 [==============================] - 0s 299us/step - loss: 1.5602 - acc: 0.5938 - val_loss: 1.8717 - val_acc: 0.4358\n",
      "Epoch 17/20\n",
      "128/128 [==============================] - 0s 363us/step - loss: 1.5174 - acc: 0.6250 - val_loss: 1.8450 - val_acc: 0.4599\n",
      "Epoch 18/20\n",
      "128/128 [==============================] - 0s 363us/step - loss: 1.4757 - acc: 0.6875 - val_loss: 1.8187 - val_acc: 0.4832\n",
      "Epoch 19/20\n",
      "128/128 [==============================] - 0s 313us/step - loss: 1.4351 - acc: 0.7266 - val_loss: 1.7928 - val_acc: 0.5053\n",
      "Epoch 20/20\n",
      "128/128 [==============================] - 0s 415us/step - loss: 1.3958 - acc: 0.7500 - val_loss: 1.7674 - val_acc: 0.5250\n"
     ]
    }
   ],
   "source": [
    "history = model.fit(\n",
    "    x_train, y_train,\n",
    "    batch_size=batch_size,\n",
    "    epochs=epochs,\n",
    "    verbose=1,\n",
    "    validation_data=(x_test, y_test)\n",
    ")"
   ]
  },
  {
   "cell_type": "code",
   "execution_count": 11,
   "metadata": {},
   "outputs": [
    {
     "name": "stdout",
     "output_type": "stream",
     "text": [
      "Test loss: 1.7674347553253174\n",
      "Test accuracy: 0.525\n"
     ]
    }
   ],
   "source": [
    "score = model.evaluate(x_test, y_test, verbose=0)\n",
    "print('Test loss:', score[0])\n",
    "print('Test accuracy:', score[1])"
   ]
  },
  {
   "cell_type": "code",
   "execution_count": 12,
   "metadata": {},
   "outputs": [
    {
     "name": "stdout",
     "output_type": "stream",
     "text": [
      "    Epoche                  Legende      Loss\n",
      "0        0  Loss auf Trainingsdaten  2.404172\n",
      "1        1  Loss auf Trainingsdaten  2.330637\n",
      "2        2  Loss auf Trainingsdaten  2.260247\n",
      "3        3  Loss auf Trainingsdaten  2.192935\n",
      "4        4  Loss auf Trainingsdaten  2.128585\n",
      "5        5  Loss auf Trainingsdaten  2.067027\n",
      "6        6  Loss auf Trainingsdaten  2.008049\n",
      "7        7  Loss auf Trainingsdaten  1.951424\n",
      "8        8  Loss auf Trainingsdaten  1.896924\n",
      "9        9  Loss auf Trainingsdaten  1.844340\n",
      "10      10  Loss auf Trainingsdaten  1.793481\n",
      "11      11  Loss auf Trainingsdaten  1.744187\n",
      "12      12  Loss auf Trainingsdaten  1.696324\n",
      "13      13  Loss auf Trainingsdaten  1.649791\n",
      "14      14  Loss auf Trainingsdaten  1.604291\n",
      "15      15  Loss auf Trainingsdaten  1.560231\n",
      "16      16  Loss auf Trainingsdaten  1.517355\n",
      "17      17  Loss auf Trainingsdaten  1.475650\n",
      "18      18  Loss auf Trainingsdaten  1.435117\n",
      "19      19  Loss auf Trainingsdaten  1.395759\n",
      "20       0       Loss auf Testdaten  2.361884\n",
      "21       1       Loss auf Testdaten  2.317392\n",
      "22       2       Loss auf Testdaten  2.275691\n",
      "23       3       Loss auf Testdaten  2.236581\n",
      "24       4       Loss auf Testdaten  2.199798\n",
      "25       5       Loss auf Testdaten  2.165032\n",
      "26       6       Loss auf Testdaten  2.131961\n",
      "27       7       Loss auf Testdaten  2.100272\n",
      "28       8       Loss auf Testdaten  2.069684\n",
      "29       9       Loss auf Testdaten  2.039954\n",
      "30      10       Loss auf Testdaten  2.010887\n",
      "31      11       Loss auf Testdaten  1.982338\n",
      "32      12       Loss auf Testdaten  1.954204\n",
      "33      13       Loss auf Testdaten  1.926290\n",
      "34      14       Loss auf Testdaten  1.898849\n",
      "35      15       Loss auf Testdaten  1.871745\n",
      "36      16       Loss auf Testdaten  1.845005\n",
      "37      17       Loss auf Testdaten  1.818672\n",
      "38      18       Loss auf Testdaten  1.792797\n",
      "39      19       Loss auf Testdaten  1.767435\n",
      "    Epoche                      Legende  Accuracy\n",
      "0        0  Accuracy auf Trainingsdaten  0.148438\n",
      "1        1  Accuracy auf Trainingsdaten  0.148438\n",
      "2        2  Accuracy auf Trainingsdaten  0.156250\n",
      "3        3  Accuracy auf Trainingsdaten  0.218750\n",
      "4        4  Accuracy auf Trainingsdaten  0.257812\n",
      "5        5  Accuracy auf Trainingsdaten  0.257812\n",
      "6        6  Accuracy auf Trainingsdaten  0.320312\n",
      "7        7  Accuracy auf Trainingsdaten  0.367188\n",
      "8        8  Accuracy auf Trainingsdaten  0.382812\n",
      "9        9  Accuracy auf Trainingsdaten  0.398438\n",
      "10      10  Accuracy auf Trainingsdaten  0.445312\n",
      "11      11  Accuracy auf Trainingsdaten  0.468750\n",
      "12      12  Accuracy auf Trainingsdaten  0.492188\n",
      "13      13  Accuracy auf Trainingsdaten  0.531250\n",
      "14      14  Accuracy auf Trainingsdaten  0.570312\n",
      "15      15  Accuracy auf Trainingsdaten  0.593750\n",
      "16      16  Accuracy auf Trainingsdaten  0.625000\n",
      "17      17  Accuracy auf Trainingsdaten  0.687500\n",
      "18      18  Accuracy auf Trainingsdaten  0.726562\n",
      "19      19  Accuracy auf Trainingsdaten  0.750000\n",
      "20       0       Accuracy auf Testdaten  0.120400\n",
      "21       1       Accuracy auf Testdaten  0.138000\n",
      "22       2       Accuracy auf Testdaten  0.160800\n",
      "23       3       Accuracy auf Testdaten  0.181300\n",
      "24       4       Accuracy auf Testdaten  0.202200\n",
      "25       5       Accuracy auf Testdaten  0.224500\n",
      "26       6       Accuracy auf Testdaten  0.245700\n",
      "27       7       Accuracy auf Testdaten  0.264100\n",
      "28       8       Accuracy auf Testdaten  0.281600\n",
      "29       9       Accuracy auf Testdaten  0.301600\n",
      "30      10       Accuracy auf Testdaten  0.321900\n",
      "31      11       Accuracy auf Testdaten  0.341300\n",
      "32      12       Accuracy auf Testdaten  0.362300\n",
      "33      13       Accuracy auf Testdaten  0.385500\n",
      "34      14       Accuracy auf Testdaten  0.409300\n",
      "35      15       Accuracy auf Testdaten  0.435800\n",
      "36      16       Accuracy auf Testdaten  0.459900\n",
      "37      17       Accuracy auf Testdaten  0.483200\n",
      "38      18       Accuracy auf Testdaten  0.505300\n",
      "39      19       Accuracy auf Testdaten  0.525000\n"
     ]
    }
   ],
   "source": [
    "from pandas import DataFrame\n",
    "df_loss = DataFrame(data={\n",
    "    'Epoche': history.epoch * 2,\n",
    "    'Legende': ['Loss auf Trainingsdaten'] * len(history.epoch) + ['Loss auf Testdaten'] * len(history.epoch),\n",
    "    'Loss': history.history['loss'] + history.history['val_loss']\n",
    "})\n",
    "df_accuracy = DataFrame(data={\n",
    "    'Epoche': history.epoch * 2,\n",
    "    'Legende': ['Accuracy auf Trainingsdaten'] * len(history.epoch) + ['Accuracy auf Testdaten'] * len(history.epoch),\n",
    "    'Accuracy': history.history['acc'] + history.history['val_acc']\n",
    "})\n",
    "print(df_loss)\n",
    "print(df_accuracy)"
   ]
  },
  {
   "cell_type": "code",
   "execution_count": 13,
   "metadata": {},
   "outputs": [
    {
     "data": {
      "application/javascript": [
       "var spec = {\"config\": {\"view\": {\"width\": 400, \"height\": 300}, \"mark\": {\"tooltip\": null}}, \"layer\": [{\"data\": {\"name\": \"data-e569021a716c28f0be23558f955584cd\"}, \"mark\": \"line\", \"encoding\": {\"color\": {\"type\": \"nominal\", \"field\": \"Legende\"}, \"x\": {\"type\": \"quantitative\", \"field\": \"Epoche\"}, \"y\": {\"type\": \"quantitative\", \"field\": \"Loss\"}}}, {\"data\": {\"name\": \"data-fabf18927f7a48c67924edcb119c5d11\"}, \"mark\": \"line\", \"encoding\": {\"color\": {\"type\": \"nominal\", \"field\": \"Legende\"}, \"x\": {\"type\": \"quantitative\", \"field\": \"Epoche\"}, \"y\": {\"type\": \"quantitative\", \"field\": \"Accuracy\"}}}], \"resolve\": {\"scale\": {\"y\": \"independent\"}}, \"$schema\": \"https://vega.github.io/schema/vega-lite/v3.2.1.json\", \"datasets\": {\"data-e569021a716c28f0be23558f955584cd\": [{\"Epoche\": 0, \"Legende\": \"Loss auf Trainingsdaten\", \"Loss\": 2.404171943664551}, {\"Epoche\": 1, \"Legende\": \"Loss auf Trainingsdaten\", \"Loss\": 2.3306374549865723}, {\"Epoche\": 2, \"Legende\": \"Loss auf Trainingsdaten\", \"Loss\": 2.260247230529785}, {\"Epoche\": 3, \"Legende\": \"Loss auf Trainingsdaten\", \"Loss\": 2.19293475151062}, {\"Epoche\": 4, \"Legende\": \"Loss auf Trainingsdaten\", \"Loss\": 2.128584861755371}, {\"Epoche\": 5, \"Legende\": \"Loss auf Trainingsdaten\", \"Loss\": 2.0670273303985596}, {\"Epoche\": 6, \"Legende\": \"Loss auf Trainingsdaten\", \"Loss\": 2.008049488067627}, {\"Epoche\": 7, \"Legende\": \"Loss auf Trainingsdaten\", \"Loss\": 1.9514235258102417}, {\"Epoche\": 8, \"Legende\": \"Loss auf Trainingsdaten\", \"Loss\": 1.8969238996505737}, {\"Epoche\": 9, \"Legende\": \"Loss auf Trainingsdaten\", \"Loss\": 1.8443398475646973}, {\"Epoche\": 10, \"Legende\": \"Loss auf Trainingsdaten\", \"Loss\": 1.7934813499450684}, {\"Epoche\": 11, \"Legende\": \"Loss auf Trainingsdaten\", \"Loss\": 1.7441868782043457}, {\"Epoche\": 12, \"Legende\": \"Loss auf Trainingsdaten\", \"Loss\": 1.696324110031128}, {\"Epoche\": 13, \"Legende\": \"Loss auf Trainingsdaten\", \"Loss\": 1.6497912406921387}, {\"Epoche\": 14, \"Legende\": \"Loss auf Trainingsdaten\", \"Loss\": 1.6042910814285278}, {\"Epoche\": 15, \"Legende\": \"Loss auf Trainingsdaten\", \"Loss\": 1.5602312088012695}, {\"Epoche\": 16, \"Legende\": \"Loss auf Trainingsdaten\", \"Loss\": 1.5173546075820923}, {\"Epoche\": 17, \"Legende\": \"Loss auf Trainingsdaten\", \"Loss\": 1.4756503105163574}, {\"Epoche\": 18, \"Legende\": \"Loss auf Trainingsdaten\", \"Loss\": 1.4351168870925903}, {\"Epoche\": 19, \"Legende\": \"Loss auf Trainingsdaten\", \"Loss\": 1.395758867263794}, {\"Epoche\": 0, \"Legende\": \"Loss auf Testdaten\", \"Loss\": 2.36188438873291}, {\"Epoche\": 1, \"Legende\": \"Loss auf Testdaten\", \"Loss\": 2.317391986465454}, {\"Epoche\": 2, \"Legende\": \"Loss auf Testdaten\", \"Loss\": 2.275691478729248}, {\"Epoche\": 3, \"Legende\": \"Loss auf Testdaten\", \"Loss\": 2.2365811725616456}, {\"Epoche\": 4, \"Legende\": \"Loss auf Testdaten\", \"Loss\": 2.1997977172851564}, {\"Epoche\": 5, \"Legende\": \"Loss auf Testdaten\", \"Loss\": 2.1650320724487306}, {\"Epoche\": 6, \"Legende\": \"Loss auf Testdaten\", \"Loss\": 2.131960639190674}, {\"Epoche\": 7, \"Legende\": \"Loss auf Testdaten\", \"Loss\": 2.100272393798828}, {\"Epoche\": 8, \"Legende\": \"Loss auf Testdaten\", \"Loss\": 2.069684342956543}, {\"Epoche\": 9, \"Legende\": \"Loss auf Testdaten\", \"Loss\": 2.039954218292236}, {\"Epoche\": 10, \"Legende\": \"Loss auf Testdaten\", \"Loss\": 2.0108874439239504}, {\"Epoche\": 11, \"Legende\": \"Loss auf Testdaten\", \"Loss\": 1.9823378059387207}, {\"Epoche\": 12, \"Legende\": \"Loss auf Testdaten\", \"Loss\": 1.9542043584823607}, {\"Epoche\": 13, \"Legende\": \"Loss auf Testdaten\", \"Loss\": 1.926289738845825}, {\"Epoche\": 14, \"Legende\": \"Loss auf Testdaten\", \"Loss\": 1.8988487453460694}, {\"Epoche\": 15, \"Legende\": \"Loss auf Testdaten\", \"Loss\": 1.8717445148468017}, {\"Epoche\": 16, \"Legende\": \"Loss auf Testdaten\", \"Loss\": 1.8450045318603516}, {\"Epoche\": 17, \"Legende\": \"Loss auf Testdaten\", \"Loss\": 1.8186716045379638}, {\"Epoche\": 18, \"Legende\": \"Loss auf Testdaten\", \"Loss\": 1.7927970638275146}, {\"Epoche\": 19, \"Legende\": \"Loss auf Testdaten\", \"Loss\": 1.7674347522735596}], \"data-fabf18927f7a48c67924edcb119c5d11\": [{\"Epoche\": 0, \"Legende\": \"Accuracy auf Trainingsdaten\", \"Accuracy\": 0.1484375}, {\"Epoche\": 1, \"Legende\": \"Accuracy auf Trainingsdaten\", \"Accuracy\": 0.1484375}, {\"Epoche\": 2, \"Legende\": \"Accuracy auf Trainingsdaten\", \"Accuracy\": 0.15625}, {\"Epoche\": 3, \"Legende\": \"Accuracy auf Trainingsdaten\", \"Accuracy\": 0.21875}, {\"Epoche\": 4, \"Legende\": \"Accuracy auf Trainingsdaten\", \"Accuracy\": 0.2578125}, {\"Epoche\": 5, \"Legende\": \"Accuracy auf Trainingsdaten\", \"Accuracy\": 0.2578125}, {\"Epoche\": 6, \"Legende\": \"Accuracy auf Trainingsdaten\", \"Accuracy\": 0.3203125}, {\"Epoche\": 7, \"Legende\": \"Accuracy auf Trainingsdaten\", \"Accuracy\": 0.3671875}, {\"Epoche\": 8, \"Legende\": \"Accuracy auf Trainingsdaten\", \"Accuracy\": 0.3828125}, {\"Epoche\": 9, \"Legende\": \"Accuracy auf Trainingsdaten\", \"Accuracy\": 0.3984375}, {\"Epoche\": 10, \"Legende\": \"Accuracy auf Trainingsdaten\", \"Accuracy\": 0.4453125}, {\"Epoche\": 11, \"Legende\": \"Accuracy auf Trainingsdaten\", \"Accuracy\": 0.46875}, {\"Epoche\": 12, \"Legende\": \"Accuracy auf Trainingsdaten\", \"Accuracy\": 0.4921875}, {\"Epoche\": 13, \"Legende\": \"Accuracy auf Trainingsdaten\", \"Accuracy\": 0.53125}, {\"Epoche\": 14, \"Legende\": \"Accuracy auf Trainingsdaten\", \"Accuracy\": 0.5703125}, {\"Epoche\": 15, \"Legende\": \"Accuracy auf Trainingsdaten\", \"Accuracy\": 0.59375}, {\"Epoche\": 16, \"Legende\": \"Accuracy auf Trainingsdaten\", \"Accuracy\": 0.625}, {\"Epoche\": 17, \"Legende\": \"Accuracy auf Trainingsdaten\", \"Accuracy\": 0.6875}, {\"Epoche\": 18, \"Legende\": \"Accuracy auf Trainingsdaten\", \"Accuracy\": 0.7265625}, {\"Epoche\": 19, \"Legende\": \"Accuracy auf Trainingsdaten\", \"Accuracy\": 0.75}, {\"Epoche\": 0, \"Legende\": \"Accuracy auf Testdaten\", \"Accuracy\": 0.1204}, {\"Epoche\": 1, \"Legende\": \"Accuracy auf Testdaten\", \"Accuracy\": 0.138}, {\"Epoche\": 2, \"Legende\": \"Accuracy auf Testdaten\", \"Accuracy\": 0.1608}, {\"Epoche\": 3, \"Legende\": \"Accuracy auf Testdaten\", \"Accuracy\": 0.1813}, {\"Epoche\": 4, \"Legende\": \"Accuracy auf Testdaten\", \"Accuracy\": 0.2022}, {\"Epoche\": 5, \"Legende\": \"Accuracy auf Testdaten\", \"Accuracy\": 0.2245}, {\"Epoche\": 6, \"Legende\": \"Accuracy auf Testdaten\", \"Accuracy\": 0.2457}, {\"Epoche\": 7, \"Legende\": \"Accuracy auf Testdaten\", \"Accuracy\": 0.2641}, {\"Epoche\": 8, \"Legende\": \"Accuracy auf Testdaten\", \"Accuracy\": 0.2816}, {\"Epoche\": 9, \"Legende\": \"Accuracy auf Testdaten\", \"Accuracy\": 0.3016}, {\"Epoche\": 10, \"Legende\": \"Accuracy auf Testdaten\", \"Accuracy\": 0.3219}, {\"Epoche\": 11, \"Legende\": \"Accuracy auf Testdaten\", \"Accuracy\": 0.3413}, {\"Epoche\": 12, \"Legende\": \"Accuracy auf Testdaten\", \"Accuracy\": 0.3623}, {\"Epoche\": 13, \"Legende\": \"Accuracy auf Testdaten\", \"Accuracy\": 0.3855}, {\"Epoche\": 14, \"Legende\": \"Accuracy auf Testdaten\", \"Accuracy\": 0.4093}, {\"Epoche\": 15, \"Legende\": \"Accuracy auf Testdaten\", \"Accuracy\": 0.4358}, {\"Epoche\": 16, \"Legende\": \"Accuracy auf Testdaten\", \"Accuracy\": 0.4599}, {\"Epoche\": 17, \"Legende\": \"Accuracy auf Testdaten\", \"Accuracy\": 0.4832}, {\"Epoche\": 18, \"Legende\": \"Accuracy auf Testdaten\", \"Accuracy\": 0.5053}, {\"Epoche\": 19, \"Legende\": \"Accuracy auf Testdaten\", \"Accuracy\": 0.525}]}};\n",
       "var opt = {};\n",
       "var type = \"vega-lite\";\n",
       "var id = \"1752b84e-cee5-4cd6-81c5-4712f8bed8d2\";\n",
       "\n",
       "var output_area = this;\n",
       "\n",
       "require([\"nbextensions/jupyter-vega/index\"], function(vega) {\n",
       "  var target = document.createElement(\"div\");\n",
       "  target.id = id;\n",
       "  target.className = \"vega-embed\";\n",
       "\n",
       "  var style = document.createElement(\"style\");\n",
       "  style.textContent = [\n",
       "    \".vega-embed .error p {\",\n",
       "    \"  color: firebrick;\",\n",
       "    \"  font-size: 14px;\",\n",
       "    \"}\",\n",
       "  ].join(\"\\\\n\");\n",
       "\n",
       "  // element is a jQuery wrapped DOM element inside the output area\n",
       "  // see http://ipython.readthedocs.io/en/stable/api/generated/\\\n",
       "  // IPython.display.html#IPython.display.Javascript.__init__\n",
       "  element[0].appendChild(target);\n",
       "  element[0].appendChild(style);\n",
       "\n",
       "  vega.render(\"#\" + id, spec, type, opt, output_area);\n",
       "}, function (err) {\n",
       "  if (err.requireType !== \"scripterror\") {\n",
       "    throw(err);\n",
       "  }\n",
       "});\n"
      ],
      "text/plain": [
       "<vega.vegalite.VegaLite at 0x7f71c4e54860>"
      ]
     },
     "metadata": {
      "jupyter-vega": "#1752b84e-cee5-4cd6-81c5-4712f8bed8d2"
     },
     "output_type": "display_data"
    },
    {
     "data": {
      "image/png": "[encoded data removed]"
     },
     "metadata": {
      "jupyter-vega": "#1752b84e-cee5-4cd6-81c5-4712f8bed8d2"
     },
     "output_type": "display_data"
    },
    {
     "data": {
      "text/plain": []
     },
     "execution_count": 13,
     "metadata": {},
     "output_type": "execute_result"
    }
   ],
   "source": [
    "import altair as alt\n",
    "alt.renderers.enable('notebook')\n",
    "\n",
    "chart_loss = alt.Chart(df_loss).mark_line().encode(\n",
    "    x='Epoche', y='Loss', color='Legende')\n",
    "chart_accuracy = alt.Chart(df_accuracy).mark_line().encode(\n",
    "    x='Epoche', y='Accuracy', color='Legende')\n",
    "chart = chart_loss + chart_accuracy\n",
    "chart.resolve_scale(y='independent')"
   ]
  },
  {
   "cell_type": "code",
   "execution_count": 14,
   "metadata": {},
   "outputs": [
    {
     "name": "stdout",
     "output_type": "stream",
     "text": [
      "_________________________________________________________________\n",
      "Layer (type)                 Output Shape              Param #   \n",
      "=================================================================\n",
      "flatten_2 (Flatten)          (None, 784)               0         \n",
      "_________________________________________________________________\n",
      "dense_2 (Dense)              (None, 128)               100480    \n",
      "_________________________________________________________________\n",
      "dense_3 (Dense)              (None, 10)                1290      \n",
      "=================================================================\n",
      "Total params: 101,770\n",
      "Trainable params: 101,770\n",
      "Non-trainable params: 0\n",
      "_________________________________________________________________\n",
      "None\n"
     ]
    },
    {
     "data": {
      "image/svg+xml": [
       "<svg height=\"294pt\" viewBox=\"0.00 0.00 284.00 294.00\" width=\"284pt\" xmlns=\"http://www.w3.org/2000/svg\" xmlns:xlink=\"http://www.w3.org/1999/xlink\">\n",
       "<g class=\"graph\" id=\"graph0\" transform=\"scale(1 1) rotate(0) translate(4 290)\">\n",
       "<title>G</title>\n",
       "<polygon fill=\"#ffffff\" points=\"-4,4 -4,-290 280,-290 280,4 -4,4\" stroke=\"transparent\"/>\n",
       "<!-- 140124587842864 -->\n",
       "<g class=\"node\" id=\"node1\">\n",
       "<title>140124587842864</title>\n",
       "<polygon fill=\"none\" points=\"0,-166.5 0,-212.5 276,-212.5 276,-166.5 0,-166.5\" stroke=\"#000000\"/>\n",
       "<text fill=\"#000000\" font-family=\"Times,serif\" font-size=\"14.00\" text-anchor=\"middle\" x=\"55\" y=\"-185.8\">flatten_2: Flatten</text>\n",
       "<polyline fill=\"none\" points=\"110,-166.5 110,-212.5 \" stroke=\"#000000\"/>\n",
       "<text fill=\"#000000\" font-family=\"Times,serif\" font-size=\"14.00\" text-anchor=\"middle\" x=\"137.5\" y=\"-197.3\">input:</text>\n",
       "<polyline fill=\"none\" points=\"110,-189.5 165,-189.5 \" stroke=\"#000000\"/>\n",
       "<text fill=\"#000000\" font-family=\"Times,serif\" font-size=\"14.00\" text-anchor=\"middle\" x=\"137.5\" y=\"-174.3\">output:</text>\n",
       "<polyline fill=\"none\" points=\"165,-166.5 165,-212.5 \" stroke=\"#000000\"/>\n",
       "<text fill=\"#000000\" font-family=\"Times,serif\" font-size=\"14.00\" text-anchor=\"middle\" x=\"220.5\" y=\"-197.3\">(None, 28, 28, 1)</text>\n",
       "<polyline fill=\"none\" points=\"165,-189.5 276,-189.5 \" stroke=\"#000000\"/>\n",
       "<text fill=\"#000000\" font-family=\"Times,serif\" font-size=\"14.00\" text-anchor=\"middle\" x=\"220.5\" y=\"-174.3\">(None, 784)</text>\n",
       "</g>\n",
       "<!-- 140124587843368 -->\n",
       "<g class=\"node\" id=\"node2\">\n",
       "<title>140124587843368</title>\n",
       "<polygon fill=\"none\" points=\"18,-83.5 18,-129.5 258,-129.5 258,-83.5 18,-83.5\" stroke=\"#000000\"/>\n",
       "<text fill=\"#000000\" font-family=\"Times,serif\" font-size=\"14.00\" text-anchor=\"middle\" x=\"69\" y=\"-102.8\">dense_2: Dense</text>\n",
       "<polyline fill=\"none\" points=\"120,-83.5 120,-129.5 \" stroke=\"#000000\"/>\n",
       "<text fill=\"#000000\" font-family=\"Times,serif\" font-size=\"14.00\" text-anchor=\"middle\" x=\"147.5\" y=\"-114.3\">input:</text>\n",
       "<polyline fill=\"none\" points=\"120,-106.5 175,-106.5 \" stroke=\"#000000\"/>\n",
       "<text fill=\"#000000\" font-family=\"Times,serif\" font-size=\"14.00\" text-anchor=\"middle\" x=\"147.5\" y=\"-91.3\">output:</text>\n",
       "<polyline fill=\"none\" points=\"175,-83.5 175,-129.5 \" stroke=\"#000000\"/>\n",
       "<text fill=\"#000000\" font-family=\"Times,serif\" font-size=\"14.00\" text-anchor=\"middle\" x=\"216.5\" y=\"-114.3\">(None, 784)</text>\n",
       "<polyline fill=\"none\" points=\"175,-106.5 258,-106.5 \" stroke=\"#000000\"/>\n",
       "<text fill=\"#000000\" font-family=\"Times,serif\" font-size=\"14.00\" text-anchor=\"middle\" x=\"216.5\" y=\"-91.3\">(None, 128)</text>\n",
       "</g>\n",
       "<!-- 140124587842864&#45;&gt;140124587843368 -->\n",
       "<g class=\"edge\" id=\"edge2\">\n",
       "<title>140124587842864-&gt;140124587843368</title>\n",
       "<path d=\"M138,-166.3799C138,-158.1745 138,-148.7679 138,-139.8786\" fill=\"none\" stroke=\"#000000\"/>\n",
       "<polygon fill=\"#000000\" points=\"141.5001,-139.784 138,-129.784 134.5001,-139.784 141.5001,-139.784\" stroke=\"#000000\"/>\n",
       "</g>\n",
       "<!-- 140124587930176 -->\n",
       "<g class=\"node\" id=\"node3\">\n",
       "<title>140124587930176</title>\n",
       "<polygon fill=\"none\" points=\"18,-.5 18,-46.5 258,-46.5 258,-.5 18,-.5\" stroke=\"#000000\"/>\n",
       "<text fill=\"#000000\" font-family=\"Times,serif\" font-size=\"14.00\" text-anchor=\"middle\" x=\"69\" y=\"-19.8\">dense_3: Dense</text>\n",
       "<polyline fill=\"none\" points=\"120,-.5 120,-46.5 \" stroke=\"#000000\"/>\n",
       "<text fill=\"#000000\" font-family=\"Times,serif\" font-size=\"14.00\" text-anchor=\"middle\" x=\"147.5\" y=\"-31.3\">input:</text>\n",
       "<polyline fill=\"none\" points=\"120,-23.5 175,-23.5 \" stroke=\"#000000\"/>\n",
       "<text fill=\"#000000\" font-family=\"Times,serif\" font-size=\"14.00\" text-anchor=\"middle\" x=\"147.5\" y=\"-8.3\">output:</text>\n",
       "<polyline fill=\"none\" points=\"175,-.5 175,-46.5 \" stroke=\"#000000\"/>\n",
       "<text fill=\"#000000\" font-family=\"Times,serif\" font-size=\"14.00\" text-anchor=\"middle\" x=\"216.5\" y=\"-31.3\">(None, 128)</text>\n",
       "<polyline fill=\"none\" points=\"175,-23.5 258,-23.5 \" stroke=\"#000000\"/>\n",
       "<text fill=\"#000000\" font-family=\"Times,serif\" font-size=\"14.00\" text-anchor=\"middle\" x=\"216.5\" y=\"-8.3\">(None, 10)</text>\n",
       "</g>\n",
       "<!-- 140124587843368&#45;&gt;140124587930176 -->\n",
       "<g class=\"edge\" id=\"edge3\">\n",
       "<title>140124587843368-&gt;140124587930176</title>\n",
       "<path d=\"M138,-83.3799C138,-75.1745 138,-65.7679 138,-56.8786\" fill=\"none\" stroke=\"#000000\"/>\n",
       "<polygon fill=\"#000000\" points=\"141.5001,-56.784 138,-46.784 134.5001,-56.784 141.5001,-56.784\" stroke=\"#000000\"/>\n",
       "</g>\n",
       "<!-- 140124587841968 -->\n",
       "<g class=\"node\" id=\"node4\">\n",
       "<title>140124587841968</title>\n",
       "<polygon fill=\"none\" points=\"79,-249.5 79,-285.5 197,-285.5 197,-249.5 79,-249.5\" stroke=\"#000000\"/>\n",
       "<text fill=\"#000000\" font-family=\"Times,serif\" font-size=\"14.00\" text-anchor=\"middle\" x=\"138\" y=\"-263.8\">140124587841968</text>\n",
       "</g>\n",
       "<!-- 140124587841968&#45;&gt;140124587842864 -->\n",
       "<g class=\"edge\" id=\"edge1\">\n",
       "<title>140124587841968-&gt;140124587842864</title>\n",
       "<path d=\"M138,-249.4092C138,-241.4308 138,-231.795 138,-222.606\" fill=\"none\" stroke=\"#000000\"/>\n",
       "<polygon fill=\"#000000\" points=\"141.5001,-222.5333 138,-212.5333 134.5001,-222.5334 141.5001,-222.5333\" stroke=\"#000000\"/>\n",
       "</g>\n",
       "</g>\n",
       "</svg>"
      ],
      "text/plain": [
       "<IPython.core.display.SVG object>"
      ]
     },
     "execution_count": 14,
     "metadata": {},
     "output_type": "execute_result"
    }
   ],
   "source": [
    "model = Sequential()\n",
    "model.add(Flatten(input_shape=input_shape))\n",
    "model.add(Dense(128, activation='relu'))\n",
    "model.add(Dense(num_classes, activation='softmax'))\n",
    "print(model.summary())\n",
    "SVG(model_to_dot(model, show_shapes=True).create(prog='dot', format='svg'))"
   ]
  },
  {
   "cell_type": "code",
   "execution_count": 15,
   "metadata": {},
   "outputs": [
    {
     "name": "stdout",
     "output_type": "stream",
     "text": [
      "Train on 128 samples, validate on 10000 samples\n",
      "Epoch 1/20\n",
      "128/128 [==============================] - 0s 2ms/step - loss: 2.2398 - acc: 0.2969 - val_loss: 2.1717 - val_acc: 0.2775\n",
      "Epoch 2/20\n",
      "128/128 [==============================] - 0s 616us/step - loss: 2.0325 - acc: 0.3672 - val_loss: 2.0548 - val_acc: 0.3452\n",
      "Epoch 3/20\n",
      "128/128 [==============================] - 0s 545us/step - loss: 1.8473 - acc: 0.5391 - val_loss: 1.9515 - val_acc: 0.4188\n",
      "Epoch 4/20\n",
      "128/128 [==============================] - 0s 492us/step - loss: 1.6777 - acc: 0.6641 - val_loss: 1.8595 - val_acc: 0.4763\n",
      "Epoch 5/20\n",
      "128/128 [==============================] - 0s 630us/step - loss: 1.5243 - acc: 0.7344 - val_loss: 1.7774 - val_acc: 0.5134\n",
      "Epoch 6/20\n",
      "128/128 [==============================] - 0s 648us/step - loss: 1.3847 - acc: 0.7656 - val_loss: 1.7032 - val_acc: 0.5438\n",
      "Epoch 7/20\n",
      "128/128 [==============================] - 0s 665us/step - loss: 1.2571 - acc: 0.8125 - val_loss: 1.6350 - val_acc: 0.5677\n",
      "Epoch 8/20\n",
      "128/128 [==============================] - 0s 638us/step - loss: 1.1392 - acc: 0.8281 - val_loss: 1.5717 - val_acc: 0.5893\n",
      "Epoch 9/20\n",
      "128/128 [==============================] - 0s 647us/step - loss: 1.0314 - acc: 0.8359 - val_loss: 1.5133 - val_acc: 0.6014\n",
      "Epoch 10/20\n",
      "128/128 [==============================] - 0s 650us/step - loss: 0.9332 - acc: 0.8438 - val_loss: 1.4591 - val_acc: 0.6117\n",
      "Epoch 11/20\n",
      "128/128 [==============================] - 0s 611us/step - loss: 0.8437 - acc: 0.8516 - val_loss: 1.4087 - val_acc: 0.6230\n",
      "Epoch 12/20\n",
      "128/128 [==============================] - 0s 589us/step - loss: 0.7621 - acc: 0.8594 - val_loss: 1.3619 - val_acc: 0.6303\n",
      "Epoch 13/20\n",
      "128/128 [==============================] - 0s 648us/step - loss: 0.6880 - acc: 0.8828 - val_loss: 1.3183 - val_acc: 0.6381\n",
      "Epoch 14/20\n",
      "128/128 [==============================] - 0s 681us/step - loss: 0.6203 - acc: 0.9141 - val_loss: 1.2781 - val_acc: 0.6480\n",
      "Epoch 15/20\n",
      "128/128 [==============================] - 0s 632us/step - loss: 0.5592 - acc: 0.9297 - val_loss: 1.2417 - val_acc: 0.6562\n",
      "Epoch 16/20\n",
      "128/128 [==============================] - 0s 562us/step - loss: 0.5042 - acc: 0.9375 - val_loss: 1.2093 - val_acc: 0.6626\n",
      "Epoch 17/20\n",
      "128/128 [==============================] - 0s 575us/step - loss: 0.4547 - acc: 0.9453 - val_loss: 1.1810 - val_acc: 0.6663\n",
      "Epoch 18/20\n",
      "128/128 [==============================] - 0s 617us/step - loss: 0.4107 - acc: 0.9609 - val_loss: 1.1567 - val_acc: 0.6699\n",
      "Epoch 19/20\n",
      "128/128 [==============================] - 0s 695us/step - loss: 0.3711 - acc: 0.9688 - val_loss: 1.1361 - val_acc: 0.6752\n",
      "Epoch 20/20\n",
      "128/128 [==============================] - 0s 693us/step - loss: 0.3358 - acc: 0.9766 - val_loss: 1.1188 - val_acc: 0.6771\n"
     ]
    }
   ],
   "source": [
    "model.compile(loss=categorical_crossentropy,\n",
    "              optimizer=Adam(),\n",
    "              metrics=['accuracy'])\n",
    "\n",
    "history = model.fit(\n",
    "    x_train, y_train,\n",
    "    batch_size=batch_size,\n",
    "    epochs=epochs,\n",
    "    verbose=1,\n",
    "    validation_data=(x_test, y_test)\n",
    ")"
   ]
  },
  {
   "cell_type": "code",
   "execution_count": 16,
   "metadata": {},
   "outputs": [],
   "source": [
    "def evaluate(model, history):\n",
    "    score = model.evaluate(x_test, y_test, verbose=0)\n",
    "    print('Test loss:', score[0])\n",
    "    print('Test accuracy:', score[1])\n",
    "    \n",
    "    df_loss = DataFrame(data={\n",
    "        'Epoche': history.epoch * 2,\n",
    "        'Legende': ['Loss auf Trainingsdaten'] * len(history.epoch) + ['Loss auf Testdaten'] * len(history.epoch),\n",
    "        'Loss': history.history['loss'] + history.history['val_loss']\n",
    "    })\n",
    "    df_accuracy = DataFrame(data={\n",
    "        'Epoche': history.epoch * 2,\n",
    "        'Legende': ['Accuracy auf Trainingsdaten'] * len(history.epoch) + ['Accuracy auf Testdaten'] * len(history.epoch),\n",
    "        'Accuracy': history.history['acc'] + history.history['val_acc']\n",
    "    })\n",
    "    chart_loss = alt.Chart(df_loss).mark_line().encode(\n",
    "        x='Epoche', y='Loss', color='Legende')\n",
    "    chart_accuracy = alt.Chart(df_accuracy).mark_line().encode(\n",
    "        x='Epoche', y='Accuracy', color='Legende')\n",
    "    chart = chart_loss + chart_accuracy\n",
    "    return chart.resolve_scale(y='independent')"
   ]
  },
  {
   "cell_type": "code",
   "execution_count": 17,
   "metadata": {},
   "outputs": [
    {
     "name": "stdout",
     "output_type": "stream",
     "text": [
      "Test loss: 1.118774176311493\n",
      "Test accuracy: 0.6771\n"
     ]
    },
    {
     "data": {
      "application/javascript": [
       "var spec = {\"config\": {\"view\": {\"width\": 400, \"height\": 300}, \"mark\": {\"tooltip\": null}}, \"layer\": [{\"data\": {\"name\": \"data-9f7a3bd9c737db5b6f9c13c54eebe85e\"}, \"mark\": \"line\", \"encoding\": {\"color\": {\"type\": \"nominal\", \"field\": \"Legende\"}, \"x\": {\"type\": \"quantitative\", \"field\": \"Epoche\"}, \"y\": {\"type\": \"quantitative\", \"field\": \"Loss\"}}}, {\"data\": {\"name\": \"data-828cee507b5081d9fad583fa25264c23\"}, \"mark\": \"line\", \"encoding\": {\"color\": {\"type\": \"nominal\", \"field\": \"Legende\"}, \"x\": {\"type\": \"quantitative\", \"field\": \"Epoche\"}, \"y\": {\"type\": \"quantitative\", \"field\": \"Accuracy\"}}}], \"resolve\": {\"scale\": {\"y\": \"independent\"}}, \"$schema\": \"https://vega.github.io/schema/vega-lite/v3.2.1.json\", \"datasets\": {\"data-9f7a3bd9c737db5b6f9c13c54eebe85e\": [{\"Epoche\": 0, \"Legende\": \"Loss auf Trainingsdaten\", \"Loss\": 2.2398362159729004}, {\"Epoche\": 1, \"Legende\": \"Loss auf Trainingsdaten\", \"Loss\": 2.032508373260498}, {\"Epoche\": 2, \"Legende\": \"Loss auf Trainingsdaten\", \"Loss\": 1.8472752571105957}, {\"Epoche\": 3, \"Legende\": \"Loss auf Trainingsdaten\", \"Loss\": 1.6776906251907349}, {\"Epoche\": 4, \"Legende\": \"Loss auf Trainingsdaten\", \"Loss\": 1.524268388748169}, {\"Epoche\": 5, \"Legende\": \"Loss auf Trainingsdaten\", \"Loss\": 1.3846769332885742}, {\"Epoche\": 6, \"Legende\": \"Loss auf Trainingsdaten\", \"Loss\": 1.2570805549621582}, {\"Epoche\": 7, \"Legende\": \"Loss auf Trainingsdaten\", \"Loss\": 1.1391724348068237}, {\"Epoche\": 8, \"Legende\": \"Loss auf Trainingsdaten\", \"Loss\": 1.0314096212387085}, {\"Epoche\": 9, \"Legende\": \"Loss auf Trainingsdaten\", \"Loss\": 0.9332351684570312}, {\"Epoche\": 10, \"Legende\": \"Loss auf Trainingsdaten\", \"Loss\": 0.8437062501907349}, {\"Epoche\": 11, \"Legende\": \"Loss auf Trainingsdaten\", \"Loss\": 0.7621258497238159}, {\"Epoche\": 12, \"Legende\": \"Loss auf Trainingsdaten\", \"Loss\": 0.6880037188529968}, {\"Epoche\": 13, \"Legende\": \"Loss auf Trainingsdaten\", \"Loss\": 0.6203255653381348}, {\"Epoche\": 14, \"Legende\": \"Loss auf Trainingsdaten\", \"Loss\": 0.5591833591461182}, {\"Epoche\": 15, \"Legende\": \"Loss auf Trainingsdaten\", \"Loss\": 0.504212498664856}, {\"Epoche\": 16, \"Legende\": \"Loss auf Trainingsdaten\", \"Loss\": 0.454739511013031}, {\"Epoche\": 17, \"Legende\": \"Loss auf Trainingsdaten\", \"Loss\": 0.41065722703933716}, {\"Epoche\": 18, \"Legende\": \"Loss auf Trainingsdaten\", \"Loss\": 0.37107354402542114}, {\"Epoche\": 19, \"Legende\": \"Loss auf Trainingsdaten\", \"Loss\": 0.33582809567451477}, {\"Epoche\": 0, \"Legende\": \"Loss auf Testdaten\", \"Loss\": 2.171721297836304}, {\"Epoche\": 1, \"Legende\": \"Loss auf Testdaten\", \"Loss\": 2.0547960859298704}, {\"Epoche\": 2, \"Legende\": \"Loss auf Testdaten\", \"Loss\": 1.9514728748321533}, {\"Epoche\": 3, \"Legende\": \"Loss auf Testdaten\", \"Loss\": 1.8594835311889648}, {\"Epoche\": 4, \"Legende\": \"Loss auf Testdaten\", \"Loss\": 1.7773599643707276}, {\"Epoche\": 5, \"Legende\": \"Loss auf Testdaten\", \"Loss\": 1.703177186203003}, {\"Epoche\": 6, \"Legende\": \"Loss auf Testdaten\", \"Loss\": 1.634975800704956}, {\"Epoche\": 7, \"Legende\": \"Loss auf Testdaten\", \"Loss\": 1.5717298393249513}, {\"Epoche\": 8, \"Legende\": \"Loss auf Testdaten\", \"Loss\": 1.5132928525924683}, {\"Epoche\": 9, \"Legende\": \"Loss auf Testdaten\", \"Loss\": 1.4590524972915648}, {\"Epoche\": 10, \"Legende\": \"Loss auf Testdaten\", \"Loss\": 1.4087023777008056}, {\"Epoche\": 11, \"Legende\": \"Loss auf Testdaten\", \"Loss\": 1.3619025783538818}, {\"Epoche\": 12, \"Legende\": \"Loss auf Testdaten\", \"Loss\": 1.3183146492004394}, {\"Epoche\": 13, \"Legende\": \"Loss auf Testdaten\", \"Loss\": 1.278135198020935}, {\"Epoche\": 14, \"Legende\": \"Loss auf Testdaten\", \"Loss\": 1.241696937274933}, {\"Epoche\": 15, \"Legende\": \"Loss auf Testdaten\", \"Loss\": 1.209291580581665}, {\"Epoche\": 16, \"Legende\": \"Loss auf Testdaten\", \"Loss\": 1.1809840965270997}, {\"Epoche\": 17, \"Legende\": \"Loss auf Testdaten\", \"Loss\": 1.1567123340606689}, {\"Epoche\": 18, \"Legende\": \"Loss auf Testdaten\", \"Loss\": 1.1361123012542724}, {\"Epoche\": 19, \"Legende\": \"Loss auf Testdaten\", \"Loss\": 1.11877417345047}], \"data-828cee507b5081d9fad583fa25264c23\": [{\"Epoche\": 0, \"Legende\": \"Accuracy auf Trainingsdaten\", \"Accuracy\": 0.296875}, {\"Epoche\": 1, \"Legende\": \"Accuracy auf Trainingsdaten\", \"Accuracy\": 0.3671875}, {\"Epoche\": 2, \"Legende\": \"Accuracy auf Trainingsdaten\", \"Accuracy\": 0.5390625}, {\"Epoche\": 3, \"Legende\": \"Accuracy auf Trainingsdaten\", \"Accuracy\": 0.6640625}, {\"Epoche\": 4, \"Legende\": \"Accuracy auf Trainingsdaten\", \"Accuracy\": 0.734375}, {\"Epoche\": 5, \"Legende\": \"Accuracy auf Trainingsdaten\", \"Accuracy\": 0.765625}, {\"Epoche\": 6, \"Legende\": \"Accuracy auf Trainingsdaten\", \"Accuracy\": 0.8125}, {\"Epoche\": 7, \"Legende\": \"Accuracy auf Trainingsdaten\", \"Accuracy\": 0.828125}, {\"Epoche\": 8, \"Legende\": \"Accuracy auf Trainingsdaten\", \"Accuracy\": 0.8359375}, {\"Epoche\": 9, \"Legende\": \"Accuracy auf Trainingsdaten\", \"Accuracy\": 0.84375}, {\"Epoche\": 10, \"Legende\": \"Accuracy auf Trainingsdaten\", \"Accuracy\": 0.8515625}, {\"Epoche\": 11, \"Legende\": \"Accuracy auf Trainingsdaten\", \"Accuracy\": 0.859375}, {\"Epoche\": 12, \"Legende\": \"Accuracy auf Trainingsdaten\", \"Accuracy\": 0.8828125}, {\"Epoche\": 13, \"Legende\": \"Accuracy auf Trainingsdaten\", \"Accuracy\": 0.9140625}, {\"Epoche\": 14, \"Legende\": \"Accuracy auf Trainingsdaten\", \"Accuracy\": 0.9296875}, {\"Epoche\": 15, \"Legende\": \"Accuracy auf Trainingsdaten\", \"Accuracy\": 0.9375}, {\"Epoche\": 16, \"Legende\": \"Accuracy auf Trainingsdaten\", \"Accuracy\": 0.9453125}, {\"Epoche\": 17, \"Legende\": \"Accuracy auf Trainingsdaten\", \"Accuracy\": 0.9609375}, {\"Epoche\": 18, \"Legende\": \"Accuracy auf Trainingsdaten\", \"Accuracy\": 0.96875}, {\"Epoche\": 19, \"Legende\": \"Accuracy auf Trainingsdaten\", \"Accuracy\": 0.9765625}, {\"Epoche\": 0, \"Legende\": \"Accuracy auf Testdaten\", \"Accuracy\": 0.2775}, {\"Epoche\": 1, \"Legende\": \"Accuracy auf Testdaten\", \"Accuracy\": 0.3452}, {\"Epoche\": 2, \"Legende\": \"Accuracy auf Testdaten\", \"Accuracy\": 0.4188}, {\"Epoche\": 3, \"Legende\": \"Accuracy auf Testdaten\", \"Accuracy\": 0.4763}, {\"Epoche\": 4, \"Legende\": \"Accuracy auf Testdaten\", \"Accuracy\": 0.5134}, {\"Epoche\": 5, \"Legende\": \"Accuracy auf Testdaten\", \"Accuracy\": 0.5438}, {\"Epoche\": 6, \"Legende\": \"Accuracy auf Testdaten\", \"Accuracy\": 0.5677}, {\"Epoche\": 7, \"Legende\": \"Accuracy auf Testdaten\", \"Accuracy\": 0.5893}, {\"Epoche\": 8, \"Legende\": \"Accuracy auf Testdaten\", \"Accuracy\": 0.6014}, {\"Epoche\": 9, \"Legende\": \"Accuracy auf Testdaten\", \"Accuracy\": 0.6117}, {\"Epoche\": 10, \"Legende\": \"Accuracy auf Testdaten\", \"Accuracy\": 0.623}, {\"Epoche\": 11, \"Legende\": \"Accuracy auf Testdaten\", \"Accuracy\": 0.6303}, {\"Epoche\": 12, \"Legende\": \"Accuracy auf Testdaten\", \"Accuracy\": 0.6381}, {\"Epoche\": 13, \"Legende\": \"Accuracy auf Testdaten\", \"Accuracy\": 0.648}, {\"Epoche\": 14, \"Legende\": \"Accuracy auf Testdaten\", \"Accuracy\": 0.6562}, {\"Epoche\": 15, \"Legende\": \"Accuracy auf Testdaten\", \"Accuracy\": 0.6626}, {\"Epoche\": 16, \"Legende\": \"Accuracy auf Testdaten\", \"Accuracy\": 0.6663}, {\"Epoche\": 17, \"Legende\": \"Accuracy auf Testdaten\", \"Accuracy\": 0.6699}, {\"Epoche\": 18, \"Legende\": \"Accuracy auf Testdaten\", \"Accuracy\": 0.6752}, {\"Epoche\": 19, \"Legende\": \"Accuracy auf Testdaten\", \"Accuracy\": 0.6771}]}};\n",
       "var opt = {};\n",
       "var type = \"vega-lite\";\n",
       "var id = \"f4d4dd28-3e91-441d-9767-1779cc80e341\";\n",
       "\n",
       "var output_area = this;\n",
       "\n",
       "require([\"nbextensions/jupyter-vega/index\"], function(vega) {\n",
       "  var target = document.createElement(\"div\");\n",
       "  target.id = id;\n",
       "  target.className = \"vega-embed\";\n",
       "\n",
       "  var style = document.createElement(\"style\");\n",
       "  style.textContent = [\n",
       "    \".vega-embed .error p {\",\n",
       "    \"  color: firebrick;\",\n",
       "    \"  font-size: 14px;\",\n",
       "    \"}\",\n",
       "  ].join(\"\\\\n\");\n",
       "\n",
       "  // element is a jQuery wrapped DOM element inside the output area\n",
       "  // see http://ipython.readthedocs.io/en/stable/api/generated/\\\n",
       "  // IPython.display.html#IPython.display.Javascript.__init__\n",
       "  element[0].appendChild(target);\n",
       "  element[0].appendChild(style);\n",
       "\n",
       "  vega.render(\"#\" + id, spec, type, opt, output_area);\n",
       "}, function (err) {\n",
       "  if (err.requireType !== \"scripterror\") {\n",
       "    throw(err);\n",
       "  }\n",
       "});\n"
      ],
      "text/plain": [
       "<vega.vegalite.VegaLite at 0x7f714c3d9e80>"
      ]
     },
     "metadata": {
      "jupyter-vega": "#f4d4dd28-3e91-441d-9767-1779cc80e341"
     },
     "output_type": "display_data"
    },
    {
     "data": {
      "image/png": "[encoded data removed]"
     },
     "metadata": {
      "jupyter-vega": "#f4d4dd28-3e91-441d-9767-1779cc80e341"
     },
     "output_type": "display_data"
    },
    {
     "data": {
      "text/plain": []
     },
     "execution_count": 17,
     "metadata": {},
     "output_type": "execute_result"
    }
   ],
   "source": [
    "evaluate(model, history)"
   ]
  },
  {
   "cell_type": "code",
   "execution_count": 18,
   "metadata": {},
   "outputs": [],
   "source": [
    "(x_train, y_train), (x_test, y_test) = mnist.load_data()\n",
    "\n",
    "train_size = x_train.shape[0]\n",
    "test_size = x_test.shape[0]\n",
    "\n",
    "data_format = K.image_data_format()\n",
    "if data_format == 'channels_first':\n",
    "    x_train = x_train.reshape(train_size, 1, rows, cols)\n",
    "    x_test = x_test.reshape(test_size, 1, rows, cols)\n",
    "    input_shape = (1, rows, cols)\n",
    "else:\n",
    "    x_train = x_train.reshape(train_size, rows, cols, 1)\n",
    "    x_test = x_test.reshape(test_size, rows, cols, 1)\n",
    "    input_shape = (rows, cols, 1)\n",
    "    \n",
    "# norm data to float in range 0..1\n",
    "x_train = x_train.astype('float32')\n",
    "x_test = x_test.astype('float32')\n",
    "x_train /= 255\n",
    "x_test /= 255\n",
    "\n",
    "# convert class vectors to one hot vector\n",
    "y_train = to_categorical(y_train, 10)\n",
    "y_test = to_categorical(y_test, 10)"
   ]
  },
  {
   "cell_type": "code",
   "execution_count": 19,
   "metadata": {},
   "outputs": [
    {
     "name": "stdout",
     "output_type": "stream",
     "text": [
      "WARNING:tensorflow:From /home/jme/Code/Sacred-MNIST/env/lib/python3.6/site-packages/keras/backend/tensorflow_backend.py:3445: calling dropout (from tensorflow.python.ops.nn_ops) with keep_prob is deprecated and will be removed in a future version.\n",
      "Instructions for updating:\n",
      "Please use `rate` instead of `keep_prob`. Rate should be set to `rate = 1 - keep_prob`.\n",
      "_________________________________________________________________\n",
      "Layer (type)                 Output Shape              Param #   \n",
      "=================================================================\n",
      "flatten_3 (Flatten)          (None, 784)               0         \n",
      "_________________________________________________________________\n",
      "dense_4 (Dense)              (None, 128)               100480    \n",
      "_________________________________________________________________\n",
      "dropout_1 (Dropout)          (None, 128)               0         \n",
      "_________________________________________________________________\n",
      "dense_5 (Dense)              (None, 10)                1290      \n",
      "=================================================================\n",
      "Total params: 101,770\n",
      "Trainable params: 101,770\n",
      "Non-trainable params: 0\n",
      "_________________________________________________________________\n",
      "None\n"
     ]
    },
    {
     "data": {
      "image/svg+xml": [
       "<svg height=\"377pt\" viewBox=\"0.00 0.00 284.00 377.00\" width=\"284pt\" xmlns=\"http://www.w3.org/2000/svg\" xmlns:xlink=\"http://www.w3.org/1999/xlink\">\n",
       "<g class=\"graph\" id=\"graph0\" transform=\"scale(1 1) rotate(0) translate(4 373)\">\n",
       "<title>G</title>\n",
       "<polygon fill=\"#ffffff\" points=\"-4,4 -4,-373 280,-373 280,4 -4,4\" stroke=\"transparent\"/>\n",
       "<!-- 140124583373680 -->\n",
       "<g class=\"node\" id=\"node1\">\n",
       "<title>140124583373680</title>\n",
       "<polygon fill=\"none\" points=\"0,-249.5 0,-295.5 276,-295.5 276,-249.5 0,-249.5\" stroke=\"#000000\"/>\n",
       "<text fill=\"#000000\" font-family=\"Times,serif\" font-size=\"14.00\" text-anchor=\"middle\" x=\"55\" y=\"-268.8\">flatten_3: Flatten</text>\n",
       "<polyline fill=\"none\" points=\"110,-249.5 110,-295.5 \" stroke=\"#000000\"/>\n",
       "<text fill=\"#000000\" font-family=\"Times,serif\" font-size=\"14.00\" text-anchor=\"middle\" x=\"137.5\" y=\"-280.3\">input:</text>\n",
       "<polyline fill=\"none\" points=\"110,-272.5 165,-272.5 \" stroke=\"#000000\"/>\n",
       "<text fill=\"#000000\" font-family=\"Times,serif\" font-size=\"14.00\" text-anchor=\"middle\" x=\"137.5\" y=\"-257.3\">output:</text>\n",
       "<polyline fill=\"none\" points=\"165,-249.5 165,-295.5 \" stroke=\"#000000\"/>\n",
       "<text fill=\"#000000\" font-family=\"Times,serif\" font-size=\"14.00\" text-anchor=\"middle\" x=\"220.5\" y=\"-280.3\">(None, 28, 28, 1)</text>\n",
       "<polyline fill=\"none\" points=\"165,-272.5 276,-272.5 \" stroke=\"#000000\"/>\n",
       "<text fill=\"#000000\" font-family=\"Times,serif\" font-size=\"14.00\" text-anchor=\"middle\" x=\"220.5\" y=\"-257.3\">(None, 784)</text>\n",
       "</g>\n",
       "<!-- 140124583372560 -->\n",
       "<g class=\"node\" id=\"node2\">\n",
       "<title>140124583372560</title>\n",
       "<polygon fill=\"none\" points=\"18,-166.5 18,-212.5 258,-212.5 258,-166.5 18,-166.5\" stroke=\"#000000\"/>\n",
       "<text fill=\"#000000\" font-family=\"Times,serif\" font-size=\"14.00\" text-anchor=\"middle\" x=\"69\" y=\"-185.8\">dense_4: Dense</text>\n",
       "<polyline fill=\"none\" points=\"120,-166.5 120,-212.5 \" stroke=\"#000000\"/>\n",
       "<text fill=\"#000000\" font-family=\"Times,serif\" font-size=\"14.00\" text-anchor=\"middle\" x=\"147.5\" y=\"-197.3\">input:</text>\n",
       "<polyline fill=\"none\" points=\"120,-189.5 175,-189.5 \" stroke=\"#000000\"/>\n",
       "<text fill=\"#000000\" font-family=\"Times,serif\" font-size=\"14.00\" text-anchor=\"middle\" x=\"147.5\" y=\"-174.3\">output:</text>\n",
       "<polyline fill=\"none\" points=\"175,-166.5 175,-212.5 \" stroke=\"#000000\"/>\n",
       "<text fill=\"#000000\" font-family=\"Times,serif\" font-size=\"14.00\" text-anchor=\"middle\" x=\"216.5\" y=\"-197.3\">(None, 784)</text>\n",
       "<polyline fill=\"none\" points=\"175,-189.5 258,-189.5 \" stroke=\"#000000\"/>\n",
       "<text fill=\"#000000\" font-family=\"Times,serif\" font-size=\"14.00\" text-anchor=\"middle\" x=\"216.5\" y=\"-174.3\">(None, 128)</text>\n",
       "</g>\n",
       "<!-- 140124583373680&#45;&gt;140124583372560 -->\n",
       "<g class=\"edge\" id=\"edge2\">\n",
       "<title>140124583373680-&gt;140124583372560</title>\n",
       "<path d=\"M138,-249.3799C138,-241.1745 138,-231.7679 138,-222.8786\" fill=\"none\" stroke=\"#000000\"/>\n",
       "<polygon fill=\"#000000\" points=\"141.5001,-222.784 138,-212.784 134.5001,-222.784 141.5001,-222.784\" stroke=\"#000000\"/>\n",
       "</g>\n",
       "<!-- 140125802442536 -->\n",
       "<g class=\"node\" id=\"node3\">\n",
       "<title>140125802442536</title>\n",
       "<polygon fill=\"none\" points=\"6.5,-83.5 6.5,-129.5 269.5,-129.5 269.5,-83.5 6.5,-83.5\" stroke=\"#000000\"/>\n",
       "<text fill=\"#000000\" font-family=\"Times,serif\" font-size=\"14.00\" text-anchor=\"middle\" x=\"69\" y=\"-102.8\">dropout_1: Dropout</text>\n",
       "<polyline fill=\"none\" points=\"131.5,-83.5 131.5,-129.5 \" stroke=\"#000000\"/>\n",
       "<text fill=\"#000000\" font-family=\"Times,serif\" font-size=\"14.00\" text-anchor=\"middle\" x=\"159\" y=\"-114.3\">input:</text>\n",
       "<polyline fill=\"none\" points=\"131.5,-106.5 186.5,-106.5 \" stroke=\"#000000\"/>\n",
       "<text fill=\"#000000\" font-family=\"Times,serif\" font-size=\"14.00\" text-anchor=\"middle\" x=\"159\" y=\"-91.3\">output:</text>\n",
       "<polyline fill=\"none\" points=\"186.5,-83.5 186.5,-129.5 \" stroke=\"#000000\"/>\n",
       "<text fill=\"#000000\" font-family=\"Times,serif\" font-size=\"14.00\" text-anchor=\"middle\" x=\"228\" y=\"-114.3\">(None, 128)</text>\n",
       "<polyline fill=\"none\" points=\"186.5,-106.5 269.5,-106.5 \" stroke=\"#000000\"/>\n",
       "<text fill=\"#000000\" font-family=\"Times,serif\" font-size=\"14.00\" text-anchor=\"middle\" x=\"228\" y=\"-91.3\">(None, 128)</text>\n",
       "</g>\n",
       "<!-- 140124583372560&#45;&gt;140125802442536 -->\n",
       "<g class=\"edge\" id=\"edge3\">\n",
       "<title>140124583372560-&gt;140125802442536</title>\n",
       "<path d=\"M138,-166.3799C138,-158.1745 138,-148.7679 138,-139.8786\" fill=\"none\" stroke=\"#000000\"/>\n",
       "<polygon fill=\"#000000\" points=\"141.5001,-139.784 138,-129.784 134.5001,-139.784 141.5001,-139.784\" stroke=\"#000000\"/>\n",
       "</g>\n",
       "<!-- 140124583547624 -->\n",
       "<g class=\"node\" id=\"node4\">\n",
       "<title>140124583547624</title>\n",
       "<polygon fill=\"none\" points=\"18,-.5 18,-46.5 258,-46.5 258,-.5 18,-.5\" stroke=\"#000000\"/>\n",
       "<text fill=\"#000000\" font-family=\"Times,serif\" font-size=\"14.00\" text-anchor=\"middle\" x=\"69\" y=\"-19.8\">dense_5: Dense</text>\n",
       "<polyline fill=\"none\" points=\"120,-.5 120,-46.5 \" stroke=\"#000000\"/>\n",
       "<text fill=\"#000000\" font-family=\"Times,serif\" font-size=\"14.00\" text-anchor=\"middle\" x=\"147.5\" y=\"-31.3\">input:</text>\n",
       "<polyline fill=\"none\" points=\"120,-23.5 175,-23.5 \" stroke=\"#000000\"/>\n",
       "<text fill=\"#000000\" font-family=\"Times,serif\" font-size=\"14.00\" text-anchor=\"middle\" x=\"147.5\" y=\"-8.3\">output:</text>\n",
       "<polyline fill=\"none\" points=\"175,-.5 175,-46.5 \" stroke=\"#000000\"/>\n",
       "<text fill=\"#000000\" font-family=\"Times,serif\" font-size=\"14.00\" text-anchor=\"middle\" x=\"216.5\" y=\"-31.3\">(None, 128)</text>\n",
       "<polyline fill=\"none\" points=\"175,-23.5 258,-23.5 \" stroke=\"#000000\"/>\n",
       "<text fill=\"#000000\" font-family=\"Times,serif\" font-size=\"14.00\" text-anchor=\"middle\" x=\"216.5\" y=\"-8.3\">(None, 10)</text>\n",
       "</g>\n",
       "<!-- 140125802442536&#45;&gt;140124583547624 -->\n",
       "<g class=\"edge\" id=\"edge4\">\n",
       "<title>140125802442536-&gt;140124583547624</title>\n",
       "<path d=\"M138,-83.3799C138,-75.1745 138,-65.7679 138,-56.8786\" fill=\"none\" stroke=\"#000000\"/>\n",
       "<polygon fill=\"#000000\" points=\"141.5001,-56.784 138,-46.784 134.5001,-56.784 141.5001,-56.784\" stroke=\"#000000\"/>\n",
       "</g>\n",
       "<!-- 140125802440912 -->\n",
       "<g class=\"node\" id=\"node5\">\n",
       "<title>140125802440912</title>\n",
       "<polygon fill=\"none\" points=\"79,-332.5 79,-368.5 197,-368.5 197,-332.5 79,-332.5\" stroke=\"#000000\"/>\n",
       "<text fill=\"#000000\" font-family=\"Times,serif\" font-size=\"14.00\" text-anchor=\"middle\" x=\"138\" y=\"-346.8\">140125802440912</text>\n",
       "</g>\n",
       "<!-- 140125802440912&#45;&gt;140124583373680 -->\n",
       "<g class=\"edge\" id=\"edge1\">\n",
       "<title>140125802440912-&gt;140124583373680</title>\n",
       "<path d=\"M138,-332.4092C138,-324.4308 138,-314.795 138,-305.606\" fill=\"none\" stroke=\"#000000\"/>\n",
       "<polygon fill=\"#000000\" points=\"141.5001,-305.5333 138,-295.5333 134.5001,-305.5334 141.5001,-305.5333\" stroke=\"#000000\"/>\n",
       "</g>\n",
       "</g>\n",
       "</svg>"
      ],
      "text/plain": [
       "<IPython.core.display.SVG object>"
      ]
     },
     "execution_count": 19,
     "metadata": {},
     "output_type": "execute_result"
    }
   ],
   "source": [
    "model = Sequential()\n",
    "model.add(Flatten(input_shape=input_shape))\n",
    "model.add(Dense(128, activation='relu'))\n",
    "model.add(Dropout(rate=0.5))\n",
    "model.add(Dense(num_classes, activation='softmax'))\n",
    "print(model.summary())\n",
    "SVG(model_to_dot(model, show_shapes=True).create(prog='dot', format='svg'))"
   ]
  },
  {
   "cell_type": "code",
   "execution_count": 20,
   "metadata": {},
   "outputs": [
    {
     "name": "stdout",
     "output_type": "stream",
     "text": [
      "Train on 60000 samples, validate on 10000 samples\n",
      "Epoch 1/12\n",
      "60000/60000 [==============================] - 2s 27us/step - loss: 0.5039 - acc: 0.8516 - val_loss: 0.2146 - val_acc: 0.9361\n",
      "Epoch 2/12\n",
      "60000/60000 [==============================] - 1s 24us/step - loss: 0.2609 - acc: 0.9236 - val_loss: 0.1563 - val_acc: 0.9533\n",
      "Epoch 3/12\n",
      "60000/60000 [==============================] - 1s 23us/step - loss: 0.2139 - acc: 0.9374 - val_loss: 0.1281 - val_acc: 0.9623\n",
      "Epoch 4/12\n",
      "60000/60000 [==============================] - 2s 25us/step - loss: 0.1851 - acc: 0.9461 - val_loss: 0.1138 - val_acc: 0.9651\n",
      "Epoch 5/12\n",
      "60000/60000 [==============================] - 1s 25us/step - loss: 0.1679 - acc: 0.9511 - val_loss: 0.1022 - val_acc: 0.9699\n",
      "Epoch 6/12\n",
      "60000/60000 [==============================] - 1s 24us/step - loss: 0.1545 - acc: 0.9539 - val_loss: 0.1019 - val_acc: 0.9698\n",
      "Epoch 7/12\n",
      "60000/60000 [==============================] - 1s 24us/step - loss: 0.1439 - acc: 0.9567 - val_loss: 0.0907 - val_acc: 0.9721\n",
      "Epoch 8/12\n",
      "60000/60000 [==============================] - 1s 22us/step - loss: 0.1343 - acc: 0.9599 - val_loss: 0.0877 - val_acc: 0.9725\n",
      "Epoch 9/12\n",
      "60000/60000 [==============================] - 2s 27us/step - loss: 0.1292 - acc: 0.9609 - val_loss: 0.0852 - val_acc: 0.9746\n",
      "Epoch 10/12\n",
      "60000/60000 [==============================] - 2s 26us/step - loss: 0.1220 - acc: 0.9635 - val_loss: 0.0835 - val_acc: 0.9750\n",
      "Epoch 11/12\n",
      "60000/60000 [==============================] - 1s 24us/step - loss: 0.1200 - acc: 0.9641 - val_loss: 0.0816 - val_acc: 0.9757\n",
      "Epoch 12/12\n",
      "60000/60000 [==============================] - 1s 25us/step - loss: 0.1125 - acc: 0.9659 - val_loss: 0.0802 - val_acc: 0.9753\n"
     ]
    }
   ],
   "source": [
    "batch_size = 128\n",
    "epochs = 12\n",
    "\n",
    "model.compile(loss=categorical_crossentropy,\n",
    "              optimizer=Adam(),\n",
    "              metrics=['accuracy'])\n",
    "\n",
    "history = model.fit(\n",
    "    x_train, y_train,\n",
    "    batch_size=batch_size,\n",
    "    epochs=epochs,\n",
    "    verbose=1,\n",
    "    validation_data=(x_test, y_test)\n",
    ")"
   ]
  },
  {
   "cell_type": "code",
   "execution_count": 21,
   "metadata": {},
   "outputs": [
    {
     "name": "stdout",
     "output_type": "stream",
     "text": [
      "Test loss: 0.08017215280984528\n",
      "Test accuracy: 0.9753\n"
     ]
    },
    {
     "data": {
      "application/javascript": [
       "var spec = {\"config\": {\"view\": {\"width\": 400, \"height\": 300}, \"mark\": {\"tooltip\": null}}, \"layer\": [{\"data\": {\"name\": \"data-8ca322d958f42bf486202197e19b5d42\"}, \"mark\": \"line\", \"encoding\": {\"color\": {\"type\": \"nominal\", \"field\": \"Legende\"}, \"x\": {\"type\": \"quantitative\", \"field\": \"Epoche\"}, \"y\": {\"type\": \"quantitative\", \"field\": \"Loss\"}}}, {\"data\": {\"name\": \"data-edd34589559ad4da3da42836ac5b13e3\"}, \"mark\": \"line\", \"encoding\": {\"color\": {\"type\": \"nominal\", \"field\": \"Legende\"}, \"x\": {\"type\": \"quantitative\", \"field\": \"Epoche\"}, \"y\": {\"type\": \"quantitative\", \"field\": \"Accuracy\"}}}], \"resolve\": {\"scale\": {\"y\": \"independent\"}}, \"$schema\": \"https://vega.github.io/schema/vega-lite/v3.2.1.json\", \"datasets\": {\"data-8ca322d958f42bf486202197e19b5d42\": [{\"Epoche\": 0, \"Legende\": \"Loss auf Trainingsdaten\", \"Loss\": 0.5038516521374384}, {\"Epoche\": 1, \"Legende\": \"Loss auf Trainingsdaten\", \"Loss\": 0.2609110503991445}, {\"Epoche\": 2, \"Legende\": \"Loss auf Trainingsdaten\", \"Loss\": 0.21394702336788177}, {\"Epoche\": 3, \"Legende\": \"Loss auf Trainingsdaten\", \"Loss\": 0.1851019857565562}, {\"Epoche\": 4, \"Legende\": \"Loss auf Trainingsdaten\", \"Loss\": 0.16785071664651235}, {\"Epoche\": 5, \"Legende\": \"Loss auf Trainingsdaten\", \"Loss\": 0.15448627728621164}, {\"Epoche\": 6, \"Legende\": \"Loss auf Trainingsdaten\", \"Loss\": 0.14391613268057504}, {\"Epoche\": 7, \"Legende\": \"Loss auf Trainingsdaten\", \"Loss\": 0.13425416964292528}, {\"Epoche\": 8, \"Legende\": \"Loss auf Trainingsdaten\", \"Loss\": 0.12918485680421193}, {\"Epoche\": 9, \"Legende\": \"Loss auf Trainingsdaten\", \"Loss\": 0.12202628982067108}, {\"Epoche\": 10, \"Legende\": \"Loss auf Trainingsdaten\", \"Loss\": 0.11996407304207483}, {\"Epoche\": 11, \"Legende\": \"Loss auf Trainingsdaten\", \"Loss\": 0.11246101267337799}, {\"Epoche\": 0, \"Legende\": \"Loss auf Testdaten\", \"Loss\": 0.21459089542627335}, {\"Epoche\": 1, \"Legende\": \"Loss auf Testdaten\", \"Loss\": 0.15632258632183074}, {\"Epoche\": 2, \"Legende\": \"Loss auf Testdaten\", \"Loss\": 0.12810141924023627}, {\"Epoche\": 3, \"Legende\": \"Loss auf Testdaten\", \"Loss\": 0.1138275850430131}, {\"Epoche\": 4, \"Legende\": \"Loss auf Testdaten\", \"Loss\": 0.10217482018768788}, {\"Epoche\": 5, \"Legende\": \"Loss auf Testdaten\", \"Loss\": 0.10194862325638533}, {\"Epoche\": 6, \"Legende\": \"Loss auf Testdaten\", \"Loss\": 0.09074614396840334}, {\"Epoche\": 7, \"Legende\": \"Loss auf Testdaten\", \"Loss\": 0.08773751300871373}, {\"Epoche\": 8, \"Legende\": \"Loss auf Testdaten\", \"Loss\": 0.08523828122466802}, {\"Epoche\": 9, \"Legende\": \"Loss auf Testdaten\", \"Loss\": 0.08349604064002633}, {\"Epoche\": 10, \"Legende\": \"Loss auf Testdaten\", \"Loss\": 0.08159890444204211}, {\"Epoche\": 11, \"Legende\": \"Loss auf Testdaten\", \"Loss\": 0.08017215382866562}], \"data-edd34589559ad4da3da42836ac5b13e3\": [{\"Epoche\": 0, \"Legende\": \"Accuracy auf Trainingsdaten\", \"Accuracy\": 0.8516333333651225}, {\"Epoche\": 1, \"Legende\": \"Accuracy auf Trainingsdaten\", \"Accuracy\": 0.9236166666666666}, {\"Epoche\": 2, \"Legende\": \"Accuracy auf Trainingsdaten\", \"Accuracy\": 0.9374499999682109}, {\"Epoche\": 3, \"Legende\": \"Accuracy auf Trainingsdaten\", \"Accuracy\": 0.9461000000317892}, {\"Epoche\": 4, \"Legende\": \"Accuracy auf Trainingsdaten\", \"Accuracy\": 0.9511333333333334}, {\"Epoche\": 5, \"Legende\": \"Accuracy auf Trainingsdaten\", \"Accuracy\": 0.9538666666348775}, {\"Epoche\": 6, \"Legende\": \"Accuracy auf Trainingsdaten\", \"Accuracy\": 0.9567000000317891}, {\"Epoche\": 7, \"Legende\": \"Accuracy auf Trainingsdaten\", \"Accuracy\": 0.9599}, {\"Epoche\": 8, \"Legende\": \"Accuracy auf Trainingsdaten\", \"Accuracy\": 0.9609333333015442}, {\"Epoche\": 9, \"Legende\": \"Accuracy auf Trainingsdaten\", \"Accuracy\": 0.9634833333333334}, {\"Epoche\": 10, \"Legende\": \"Accuracy auf Trainingsdaten\", \"Accuracy\": 0.9641166666984559}, {\"Epoche\": 11, \"Legende\": \"Accuracy auf Trainingsdaten\", \"Accuracy\": 0.9658666666666667}, {\"Epoche\": 0, \"Legende\": \"Accuracy auf Testdaten\", \"Accuracy\": 0.9361}, {\"Epoche\": 1, \"Legende\": \"Accuracy auf Testdaten\", \"Accuracy\": 0.9533}, {\"Epoche\": 2, \"Legende\": \"Accuracy auf Testdaten\", \"Accuracy\": 0.9623}, {\"Epoche\": 3, \"Legende\": \"Accuracy auf Testdaten\", \"Accuracy\": 0.9651}, {\"Epoche\": 4, \"Legende\": \"Accuracy auf Testdaten\", \"Accuracy\": 0.9699}, {\"Epoche\": 5, \"Legende\": \"Accuracy auf Testdaten\", \"Accuracy\": 0.9698}, {\"Epoche\": 6, \"Legende\": \"Accuracy auf Testdaten\", \"Accuracy\": 0.9721}, {\"Epoche\": 7, \"Legende\": \"Accuracy auf Testdaten\", \"Accuracy\": 0.9725}, {\"Epoche\": 8, \"Legende\": \"Accuracy auf Testdaten\", \"Accuracy\": 0.9746}, {\"Epoche\": 9, \"Legende\": \"Accuracy auf Testdaten\", \"Accuracy\": 0.975}, {\"Epoche\": 10, \"Legende\": \"Accuracy auf Testdaten\", \"Accuracy\": 0.9757}, {\"Epoche\": 11, \"Legende\": \"Accuracy auf Testdaten\", \"Accuracy\": 0.9753}]}};\n",
       "var opt = {};\n",
       "var type = \"vega-lite\";\n",
       "var id = \"46ca6834-60eb-489b-ae4f-fbba570149f2\";\n",
       "\n",
       "var output_area = this;\n",
       "\n",
       "require([\"nbextensions/jupyter-vega/index\"], function(vega) {\n",
       "  var target = document.createElement(\"div\");\n",
       "  target.id = id;\n",
       "  target.className = \"vega-embed\";\n",
       "\n",
       "  var style = document.createElement(\"style\");\n",
       "  style.textContent = [\n",
       "    \".vega-embed .error p {\",\n",
       "    \"  color: firebrick;\",\n",
       "    \"  font-size: 14px;\",\n",
       "    \"}\",\n",
       "  ].join(\"\\\\n\");\n",
       "\n",
       "  // element is a jQuery wrapped DOM element inside the output area\n",
       "  // see http://ipython.readthedocs.io/en/stable/api/generated/\\\n",
       "  // IPython.display.html#IPython.display.Javascript.__init__\n",
       "  element[0].appendChild(target);\n",
       "  element[0].appendChild(style);\n",
       "\n",
       "  vega.render(\"#\" + id, spec, type, opt, output_area);\n",
       "}, function (err) {\n",
       "  if (err.requireType !== \"scripterror\") {\n",
       "    throw(err);\n",
       "  }\n",
       "});\n"
      ],
      "text/plain": [
       "<vega.vegalite.VegaLite at 0x7f71843c10b8>"
      ]
     },
     "metadata": {
      "jupyter-vega": "#46ca6834-60eb-489b-ae4f-fbba570149f2"
     },
     "output_type": "display_data"
    },
    {
     "data": {
      "text/plain": []
     },
     "execution_count": 21,
     "metadata": {},
     "output_type": "execute_result"
    },
    {
     "data": {
      "image/png": "[encoded data removed]"
     },
     "metadata": {
      "jupyter-vega": "#46ca6834-60eb-489b-ae4f-fbba570149f2"
     },
     "output_type": "display_data"
    }
   ],
   "source": [
    "evaluate(model, history)"
   ]
  },
  {
   "cell_type": "code",
   "execution_count": 22,
   "metadata": {},
   "outputs": [
    {
     "name": "stdout",
     "output_type": "stream",
     "text": [
      "_________________________________________________________________\n",
      "Layer (type)                 Output Shape              Param #   \n",
      "=================================================================\n",
      "conv2d_1 (Conv2D)            (None, 26, 26, 32)        320       \n",
      "_________________________________________________________________\n",
      "conv2d_2 (Conv2D)            (None, 24, 24, 64)        18496     \n",
      "_________________________________________________________________\n",
      "max_pooling2d_1 (MaxPooling2 (None, 12, 12, 64)        0         \n",
      "_________________________________________________________________\n",
      "dropout_2 (Dropout)          (None, 12, 12, 64)        0         \n",
      "_________________________________________________________________\n",
      "flatten_4 (Flatten)          (None, 9216)              0         \n",
      "_________________________________________________________________\n",
      "dense_6 (Dense)              (None, 128)               1179776   \n",
      "_________________________________________________________________\n",
      "dropout_3 (Dropout)          (None, 128)               0         \n",
      "_________________________________________________________________\n",
      "dense_7 (Dense)              (None, 10)                1290      \n",
      "=================================================================\n",
      "Total params: 1,199,882\n",
      "Trainable params: 1,199,882\n",
      "Non-trainable params: 0\n",
      "_________________________________________________________________\n",
      "None\n"
     ]
    },
    {
     "data": {
      "image/svg+xml": [
       "<svg height=\"709pt\" viewBox=\"0.00 0.00 388.00 709.00\" width=\"388pt\" xmlns=\"http://www.w3.org/2000/svg\" xmlns:xlink=\"http://www.w3.org/1999/xlink\">\n",
       "<g class=\"graph\" id=\"graph0\" transform=\"scale(1 1) rotate(0) translate(4 705)\">\n",
       "<title>G</title>\n",
       "<polygon fill=\"#ffffff\" points=\"-4,4 -4,-705 384,-705 384,4 -4,4\" stroke=\"transparent\"/>\n",
       "<!-- 140124186924648 -->\n",
       "<g class=\"node\" id=\"node1\">\n",
       "<title>140124186924648</title>\n",
       "<polygon fill=\"none\" points=\"42,-581.5 42,-627.5 338,-627.5 338,-581.5 42,-581.5\" stroke=\"#000000\"/>\n",
       "<text fill=\"#000000\" font-family=\"Times,serif\" font-size=\"14.00\" text-anchor=\"middle\" x=\"103.5\" y=\"-600.8\">conv2d_1: Conv2D</text>\n",
       "<polyline fill=\"none\" points=\"165,-581.5 165,-627.5 \" stroke=\"#000000\"/>\n",
       "<text fill=\"#000000\" font-family=\"Times,serif\" font-size=\"14.00\" text-anchor=\"middle\" x=\"192.5\" y=\"-612.3\">input:</text>\n",
       "<polyline fill=\"none\" points=\"165,-604.5 220,-604.5 \" stroke=\"#000000\"/>\n",
       "<text fill=\"#000000\" font-family=\"Times,serif\" font-size=\"14.00\" text-anchor=\"middle\" x=\"192.5\" y=\"-589.3\">output:</text>\n",
       "<polyline fill=\"none\" points=\"220,-581.5 220,-627.5 \" stroke=\"#000000\"/>\n",
       "<text fill=\"#000000\" font-family=\"Times,serif\" font-size=\"14.00\" text-anchor=\"middle\" x=\"279\" y=\"-612.3\">(None, 28, 28, 1)</text>\n",
       "<polyline fill=\"none\" points=\"220,-604.5 338,-604.5 \" stroke=\"#000000\"/>\n",
       "<text fill=\"#000000\" font-family=\"Times,serif\" font-size=\"14.00\" text-anchor=\"middle\" x=\"279\" y=\"-589.3\">(None, 26, 26, 32)</text>\n",
       "</g>\n",
       "<!-- 140124186926160 -->\n",
       "<g class=\"node\" id=\"node2\">\n",
       "<title>140124186926160</title>\n",
       "<polygon fill=\"none\" points=\"42,-498.5 42,-544.5 338,-544.5 338,-498.5 42,-498.5\" stroke=\"#000000\"/>\n",
       "<text fill=\"#000000\" font-family=\"Times,serif\" font-size=\"14.00\" text-anchor=\"middle\" x=\"103.5\" y=\"-517.8\">conv2d_2: Conv2D</text>\n",
       "<polyline fill=\"none\" points=\"165,-498.5 165,-544.5 \" stroke=\"#000000\"/>\n",
       "<text fill=\"#000000\" font-family=\"Times,serif\" font-size=\"14.00\" text-anchor=\"middle\" x=\"192.5\" y=\"-529.3\">input:</text>\n",
       "<polyline fill=\"none\" points=\"165,-521.5 220,-521.5 \" stroke=\"#000000\"/>\n",
       "<text fill=\"#000000\" font-family=\"Times,serif\" font-size=\"14.00\" text-anchor=\"middle\" x=\"192.5\" y=\"-506.3\">output:</text>\n",
       "<polyline fill=\"none\" points=\"220,-498.5 220,-544.5 \" stroke=\"#000000\"/>\n",
       "<text fill=\"#000000\" font-family=\"Times,serif\" font-size=\"14.00\" text-anchor=\"middle\" x=\"279\" y=\"-529.3\">(None, 26, 26, 32)</text>\n",
       "<polyline fill=\"none\" points=\"220,-521.5 338,-521.5 \" stroke=\"#000000\"/>\n",
       "<text fill=\"#000000\" font-family=\"Times,serif\" font-size=\"14.00\" text-anchor=\"middle\" x=\"279\" y=\"-506.3\">(None, 24, 24, 64)</text>\n",
       "</g>\n",
       "<!-- 140124186924648&#45;&gt;140124186926160 -->\n",
       "<g class=\"edge\" id=\"edge2\">\n",
       "<title>140124186924648-&gt;140124186926160</title>\n",
       "<path d=\"M190,-581.3799C190,-573.1745 190,-563.7679 190,-554.8786\" fill=\"none\" stroke=\"#000000\"/>\n",
       "<polygon fill=\"#000000\" points=\"193.5001,-554.784 190,-544.784 186.5001,-554.784 193.5001,-554.784\" stroke=\"#000000\"/>\n",
       "</g>\n",
       "<!-- 140124186613184 -->\n",
       "<g class=\"node\" id=\"node3\">\n",
       "<title>140124186613184</title>\n",
       "<polygon fill=\"none\" points=\"0,-415.5 0,-461.5 380,-461.5 380,-415.5 0,-415.5\" stroke=\"#000000\"/>\n",
       "<text fill=\"#000000\" font-family=\"Times,serif\" font-size=\"14.00\" text-anchor=\"middle\" x=\"103.5\" y=\"-434.8\">max_pooling2d_1: MaxPooling2D</text>\n",
       "<polyline fill=\"none\" points=\"207,-415.5 207,-461.5 \" stroke=\"#000000\"/>\n",
       "<text fill=\"#000000\" font-family=\"Times,serif\" font-size=\"14.00\" text-anchor=\"middle\" x=\"234.5\" y=\"-446.3\">input:</text>\n",
       "<polyline fill=\"none\" points=\"207,-438.5 262,-438.5 \" stroke=\"#000000\"/>\n",
       "<text fill=\"#000000\" font-family=\"Times,serif\" font-size=\"14.00\" text-anchor=\"middle\" x=\"234.5\" y=\"-423.3\">output:</text>\n",
       "<polyline fill=\"none\" points=\"262,-415.5 262,-461.5 \" stroke=\"#000000\"/>\n",
       "<text fill=\"#000000\" font-family=\"Times,serif\" font-size=\"14.00\" text-anchor=\"middle\" x=\"321\" y=\"-446.3\">(None, 24, 24, 64)</text>\n",
       "<polyline fill=\"none\" points=\"262,-438.5 380,-438.5 \" stroke=\"#000000\"/>\n",
       "<text fill=\"#000000\" font-family=\"Times,serif\" font-size=\"14.00\" text-anchor=\"middle\" x=\"321\" y=\"-423.3\">(None, 12, 12, 64)</text>\n",
       "</g>\n",
       "<!-- 140124186926160&#45;&gt;140124186613184 -->\n",
       "<g class=\"edge\" id=\"edge3\">\n",
       "<title>140124186926160-&gt;140124186613184</title>\n",
       "<path d=\"M190,-498.3799C190,-490.1745 190,-480.7679 190,-471.8786\" fill=\"none\" stroke=\"#000000\"/>\n",
       "<polygon fill=\"#000000\" points=\"193.5001,-471.784 190,-461.784 186.5001,-471.784 193.5001,-471.784\" stroke=\"#000000\"/>\n",
       "</g>\n",
       "<!-- 140125526571552 -->\n",
       "<g class=\"node\" id=\"node4\">\n",
       "<title>140125526571552</title>\n",
       "<polygon fill=\"none\" points=\"41,-332.5 41,-378.5 339,-378.5 339,-332.5 41,-332.5\" stroke=\"#000000\"/>\n",
       "<text fill=\"#000000\" font-family=\"Times,serif\" font-size=\"14.00\" text-anchor=\"middle\" x=\"103.5\" y=\"-351.8\">dropout_2: Dropout</text>\n",
       "<polyline fill=\"none\" points=\"166,-332.5 166,-378.5 \" stroke=\"#000000\"/>\n",
       "<text fill=\"#000000\" font-family=\"Times,serif\" font-size=\"14.00\" text-anchor=\"middle\" x=\"193.5\" y=\"-363.3\">input:</text>\n",
       "<polyline fill=\"none\" points=\"166,-355.5 221,-355.5 \" stroke=\"#000000\"/>\n",
       "<text fill=\"#000000\" font-family=\"Times,serif\" font-size=\"14.00\" text-anchor=\"middle\" x=\"193.5\" y=\"-340.3\">output:</text>\n",
       "<polyline fill=\"none\" points=\"221,-332.5 221,-378.5 \" stroke=\"#000000\"/>\n",
       "<text fill=\"#000000\" font-family=\"Times,serif\" font-size=\"14.00\" text-anchor=\"middle\" x=\"280\" y=\"-363.3\">(None, 12, 12, 64)</text>\n",
       "<polyline fill=\"none\" points=\"221,-355.5 339,-355.5 \" stroke=\"#000000\"/>\n",
       "<text fill=\"#000000\" font-family=\"Times,serif\" font-size=\"14.00\" text-anchor=\"middle\" x=\"280\" y=\"-340.3\">(None, 12, 12, 64)</text>\n",
       "</g>\n",
       "<!-- 140124186613184&#45;&gt;140125526571552 -->\n",
       "<g class=\"edge\" id=\"edge4\">\n",
       "<title>140124186613184-&gt;140125526571552</title>\n",
       "<path d=\"M190,-415.3799C190,-407.1745 190,-397.7679 190,-388.8786\" fill=\"none\" stroke=\"#000000\"/>\n",
       "<polygon fill=\"#000000\" points=\"193.5001,-388.784 190,-378.784 186.5001,-388.784 193.5001,-388.784\" stroke=\"#000000\"/>\n",
       "</g>\n",
       "<!-- 140124186924312 -->\n",
       "<g class=\"node\" id=\"node5\">\n",
       "<title>140124186924312</title>\n",
       "<polygon fill=\"none\" points=\"48.5,-249.5 48.5,-295.5 331.5,-295.5 331.5,-249.5 48.5,-249.5\" stroke=\"#000000\"/>\n",
       "<text fill=\"#000000\" font-family=\"Times,serif\" font-size=\"14.00\" text-anchor=\"middle\" x=\"103.5\" y=\"-268.8\">flatten_4: Flatten</text>\n",
       "<polyline fill=\"none\" points=\"158.5,-249.5 158.5,-295.5 \" stroke=\"#000000\"/>\n",
       "<text fill=\"#000000\" font-family=\"Times,serif\" font-size=\"14.00\" text-anchor=\"middle\" x=\"186\" y=\"-280.3\">input:</text>\n",
       "<polyline fill=\"none\" points=\"158.5,-272.5 213.5,-272.5 \" stroke=\"#000000\"/>\n",
       "<text fill=\"#000000\" font-family=\"Times,serif\" font-size=\"14.00\" text-anchor=\"middle\" x=\"186\" y=\"-257.3\">output:</text>\n",
       "<polyline fill=\"none\" points=\"213.5,-249.5 213.5,-295.5 \" stroke=\"#000000\"/>\n",
       "<text fill=\"#000000\" font-family=\"Times,serif\" font-size=\"14.00\" text-anchor=\"middle\" x=\"272.5\" y=\"-280.3\">(None, 12, 12, 64)</text>\n",
       "<polyline fill=\"none\" points=\"213.5,-272.5 331.5,-272.5 \" stroke=\"#000000\"/>\n",
       "<text fill=\"#000000\" font-family=\"Times,serif\" font-size=\"14.00\" text-anchor=\"middle\" x=\"272.5\" y=\"-257.3\">(None, 9216)</text>\n",
       "</g>\n",
       "<!-- 140125526571552&#45;&gt;140124186924312 -->\n",
       "<g class=\"edge\" id=\"edge5\">\n",
       "<title>140125526571552-&gt;140124186924312</title>\n",
       "<path d=\"M190,-332.3799C190,-324.1745 190,-314.7679 190,-305.8786\" fill=\"none\" stroke=\"#000000\"/>\n",
       "<polygon fill=\"#000000\" points=\"193.5001,-305.784 190,-295.784 186.5001,-305.784 193.5001,-305.784\" stroke=\"#000000\"/>\n",
       "</g>\n",
       "<!-- 140124186613072 -->\n",
       "<g class=\"node\" id=\"node6\">\n",
       "<title>140124186613072</title>\n",
       "<polygon fill=\"none\" points=\"67,-166.5 67,-212.5 313,-212.5 313,-166.5 67,-166.5\" stroke=\"#000000\"/>\n",
       "<text fill=\"#000000\" font-family=\"Times,serif\" font-size=\"14.00\" text-anchor=\"middle\" x=\"118\" y=\"-185.8\">dense_6: Dense</text>\n",
       "<polyline fill=\"none\" points=\"169,-166.5 169,-212.5 \" stroke=\"#000000\"/>\n",
       "<text fill=\"#000000\" font-family=\"Times,serif\" font-size=\"14.00\" text-anchor=\"middle\" x=\"196.5\" y=\"-197.3\">input:</text>\n",
       "<polyline fill=\"none\" points=\"169,-189.5 224,-189.5 \" stroke=\"#000000\"/>\n",
       "<text fill=\"#000000\" font-family=\"Times,serif\" font-size=\"14.00\" text-anchor=\"middle\" x=\"196.5\" y=\"-174.3\">output:</text>\n",
       "<polyline fill=\"none\" points=\"224,-166.5 224,-212.5 \" stroke=\"#000000\"/>\n",
       "<text fill=\"#000000\" font-family=\"Times,serif\" font-size=\"14.00\" text-anchor=\"middle\" x=\"268.5\" y=\"-197.3\">(None, 9216)</text>\n",
       "<polyline fill=\"none\" points=\"224,-189.5 313,-189.5 \" stroke=\"#000000\"/>\n",
       "<text fill=\"#000000\" font-family=\"Times,serif\" font-size=\"14.00\" text-anchor=\"middle\" x=\"268.5\" y=\"-174.3\">(None, 128)</text>\n",
       "</g>\n",
       "<!-- 140124186924312&#45;&gt;140124186613072 -->\n",
       "<g class=\"edge\" id=\"edge6\">\n",
       "<title>140124186924312-&gt;140124186613072</title>\n",
       "<path d=\"M190,-249.3799C190,-241.1745 190,-231.7679 190,-222.8786\" fill=\"none\" stroke=\"#000000\"/>\n",
       "<polygon fill=\"#000000\" points=\"193.5001,-222.784 190,-212.784 186.5001,-222.784 193.5001,-222.784\" stroke=\"#000000\"/>\n",
       "</g>\n",
       "<!-- 140124186201336 -->\n",
       "<g class=\"node\" id=\"node7\">\n",
       "<title>140124186201336</title>\n",
       "<polygon fill=\"none\" points=\"58.5,-83.5 58.5,-129.5 321.5,-129.5 321.5,-83.5 58.5,-83.5\" stroke=\"#000000\"/>\n",
       "<text fill=\"#000000\" font-family=\"Times,serif\" font-size=\"14.00\" text-anchor=\"middle\" x=\"121\" y=\"-102.8\">dropout_3: Dropout</text>\n",
       "<polyline fill=\"none\" points=\"183.5,-83.5 183.5,-129.5 \" stroke=\"#000000\"/>\n",
       "<text fill=\"#000000\" font-family=\"Times,serif\" font-size=\"14.00\" text-anchor=\"middle\" x=\"211\" y=\"-114.3\">input:</text>\n",
       "<polyline fill=\"none\" points=\"183.5,-106.5 238.5,-106.5 \" stroke=\"#000000\"/>\n",
       "<text fill=\"#000000\" font-family=\"Times,serif\" font-size=\"14.00\" text-anchor=\"middle\" x=\"211\" y=\"-91.3\">output:</text>\n",
       "<polyline fill=\"none\" points=\"238.5,-83.5 238.5,-129.5 \" stroke=\"#000000\"/>\n",
       "<text fill=\"#000000\" font-family=\"Times,serif\" font-size=\"14.00\" text-anchor=\"middle\" x=\"280\" y=\"-114.3\">(None, 128)</text>\n",
       "<polyline fill=\"none\" points=\"238.5,-106.5 321.5,-106.5 \" stroke=\"#000000\"/>\n",
       "<text fill=\"#000000\" font-family=\"Times,serif\" font-size=\"14.00\" text-anchor=\"middle\" x=\"280\" y=\"-91.3\">(None, 128)</text>\n",
       "</g>\n",
       "<!-- 140124186613072&#45;&gt;140124186201336 -->\n",
       "<g class=\"edge\" id=\"edge7\">\n",
       "<title>140124186613072-&gt;140124186201336</title>\n",
       "<path d=\"M190,-166.3799C190,-158.1745 190,-148.7679 190,-139.8786\" fill=\"none\" stroke=\"#000000\"/>\n",
       "<polygon fill=\"#000000\" points=\"193.5001,-139.784 190,-129.784 186.5001,-139.784 193.5001,-139.784\" stroke=\"#000000\"/>\n",
       "</g>\n",
       "<!-- 140124186067464 -->\n",
       "<g class=\"node\" id=\"node8\">\n",
       "<title>140124186067464</title>\n",
       "<polygon fill=\"none\" points=\"70,-.5 70,-46.5 310,-46.5 310,-.5 70,-.5\" stroke=\"#000000\"/>\n",
       "<text fill=\"#000000\" font-family=\"Times,serif\" font-size=\"14.00\" text-anchor=\"middle\" x=\"121\" y=\"-19.8\">dense_7: Dense</text>\n",
       "<polyline fill=\"none\" points=\"172,-.5 172,-46.5 \" stroke=\"#000000\"/>\n",
       "<text fill=\"#000000\" font-family=\"Times,serif\" font-size=\"14.00\" text-anchor=\"middle\" x=\"199.5\" y=\"-31.3\">input:</text>\n",
       "<polyline fill=\"none\" points=\"172,-23.5 227,-23.5 \" stroke=\"#000000\"/>\n",
       "<text fill=\"#000000\" font-family=\"Times,serif\" font-size=\"14.00\" text-anchor=\"middle\" x=\"199.5\" y=\"-8.3\">output:</text>\n",
       "<polyline fill=\"none\" points=\"227,-.5 227,-46.5 \" stroke=\"#000000\"/>\n",
       "<text fill=\"#000000\" font-family=\"Times,serif\" font-size=\"14.00\" text-anchor=\"middle\" x=\"268.5\" y=\"-31.3\">(None, 128)</text>\n",
       "<polyline fill=\"none\" points=\"227,-23.5 310,-23.5 \" stroke=\"#000000\"/>\n",
       "<text fill=\"#000000\" font-family=\"Times,serif\" font-size=\"14.00\" text-anchor=\"middle\" x=\"268.5\" y=\"-8.3\">(None, 10)</text>\n",
       "</g>\n",
       "<!-- 140124186201336&#45;&gt;140124186067464 -->\n",
       "<g class=\"edge\" id=\"edge8\">\n",
       "<title>140124186201336-&gt;140124186067464</title>\n",
       "<path d=\"M190,-83.3799C190,-75.1745 190,-65.7679 190,-56.8786\" fill=\"none\" stroke=\"#000000\"/>\n",
       "<polygon fill=\"#000000\" points=\"193.5001,-56.784 190,-46.784 186.5001,-56.784 193.5001,-56.784\" stroke=\"#000000\"/>\n",
       "</g>\n",
       "<!-- 140124186925656 -->\n",
       "<g class=\"node\" id=\"node9\">\n",
       "<title>140124186925656</title>\n",
       "<polygon fill=\"none\" points=\"131,-664.5 131,-700.5 249,-700.5 249,-664.5 131,-664.5\" stroke=\"#000000\"/>\n",
       "<text fill=\"#000000\" font-family=\"Times,serif\" font-size=\"14.00\" text-anchor=\"middle\" x=\"190\" y=\"-678.8\">140124186925656</text>\n",
       "</g>\n",
       "<!-- 140124186925656&#45;&gt;140124186924648 -->\n",
       "<g class=\"edge\" id=\"edge1\">\n",
       "<title>140124186925656-&gt;140124186924648</title>\n",
       "<path d=\"M190,-664.4092C190,-656.4308 190,-646.795 190,-637.606\" fill=\"none\" stroke=\"#000000\"/>\n",
       "<polygon fill=\"#000000\" points=\"193.5001,-637.5333 190,-627.5333 186.5001,-637.5334 193.5001,-637.5333\" stroke=\"#000000\"/>\n",
       "</g>\n",
       "</g>\n",
       "</svg>"
      ],
      "text/plain": [
       "<IPython.core.display.SVG object>"
      ]
     },
     "execution_count": 22,
     "metadata": {},
     "output_type": "execute_result"
    }
   ],
   "source": [
    "model = Sequential()\n",
    "model.add(Conv2D(\n",
    "             32, kernel_size=(3, 3), \n",
    "             activation='relu', \n",
    "             input_shape=input_shape))\n",
    "model.add(Conv2D(\n",
    "             64, kernel_size=(3, 3), \n",
    "             activation='relu'))\n",
    "model.add(MaxPooling2D(\n",
    "             pool_size=(2, 2)))\n",
    "model.add(Dropout(0.25))\n",
    "model.add(Flatten())\n",
    "model.add(Dense(128, activation='relu'))\n",
    "model.add(Dropout(rate=0.5))\n",
    "model.add(Dense(num_classes, activation='softmax'))\n",
    "print(model.summary())\n",
    "SVG(model_to_dot(model, show_shapes=True).create(prog='dot', format='svg'))"
   ]
  },
  {
   "cell_type": "markdown",
   "metadata": {},
   "source": [
    "![Struktur des Convolutional Network](Convnet.svg)"
   ]
  },
  {
   "cell_type": "code",
   "execution_count": 23,
   "metadata": {},
   "outputs": [
    {
     "name": "stdout",
     "output_type": "stream",
     "text": [
      "Train on 60000 samples, validate on 10000 samples\n",
      "Epoch 1/12\n",
      "60000/60000 [==============================] - 77s 1ms/step - loss: 0.2497 - acc: 0.9239 - val_loss: 0.0545 - val_acc: 0.9829\n",
      "Epoch 2/12\n",
      "60000/60000 [==============================] - 76s 1ms/step - loss: 0.0844 - acc: 0.9751 - val_loss: 0.0406 - val_acc: 0.9864\n",
      "Epoch 3/12\n",
      "60000/60000 [==============================] - 78s 1ms/step - loss: 0.0650 - acc: 0.9802 - val_loss: 0.0387 - val_acc: 0.9867\n",
      "Epoch 4/12\n",
      "60000/60000 [==============================] - 78s 1ms/step - loss: 0.0529 - acc: 0.9838 - val_loss: 0.0329 - val_acc: 0.9886\n",
      "Epoch 5/12\n",
      "60000/60000 [==============================] - 77s 1ms/step - loss: 0.0455 - acc: 0.9858 - val_loss: 0.0292 - val_acc: 0.9897\n",
      "Epoch 6/12\n",
      "60000/60000 [==============================] - 73s 1ms/step - loss: 0.0393 - acc: 0.9876 - val_loss: 0.0259 - val_acc: 0.9909\n",
      "Epoch 7/12\n",
      "60000/60000 [==============================] - 73s 1ms/step - loss: 0.0359 - acc: 0.9880 - val_loss: 0.0250 - val_acc: 0.9916\n",
      "Epoch 8/12\n",
      "60000/60000 [==============================] - 73s 1ms/step - loss: 0.0333 - acc: 0.9894 - val_loss: 0.0291 - val_acc: 0.9904\n",
      "Epoch 9/12\n",
      "60000/60000 [==============================] - 72s 1ms/step - loss: 0.0302 - acc: 0.9902 - val_loss: 0.0327 - val_acc: 0.9907\n",
      "Epoch 10/12\n",
      "60000/60000 [==============================] - 73s 1ms/step - loss: 0.0259 - acc: 0.9919 - val_loss: 0.0280 - val_acc: 0.9921\n",
      "Epoch 11/12\n",
      "60000/60000 [==============================] - 73s 1ms/step - loss: 0.0249 - acc: 0.9918 - val_loss: 0.0264 - val_acc: 0.9915\n",
      "Epoch 12/12\n",
      "60000/60000 [==============================] - 73s 1ms/step - loss: 0.0246 - acc: 0.9921 - val_loss: 0.0256 - val_acc: 0.9921\n"
     ]
    }
   ],
   "source": [
    "batch_size = 128\n",
    "epochs = 12\n",
    "\n",
    "model.compile(loss=categorical_crossentropy,\n",
    "              optimizer=Adam(),\n",
    "              metrics=['accuracy'])\n",
    "\n",
    "history = model.fit(\n",
    "    x_train, y_train,\n",
    "    batch_size=batch_size,\n",
    "    epochs=epochs,\n",
    "    verbose=1,\n",
    "    validation_data=(x_test, y_test)\n",
    ")"
   ]
  },
  {
   "cell_type": "code",
   "execution_count": 24,
   "metadata": {},
   "outputs": [
    {
     "name": "stdout",
     "output_type": "stream",
     "text": [
      "Test loss: 0.02564258592150827\n",
      "Test accuracy: 0.9921\n"
     ]
    },
    {
     "data": {
      "application/javascript": [
       "var spec = {\"config\": {\"view\": {\"width\": 400, \"height\": 300}, \"mark\": {\"tooltip\": null}}, \"layer\": [{\"data\": {\"name\": \"data-eca50cf9ba1284722f1f90137f68c555\"}, \"mark\": \"line\", \"encoding\": {\"color\": {\"type\": \"nominal\", \"field\": \"Legende\"}, \"x\": {\"type\": \"quantitative\", \"field\": \"Epoche\"}, \"y\": {\"type\": \"quantitative\", \"field\": \"Loss\"}}}, {\"data\": {\"name\": \"data-6409173ff1b00559387dae7916586f8e\"}, \"mark\": \"line\", \"encoding\": {\"color\": {\"type\": \"nominal\", \"field\": \"Legende\"}, \"x\": {\"type\": \"quantitative\", \"field\": \"Epoche\"}, \"y\": {\"type\": \"quantitative\", \"field\": \"Accuracy\"}}}], \"resolve\": {\"scale\": {\"y\": \"independent\"}}, \"$schema\": \"https://vega.github.io/schema/vega-lite/v3.2.1.json\", \"datasets\": {\"data-eca50cf9ba1284722f1f90137f68c555\": [{\"Epoche\": 0, \"Legende\": \"Loss auf Trainingsdaten\", \"Loss\": 0.24967258448600768}, {\"Epoche\": 1, \"Legende\": \"Loss auf Trainingsdaten\", \"Loss\": 0.0843580350180467}, {\"Epoche\": 2, \"Legende\": \"Loss auf Trainingsdaten\", \"Loss\": 0.06502321128447851}, {\"Epoche\": 3, \"Legende\": \"Loss auf Trainingsdaten\", \"Loss\": 0.05289871949255467}, {\"Epoche\": 4, \"Legende\": \"Loss auf Trainingsdaten\", \"Loss\": 0.04554858501156171}, {\"Epoche\": 5, \"Legende\": \"Loss auf Trainingsdaten\", \"Loss\": 0.039303532448162634}, {\"Epoche\": 6, \"Legende\": \"Loss auf Trainingsdaten\", \"Loss\": 0.03591550404528777}, {\"Epoche\": 7, \"Legende\": \"Loss auf Trainingsdaten\", \"Loss\": 0.03327872640937567}, {\"Epoche\": 8, \"Legende\": \"Loss auf Trainingsdaten\", \"Loss\": 0.03021293725495537}, {\"Epoche\": 9, \"Legende\": \"Loss auf Trainingsdaten\", \"Loss\": 0.025873731976250806}, {\"Epoche\": 10, \"Legende\": \"Loss auf Trainingsdaten\", \"Loss\": 0.024916666929672163}, {\"Epoche\": 11, \"Legende\": \"Loss auf Trainingsdaten\", \"Loss\": 0.024571075666695832}, {\"Epoche\": 0, \"Legende\": \"Loss auf Testdaten\", \"Loss\": 0.0544818687427789}, {\"Epoche\": 1, \"Legende\": \"Loss auf Testdaten\", \"Loss\": 0.040614952888898555}, {\"Epoche\": 2, \"Legende\": \"Loss auf Testdaten\", \"Loss\": 0.03869701863797381}, {\"Epoche\": 3, \"Legende\": \"Loss auf Testdaten\", \"Loss\": 0.03289624778954312}, {\"Epoche\": 4, \"Legende\": \"Loss auf Testdaten\", \"Loss\": 0.029201754446420817}, {\"Epoche\": 5, \"Legende\": \"Loss auf Testdaten\", \"Loss\": 0.025860797816701232}, {\"Epoche\": 6, \"Legende\": \"Loss auf Testdaten\", \"Loss\": 0.024969784744339994}, {\"Epoche\": 7, \"Legende\": \"Loss auf Testdaten\", \"Loss\": 0.029137067363224925}, {\"Epoche\": 8, \"Legende\": \"Loss auf Testdaten\", \"Loss\": 0.03272586367369949}, {\"Epoche\": 9, \"Legende\": \"Loss auf Testdaten\", \"Loss\": 0.02799929396253574}, {\"Epoche\": 10, \"Legende\": \"Loss auf Testdaten\", \"Loss\": 0.02636656496204232}, {\"Epoche\": 11, \"Legende\": \"Loss auf Testdaten\", \"Loss\": 0.025642585103589226}], \"data-6409173ff1b00559387dae7916586f8e\": [{\"Epoche\": 0, \"Legende\": \"Accuracy auf Trainingsdaten\", \"Accuracy\": 0.9239}, {\"Epoche\": 1, \"Legende\": \"Accuracy auf Trainingsdaten\", \"Accuracy\": 0.9751166666348775}, {\"Epoche\": 2, \"Legende\": \"Accuracy auf Trainingsdaten\", \"Accuracy\": 0.9802499999682108}, {\"Epoche\": 3, \"Legende\": \"Accuracy auf Trainingsdaten\", \"Accuracy\": 0.9838333333651225}, {\"Epoche\": 4, \"Legende\": \"Accuracy auf Trainingsdaten\", \"Accuracy\": 0.9857666666348776}, {\"Epoche\": 5, \"Legende\": \"Accuracy auf Trainingsdaten\", \"Accuracy\": 0.9876333333015442}, {\"Epoche\": 6, \"Legende\": \"Accuracy auf Trainingsdaten\", \"Accuracy\": 0.9880000000317891}, {\"Epoche\": 7, \"Legende\": \"Accuracy auf Trainingsdaten\", \"Accuracy\": 0.9893666666666666}, {\"Epoche\": 8, \"Legende\": \"Accuracy auf Trainingsdaten\", \"Accuracy\": 0.9902333333015442}, {\"Epoche\": 9, \"Legende\": \"Accuracy auf Trainingsdaten\", \"Accuracy\": 0.99185}, {\"Epoche\": 10, \"Legende\": \"Accuracy auf Trainingsdaten\", \"Accuracy\": 0.9918166666666667}, {\"Epoche\": 11, \"Legende\": \"Accuracy auf Trainingsdaten\", \"Accuracy\": 0.9921499999682108}, {\"Epoche\": 0, \"Legende\": \"Accuracy auf Testdaten\", \"Accuracy\": 0.9829}, {\"Epoche\": 1, \"Legende\": \"Accuracy auf Testdaten\", \"Accuracy\": 0.9864}, {\"Epoche\": 2, \"Legende\": \"Accuracy auf Testdaten\", \"Accuracy\": 0.9867}, {\"Epoche\": 3, \"Legende\": \"Accuracy auf Testdaten\", \"Accuracy\": 0.9886}, {\"Epoche\": 4, \"Legende\": \"Accuracy auf Testdaten\", \"Accuracy\": 0.9897}, {\"Epoche\": 5, \"Legende\": \"Accuracy auf Testdaten\", \"Accuracy\": 0.9909}, {\"Epoche\": 6, \"Legende\": \"Accuracy auf Testdaten\", \"Accuracy\": 0.9916}, {\"Epoche\": 7, \"Legende\": \"Accuracy auf Testdaten\", \"Accuracy\": 0.9904}, {\"Epoche\": 8, \"Legende\": \"Accuracy auf Testdaten\", \"Accuracy\": 0.9907}, {\"Epoche\": 9, \"Legende\": \"Accuracy auf Testdaten\", \"Accuracy\": 0.9921}, {\"Epoche\": 10, \"Legende\": \"Accuracy auf Testdaten\", \"Accuracy\": 0.9915}, {\"Epoche\": 11, \"Legende\": \"Accuracy auf Testdaten\", \"Accuracy\": 0.9921}]}};\n",
       "var opt = {};\n",
       "var type = \"vega-lite\";\n",
       "var id = \"1495c763-21ee-41e2-b2c1-bc2e94850f4d\";\n",
       "\n",
       "var output_area = this;\n",
       "\n",
       "require([\"nbextensions/jupyter-vega/index\"], function(vega) {\n",
       "  var target = document.createElement(\"div\");\n",
       "  target.id = id;\n",
       "  target.className = \"vega-embed\";\n",
       "\n",
       "  var style = document.createElement(\"style\");\n",
       "  style.textContent = [\n",
       "    \".vega-embed .error p {\",\n",
       "    \"  color: firebrick;\",\n",
       "    \"  font-size: 14px;\",\n",
       "    \"}\",\n",
       "  ].join(\"\\\\n\");\n",
       "\n",
       "  // element is a jQuery wrapped DOM element inside the output area\n",
       "  // see http://ipython.readthedocs.io/en/stable/api/generated/\\\n",
       "  // IPython.display.html#IPython.display.Javascript.__init__\n",
       "  element[0].appendChild(target);\n",
       "  element[0].appendChild(style);\n",
       "\n",
       "  vega.render(\"#\" + id, spec, type, opt, output_area);\n",
       "}, function (err) {\n",
       "  if (err.requireType !== \"scripterror\") {\n",
       "    throw(err);\n",
       "  }\n",
       "});\n"
      ],
      "text/plain": [
       "<vega.vegalite.VegaLite at 0x7f713443d048>"
      ]
     },
     "metadata": {
      "jupyter-vega": "#1495c763-21ee-41e2-b2c1-bc2e94850f4d"
     },
     "output_type": "display_data"
    },
    {
     "data": {
      "text/plain": []
     },
     "execution_count": 24,
     "metadata": {},
     "output_type": "execute_result"
    },
    {
     "data": {
      "image/png": "[encoded data removed]"
     },
     "metadata": {
      "jupyter-vega": "#1495c763-21ee-41e2-b2c1-bc2e94850f4d"
     },
     "output_type": "display_data"
    }
   ],
   "source": [
    "evaluate(model, history)"
   ]
  },
  {
   "cell_type": "markdown",
   "metadata": {},
   "source": [
    "Schöne 3D-Visualisierung eines Convolutional Networks für MNIST: http://scs.ryerson.ca/~aharley/vis/conv/"
   ]
  },
  {
   "cell_type": "code",
   "execution_count": null,
   "metadata": {},
   "outputs": [],
   "source": []
  }
 ],
 "metadata": {
  "kernelspec": {
   "display_name": "Python 3",
   "language": "python",
   "name": "python3"
  },
  "language_info": {
   "codemirror_mode": {
    "name": "ipython",
    "version": 3
   },
   "file_extension": ".py",
   "mimetype": "text/x-python",
   "name": "python",
   "nbconvert_exporter": "python",
   "pygments_lexer": "ipython3",
   "version": "3.6.8"
  }
 },
 "nbformat": 4,
 "nbformat_minor": 2
}
